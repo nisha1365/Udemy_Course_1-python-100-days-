{
  "nbformat": 4,
  "nbformat_minor": 0,
  "metadata": {
    "colab": {
      "provenance": [],
      "authorship_tag": "ABX9TyM0CopVJO8hx9O/CgudGrhy",
      "include_colab_link": true
    },
    "kernelspec": {
      "name": "python3",
      "display_name": "Python 3"
    },
    "language_info": {
      "name": "python"
    }
  },
  "cells": [
    {
      "cell_type": "markdown",
      "metadata": {
        "id": "view-in-github",
        "colab_type": "text"
      },
      "source": [
        "<a href=\"https://colab.research.google.com/github/nisha1365/Udemy_Course_1-python-100-days-/blob/main/Section_84.ipynb\" target=\"_parent\"><img src=\"https://colab.research.google.com/assets/colab-badge.svg\" alt=\"Open In Colab\"/></a>"
      ]
    },
    {
      "cell_type": "code",
      "execution_count": null,
      "metadata": {
        "id": "hK-RGRSn6-Ch"
      },
      "outputs": [],
      "source": [
        "!python -m pip install pillow"
      ]
    },
    {
      "cell_type": "code",
      "source": [
        "\n",
        "# importing the library\n",
        "from PIL import Image\n",
        "import matplotlib.pyplot as plt\n",
        "import numpy as np"
      ],
      "metadata": {
        "id": "PQlOhBVW7GmO"
      },
      "execution_count": null,
      "outputs": []
    },
    {
      "cell_type": "code",
      "source": [
        "#Import required Image library\n",
        "from PIL import Image, ImageDraw, ImageFont\n",
        "\n",
        "#Create an Image Object from an Image\n",
        "im = Image.open('images/boy.jpg')\n",
        "width, height = im.size\n",
        "\n",
        "draw = ImageDraw.Draw(im)\n",
        "text = \"sample watermark\"\n",
        "\n",
        "font = ImageFont.truetype('arial.ttf', 36)\n",
        "textwidth, textheight = draw.textsize(text, font)\n",
        "\n",
        "# calculate the x,y coordinates of the text\n",
        "margin = 10\n",
        "x = width - textwidth - margin\n",
        "y = height - textheight - margin\n",
        "\n",
        "# draw watermark in the bottom right corner\n",
        "draw.text((x, y), text, font=font)\n",
        "im.show()\n",
        "\n",
        "#Save watermarked image\n",
        "im.save('images/watermark.jpg')"
      ],
      "metadata": {
        "id": "U1ELsmIy7VkG"
      },
      "execution_count": null,
      "outputs": []
    }
  ]
}