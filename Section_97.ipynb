{
  "nbformat": 4,
  "nbformat_minor": 0,
  "metadata": {
    "colab": {
      "provenance": [],
      "authorship_tag": "ABX9TyP95XTvUMrCB5fnh6z11891",
      "include_colab_link": true
    },
    "kernelspec": {
      "name": "python3",
      "display_name": "Python 3"
    },
    "language_info": {
      "name": "python"
    }
  },
  "cells": [
    {
      "cell_type": "markdown",
      "metadata": {
        "id": "view-in-github",
        "colab_type": "text"
      },
      "source": [
        "<a href=\"https://colab.research.google.com/github/nisha1365/Udemy_Course_1-python-100-days-/blob/main/Section_97.ipynb\" target=\"_parent\"><img src=\"https://colab.research.google.com/assets/colab-badge.svg\" alt=\"Open In Colab\"/></a>"
      ]
    },
    {
      "cell_type": "markdown",
      "source": [
        "Twitter"
      ],
      "metadata": {
        "id": "u0y8KMCzSn7M"
      }
    },
    {
      "cell_type": "code",
      "source": [
        "# -*- coding: utf-8 -*-\n",
        "# !/usr/bin/env python3\n",
        "\n",
        "from twython import Twython, TwythonError\n",
        "from section_9.accounts import TWITTER\n",
        "\n",
        "\n",
        "def tweet(twitter, message):\n",
        "    print('Tweeting: \"{}\"'.format(message))\n",
        "    try:\n",
        "        twitter.update_status(status=message)\n",
        "        print('Done')\n",
        "    except TwythonError as e:\n",
        "        print('Impossible to tweet, reason: {}'.format(e))\n",
        "\n",
        "\n",
        "def search_tweets(twitter, query, how_many=10, kind='recent'):\n",
        "    try:\n",
        "        result_set = twitter.search(q=query, count=how_many, result_type=kind)\n",
        "        return result_set['statuses']\n",
        "    except TwythonError as e:\n",
        "        print('Something bad happened, reason: {}'.format(e))\n",
        "        return []\n",
        "\n",
        "\n",
        "def retweet(twitter, tweet_id):\n",
        "    print('Retweeting tweet with ID={}'.format(tweet_id))\n",
        "    try:\n",
        "        twitter.retweet(id=tweet_id)\n",
        "        print('Done')\n",
        "    except TwythonError as e:\n",
        "        print('Impossible to retweet, reason: {}'.format(e))\n",
        "\n",
        "\n",
        "if __name__ == '__main__':\n",
        "\n",
        "    # Retrieve tokens\n",
        "    CONSUMER_KEY = TWITTER.get('consumer_key', None)\n",
        "    CONSUMER_KEY_SECRET =  TWITTER.get('consumer_key_secret', None)\n",
        "    ACCESS_TOKEN = TWITTER.get('access_token', None)\n",
        "    ACCESS_TOKEN_SECRET = TWITTER.get('access_token_secret', None)\n",
        "\n",
        "    # Instantiate the Twitter API local proxy using the tokens\n",
        "    twitter = Twython(CONSUMER_KEY, CONSUMER_KEY_SECRET,\n",
        "                      ACCESS_TOKEN, ACCESS_TOKEN_SECRET)\n",
        "\n",
        "    # Tweet!\n",
        "    tweet(twitter, '#amor vincit omnia')\n",
        "\n",
        "    # Now search for similar tweets\n",
        "    tweets = search_tweets(twitter, 'amor vincit', how_many=20, kind='recent')\n",
        "    for t in tweets:\n",
        "        print('\\n*** Tweet {} by {} [{}]: {}'.format(t['id_str'], t['user']['name'],\n",
        "                                                   t['created_at'], t['text']))"
      ],
      "metadata": {
        "id": "eM5L3Ws6So2v"
      },
      "execution_count": null,
      "outputs": []
    }
  ]
}