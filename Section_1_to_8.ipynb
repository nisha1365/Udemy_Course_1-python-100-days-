{
  "nbformat": 4,
  "nbformat_minor": 0,
  "metadata": {
    "colab": {
      "provenance": [],
      "collapsed_sections": [],
      "authorship_tag": "ABX9TyPRmil+03Iuvr/aX/E2sKC8",
      "include_colab_link": true
    },
    "kernelspec": {
      "name": "python3",
      "display_name": "Python 3"
    },
    "language_info": {
      "name": "python"
    }
  },
  "cells": [
    {
      "cell_type": "markdown",
      "metadata": {
        "id": "view-in-github",
        "colab_type": "text"
      },
      "source": [
        "<a href=\"https://colab.research.google.com/github/nisha1365/Udemy_Course_1-python-100-days-/blob/main/Section_1_to_8.ipynb\" target=\"_parent\"><img src=\"https://colab.research.google.com/assets/colab-badge.svg\" alt=\"Open In Colab\"/></a>"
      ]
    },
    {
      "cell_type": "code",
      "source": [
        "print('Hello World!')"
      ],
      "metadata": {
        "id": "v6HOL5VlUSaU",
        "colab": {
          "base_uri": "https://localhost:8080/"
        },
        "outputId": "1816bc24-b804-4307-b74f-296555562d30"
      },
      "execution_count": null,
      "outputs": [
        {
          "output_type": "stream",
          "name": "stdout",
          "text": [
            "Hello World!\n"
          ]
        }
      ]
    },
    {
      "cell_type": "markdown",
      "source": [
        "BMI Calculator"
      ],
      "metadata": {
        "id": "mKKcLck9beDA"
      }
    },
    {
      "cell_type": "code",
      "source": [
        "height = input(\"enter your height in m: \")\n",
        "weight = input(\"enter your weight in kg: \")\n",
        "\n",
        "bmi = int(weight) / float(height) ** 2\n",
        "print(bmi)"
      ],
      "metadata": {
        "colab": {
          "base_uri": "https://localhost:8080/"
        },
        "id": "F_zyRfvobiUP",
        "outputId": "a065444d-321a-48cf-b7f9-266e5e898157"
      },
      "execution_count": null,
      "outputs": [
        {
          "output_type": "stream",
          "name": "stdout",
          "text": [
            "enter your height in m: 1.8\n",
            "enter your weight in kg: 43\n",
            "13.271604938271604\n"
          ]
        }
      ]
    },
    {
      "cell_type": "code",
      "source": [
        "print(int(8/3))"
      ],
      "metadata": {
        "colab": {
          "base_uri": "https://localhost:8080/"
        },
        "id": "hu4Di57pcReu",
        "outputId": "40c471a7-13d9-452d-c3fa-ae80b68caf5e"
      },
      "execution_count": null,
      "outputs": [
        {
          "output_type": "stream",
          "name": "stdout",
          "text": [
            "2\n"
          ]
        }
      ]
    },
    {
      "cell_type": "code",
      "source": [
        "print(round(8/3,2))"
      ],
      "metadata": {
        "colab": {
          "base_uri": "https://localhost:8080/"
        },
        "id": "36INgNrScS9e",
        "outputId": "76bf85c9-bcb4-4d02-a4cb-fc2ba4b0c130"
      },
      "execution_count": null,
      "outputs": [
        {
          "output_type": "stream",
          "name": "stdout",
          "text": [
            "2.67\n"
          ]
        }
      ]
    },
    {
      "cell_type": "code",
      "source": [
        "score = 2\n",
        "height = 54\n",
        "iswinning = True\n",
        "\n",
        "print(f\"your score is {score}, your height is {height} and {iswinning}\")"
      ],
      "metadata": {
        "colab": {
          "base_uri": "https://localhost:8080/"
        },
        "id": "D3DenZb5cbVQ",
        "outputId": "7f1eb38d-7578-4027-fe1a-62ab0c7e4f1a"
      },
      "execution_count": null,
      "outputs": [
        {
          "output_type": "stream",
          "name": "stdout",
          "text": [
            "your score is 2, your height is 54 and True\n"
          ]
        }
      ]
    },
    {
      "cell_type": "code",
      "source": [
        "age = input(\"what is your age?\")\n",
        "\n",
        "age_as_int = int(age)\n",
        "\n",
        "years_remaining = 90 - age_as_int\n",
        "\n",
        "days_remaining = years_remaining * 365\n",
        "weeks_remaining = years_remaining * 52\n",
        "months_remaining = years_remaining * 12\n",
        "\n",
        "message = f\" you have {days_remaining} days,{weeks_remaining} weeks, and {months_remaining} months\"\n",
        "print(message)"
      ],
      "metadata": {
        "colab": {
          "base_uri": "https://localhost:8080/"
        },
        "id": "0NhRXOJ_d4ZB",
        "outputId": "a83b960d-594a-4842-8a21-2632ebeed3ed"
      },
      "execution_count": null,
      "outputs": [
        {
          "output_type": "stream",
          "name": "stdout",
          "text": [
            "what is your age?24\n",
            " you have 24090 days,3432 weeks, and 792 months\n"
          ]
        }
      ]
    },
    {
      "cell_type": "code",
      "source": [
        "print(6+4 / 2 - (1 * 2))"
      ],
      "metadata": {
        "colab": {
          "base_uri": "https://localhost:8080/"
        },
        "id": "Qn8mdl-ieYog",
        "outputId": "01614125-b27b-44d6-9a6d-fca04cc78af1"
      },
      "execution_count": null,
      "outputs": [
        {
          "output_type": "stream",
          "name": "stdout",
          "text": [
            "6.0\n"
          ]
        }
      ]
    },
    {
      "cell_type": "code",
      "source": [
        "a = int(\"5\") / int(2.7)\n",
        "type(a)"
      ],
      "metadata": {
        "colab": {
          "base_uri": "https://localhost:8080/"
        },
        "id": "pQl_gBUGfP1o",
        "outputId": "ba53a1f1-908d-4303-f74f-24ac182e0509"
      },
      "execution_count": null,
      "outputs": [
        {
          "output_type": "execute_result",
          "data": {
            "text/plain": [
              "float"
            ]
          },
          "metadata": {},
          "execution_count": 13
        }
      ]
    },
    {
      "cell_type": "markdown",
      "source": [
        "TIP CALCULATOR"
      ],
      "metadata": {
        "id": "x6VkvyIJfrMC"
      }
    },
    {
      "cell_type": "code",
      "source": [
        "print(\"welcome to the tip calculator!\")\n",
        "\n",
        "bill = float(input(\"what was the total bill? $\"))\n",
        "tip = int(input(\"how much tip would you like to give ? 10,12, or 15? \"))\n",
        "people = int(input(\"how many people to split the bill?\"))\n",
        "\n",
        "bill_with_tip = tip / 100 * bill + bill\n",
        "print(bill_with_tip)"
      ],
      "metadata": {
        "colab": {
          "base_uri": "https://localhost:8080/"
        },
        "id": "E0JIvulLfsoi",
        "outputId": "add72d6b-a48f-4907-9690-28c81946291c"
      },
      "execution_count": null,
      "outputs": [
        {
          "output_type": "stream",
          "name": "stdout",
          "text": [
            "welcome to the tip calculator!\n",
            "what was the total bill? $100\n",
            "how much tip would you like to give ? 10,12, or 15? 10\n",
            "how many people to split the bill?4\n",
            "110.0\n"
          ]
        }
      ]
    },
    {
      "cell_type": "code",
      "source": [
        "water_level = 50\n",
        "\n",
        "if water_level > 80:\n",
        "  print(\"Drain water\")\n",
        "else:\n",
        "  print(\"Continue\")  "
      ],
      "metadata": {
        "colab": {
          "base_uri": "https://localhost:8080/"
        },
        "id": "K0waD7dmfcYg",
        "outputId": "b04edb3a-21de-45da-993c-b7a0488adf26"
      },
      "execution_count": null,
      "outputs": [
        {
          "output_type": "stream",
          "name": "stdout",
          "text": [
            "Continue\n"
          ]
        }
      ]
    },
    {
      "cell_type": "code",
      "source": [
        "print(\"Welcome to the rollercoaster!\")\n",
        "height = int(input(\"What is your height in cm? \"))\n",
        "\n",
        "if height > 120:\n",
        "  print(\"you can ride\")\n",
        "else:\n",
        "  print(\"sorry, you can't ride\")  "
      ],
      "metadata": {
        "colab": {
          "base_uri": "https://localhost:8080/"
        },
        "id": "ckMmaIpdnyFi",
        "outputId": "7160a13c-95bf-4a96-ece0-cc1cd86b2124"
      },
      "execution_count": null,
      "outputs": [
        {
          "output_type": "stream",
          "name": "stdout",
          "text": [
            "Welcome to the rollercoaster!\n",
            "What is your height in cm? 128\n",
            "you can ride\n"
          ]
        }
      ]
    },
    {
      "cell_type": "code",
      "source": [
        "number = int(input(\"which number do you want to enter! \"))\n",
        "\n",
        "if number % 2 == 0:\n",
        "  print(\"This is a even number\")\n",
        "else:\n",
        "  print(\"This is an odd number\")  "
      ],
      "metadata": {
        "colab": {
          "base_uri": "https://localhost:8080/"
        },
        "id": "qIevTKbVof0Z",
        "outputId": "9546a3bf-9c08-4c9e-b726-1ca1382be4a0"
      },
      "execution_count": null,
      "outputs": [
        {
          "output_type": "stream",
          "name": "stdout",
          "text": [
            "which number do you want to enter! 31\n",
            "This is an odd number\n"
          ]
        }
      ]
    },
    {
      "cell_type": "code",
      "source": [
        "print(\"Welcome to the rollercoaster!\")\n",
        "height = int(input(\"What is your height in cm? \"))\n",
        "\n",
        "if height > 120:\n",
        "  print(\"you can ride\")\n",
        "  age = int(input(\"What is your age? \"))\n",
        "  if age < 12:\n",
        "    print(\"Please pay $5\")\n",
        "  elif age <= 18:\n",
        "    print(\"Please pay $17\")  \n",
        "  else:\n",
        "    print(\"Please pay $12.\")  \n",
        "else:\n",
        "  print(\"sorry, you can't ride\")  "
      ],
      "metadata": {
        "colab": {
          "base_uri": "https://localhost:8080/"
        },
        "id": "H1dLxQqcpFB8",
        "outputId": "f876d4bf-faab-470a-9141-8bc995db2637"
      },
      "execution_count": null,
      "outputs": [
        {
          "output_type": "stream",
          "name": "stdout",
          "text": [
            "Welcome to the rollercoaster!\n",
            "What is your height in cm? 121\n",
            "you can ride\n",
            "What is your age? 18\n",
            "Please pay $17\n"
          ]
        }
      ]
    },
    {
      "cell_type": "code",
      "source": [
        "year = int(input(\"which year do you want to check?\"))\n",
        "if year % 4 == 0:\n",
        "  if year % 100 == 0:\n",
        "    if year % 100:\n",
        "      print(\"Leap year\")\n",
        "    else:\n",
        "        print(\"Not Leap year\")\n",
        "  else:\n",
        "      print(\"Leap year\")\n",
        "else:\n",
        "  print(\"Not Leap year! \")  \n"
      ],
      "metadata": {
        "colab": {
          "base_uri": "https://localhost:8080/"
        },
        "id": "tlskZuqBqTXf",
        "outputId": "108b231b-730f-4d1d-8a30-94fd45ae7dd4"
      },
      "execution_count": null,
      "outputs": [
        {
          "output_type": "stream",
          "name": "stdout",
          "text": [
            "which year do you want to check?2020\n",
            "Leap year\n"
          ]
        }
      ]
    },
    {
      "cell_type": "code",
      "source": [
        "print(\"Welcome to the rollercoaster!\")\n",
        "height = int(input(\"What is your height in cm? \"))\n",
        "bill = 0\n",
        "if height > 120:\n",
        "  print(\"you can ride\")\n",
        "  age = int(input(\"What is your age? \"))\n",
        "  if age < 12:\n",
        "    bill = 5\n",
        "    print(\"Please pay $5\")\n",
        "  elif age <= 18:\n",
        "    bill = 7\n",
        "    print(\"Please pay $17\")  \n",
        "  else:\n",
        "    bill = 12\n",
        "    print(\"Please pay $12.\")  \n",
        "  wants_photo = input(\"Do you want a photo taken? Y or N\") \n",
        "  if wants_photo == \"Y\":\n",
        "    bill = bill + 3\n",
        "\n",
        "  print(f\"your final bill is {bill}\") \n",
        "\n",
        "else:\n",
        "  print(\"sorry, you can't ride\")  "
      ],
      "metadata": {
        "colab": {
          "base_uri": "https://localhost:8080/"
        },
        "id": "F2xx5FGKsVS5",
        "outputId": "b617b986-3416-4ae5-bdb2-758883e1cb48"
      },
      "execution_count": null,
      "outputs": [
        {
          "output_type": "stream",
          "name": "stdout",
          "text": [
            "Welcome to the rollercoaster!\n",
            "What is your height in cm? 121\n",
            "you can ride\n",
            "What is your age? 24\n",
            "Please pay $12.\n",
            "Do you want a photo taken? Y or Ny\n",
            "your final bill is 12\n"
          ]
        }
      ]
    },
    {
      "cell_type": "code",
      "source": [
        "print(\"Welcome to Python Pizza Deliveries! \")\n",
        "\n",
        "size = input(\"what size pizza do you want ? S,M, OR L \")\n",
        "add_pepperoni = input(\"Do you want pepperoni? Y OR N \")\n",
        "extra_cheese = input(\"Do you want extra cheese? Y OR N\")\n",
        "\n",
        "bill = 0\n",
        "if size == \"S\":\n",
        "  bill += 15\n",
        "elif size ==\"M\":\n",
        "  bill +=20\n",
        "elif size == \"L\":\n",
        "  bill += 25\n",
        "if add_pepperoni == \"Y\":\n",
        "  if size == \"S\":\n",
        "    bill += 2\n",
        "  else:\n",
        "    bill +=3 \n",
        "\n",
        "if extra_cheese == \"Y\":\n",
        "  bill+= 1    \n",
        "\n",
        "print(f\"your final bill is $ {bill}\")  \n",
        "\n",
        "\n",
        "\n"
      ],
      "metadata": {
        "colab": {
          "base_uri": "https://localhost:8080/"
        },
        "id": "NuTh-4m-uRw7",
        "outputId": "63b37066-3312-40bf-d0c4-347d2a2e2553"
      },
      "execution_count": null,
      "outputs": [
        {
          "output_type": "stream",
          "name": "stdout",
          "text": [
            "Welcome to Python Pizza Deliveries! \n",
            "what size pizza do you want ? S,M, OR L M\n",
            "Do you want pepperoni? Y OR N N\n",
            "Do you want extra cheese? Y OR NY\n",
            "your final bill is $ 21\n"
          ]
        }
      ]
    },
    {
      "cell_type": "code",
      "source": [
        "print(\"Welcome to the rollercoaster!\")\n",
        "height = int(input(\"What is your height in cm? \"))\n",
        "bill = 0\n",
        "\n",
        "if height >= 120:\n",
        "  print(\"You can ride the rollercoaster!\")\n",
        "  age = int(input(\"What is your age? \"))\n",
        "  if age < 12:\n",
        "    bill = 5\n",
        "    print(\"Child tickets are $5.\")\n",
        "  elif age <= 18:\n",
        "    bill = 7\n",
        "    print(\"Youth tickets are $7.\")\n",
        "  elif age >= 45 and age <= 55:\n",
        "    print(\"Everything is going to be ok. Have a free ride on us!\")\n",
        "  else:\n",
        "    bill = 12\n",
        "    print(\"Adult tickets are $12.\")\n",
        "  \n",
        "  wants_photo = input(\"Do you want a photo taken? Y or N. \")\n",
        "  if wants_photo == \"Y\":\n",
        "    bill += 3\n",
        "  \n",
        "  print(f\"Your final bill is ${bill}\")\n",
        "\n",
        "else:\n",
        "  print(\"Sorry, you have to grow taller before you can ride.\")\n"
      ],
      "metadata": {
        "colab": {
          "base_uri": "https://localhost:8080/"
        },
        "id": "MnAQB8fYw4e2",
        "outputId": "e8791e35-2e77-4d6c-8b08-a8b06fbb935b"
      },
      "execution_count": null,
      "outputs": [
        {
          "output_type": "stream",
          "name": "stdout",
          "text": [
            "Welcome to the rollercoaster!\n",
            "What is your height in cm? 180\n",
            "You can ride the rollercoaster!\n",
            "What is your age? 56\n",
            "Adult tickets are $12.\n",
            "Do you want a photo taken? Y or N. y\n",
            "Your final bill is $12\n"
          ]
        }
      ]
    },
    {
      "cell_type": "code",
      "source": [
        "#Love calculator\n",
        "\n",
        "print(\"Welcome to the Love Calculator! \")\n",
        "name1 = input(\"what is your name? \\n\")\n",
        "name2 = input(\"What is their name? \\n\")\n",
        "\n",
        "combined_string = name1 + name2\n",
        "lower_case_string = combined_string.lower()\n",
        "\n",
        "t = lower_case_string.count(\"t\")\n",
        "r = lower_case_string.count(\"r\")\n",
        "u = lower_case_string.count(\"u\")\n",
        "e = lower_case_string.count(\"e\")\n",
        "\n",
        "true = t + r +u + e\n",
        "\n",
        "l = lower_case_string.count(\"l\")\n",
        "o = lower_case_string.count(\"o\")\n",
        "v = lower_case_string.count(\"v\")\n",
        "e = lower_case_string.count(\"e\")\n",
        "\n",
        "love = l + o + v +e\n",
        "\n",
        "love_score = int(str(true)+str(love))\n",
        "\n",
        "if (love_score <10) or (love_score >90):\n",
        "  print(f\"Your love score is {love_score},you go together like coke and mentos\")\n",
        "elif(love_score >= 40) and (love_score <=50):\n",
        "  print(f\"Your score is {love_score} , you are alright together\")\n",
        "else:\n",
        "  print(f\"Your score is {love_score}\")  \n",
        "\n",
        "\n",
        "\n",
        "print(love_score)\n"
      ],
      "metadata": {
        "colab": {
          "base_uri": "https://localhost:8080/"
        },
        "id": "ir5_b5inzBCT",
        "outputId": "b7c685d1-f2b4-423c-f9cf-525622978abe"
      },
      "execution_count": null,
      "outputs": [
        {
          "output_type": "stream",
          "name": "stdout",
          "text": [
            "Welcome to the Love Calculator! \n",
            "what is your name? \n",
            "Nisha\n",
            "What is their name? \n",
            "Ishaan\n",
            "Your love score is 0,you go together like coke and mentos\n",
            "0\n"
          ]
        }
      ]
    },
    {
      "cell_type": "markdown",
      "source": [
        "TREASURE ISLAND"
      ],
      "metadata": {
        "id": "xCYqjVFsgGn7"
      }
    },
    {
      "cell_type": "code",
      "source": [
        "print('''\n",
        "*******************************************************************************\n",
        "          |                   |                  |                     |\n",
        " _________|________________.=\"\"_;=.______________|_____________________|_______\n",
        "|                   |  ,-\"_,=\"\"     `\"=.|                  |\n",
        "|___________________|__\"=._o`\"-._        `\"=.______________|___________________\n",
        "          |                `\"=._o`\"=._      _`\"=._                     |\n",
        " _________|_____________________:=._o \"=._.\"_.-=\"'\"=.__________________|_______\n",
        "|                   |    __.--\" , ; `\"=._o.\" ,-\"\"\"-._ \".   |\n",
        "|___________________|_._\"  ,. .` ` `` ,  `\"-._\"-._   \". '__|___________________\n",
        "          |           |o`\"=._` , \"` `; .\". ,  \"-._\"-._; ;              |\n",
        " _________|___________| ;`-.o`\"=._; .\" ` '`.\"\\` . \"-._ /_______________|_______\n",
        "|                   | |o;    `\"-.o`\"=._``  '` \" ,__.--o;   |\n",
        "|___________________|_| ;     (#) `-.o `\"=.`_.--\"_o.-; ;___|___________________\n",
        "____/______/______/___|o;._    \"      `\".o|o_.--\"    ;o;____/______/______/____\n",
        "/______/______/______/_\"=._o--._        ; | ;        ; ;/______/______/______/_\n",
        "____/______/______/______/__\"=._o--._   ;o|o;     _._;o;____/______/______/____\n",
        "/______/______/______/______/____\"=._o._; | ;_.--\"o.--\"_/______/______/______/_\n",
        "____/______/______/______/______/_____\"=.o|o_.--\"\"___/______/______/______/____\n",
        "/______/______/______/______/______/______/______/______/______/______/_____ /\n",
        "*******************************************************************************\n",
        "''')\n",
        "print(\"Welcome to Treasure Island.\")\n",
        "print(\"Your mission is to find the treasure.\")\n",
        "\n",
        "#Write your code below this line 👇\n",
        "\n",
        "choice1 = input('You\\'re at a cross road. Where do you want to go? Type \"left\" or \"right\" \\n').lower()\n",
        "if choice1 == \"left\":\n",
        "  choice2 = input('You\\'ve come to a lake. There is an island in the middle of the lake. Type \"wait\" to wait for a boat. Type \"swim\" to swim across. \\n').lower()\n",
        "  if choice2 == \"wait\":\n",
        "    choice3 = input(\"You arrive at the island unharmed. There is a house with 3 doors. One red, one yellow and one blue. Which colour do you choose? \\n\").lower()\n",
        "    if choice3 == \"red\":\n",
        "      print(\"It's a room full of fire. Game Over.\")\n",
        "    elif choice3 == \"yellow\":\n",
        "      print(\"You found the treasure! You Win!\")\n",
        "    elif choice3 == \"blue\":\n",
        "      print(\"You enter a room of beasts. Game Over.\")\n",
        "    else:\n",
        "      print(\"You chose a door that doesn't exist. Game Over.\")\n",
        "  else:\n",
        "    print(\"You get attacked by an angry trout. Game Over.\")\n",
        "else:\n",
        "  print(\"You fell into a hole. Game Over.\")"
      ],
      "metadata": {
        "colab": {
          "base_uri": "https://localhost:8080/"
        },
        "id": "B3J-ns0BgJrR",
        "outputId": "dd0183a9-ce86-4166-c6b3-481660a5f6c9"
      },
      "execution_count": null,
      "outputs": [
        {
          "output_type": "stream",
          "name": "stdout",
          "text": [
            "\n",
            "*******************************************************************************\n",
            "          |                   |                  |                     |\n",
            " _________|________________.=\"\"_;=.______________|_____________________|_______\n",
            "|                   |  ,-\"_,=\"\"     `\"=.|                  |\n",
            "|___________________|__\"=._o`\"-._        `\"=.______________|___________________\n",
            "          |                `\"=._o`\"=._      _`\"=._                     |\n",
            " _________|_____________________:=._o \"=._.\"_.-=\"'\"=.__________________|_______\n",
            "|                   |    __.--\" , ; `\"=._o.\" ,-\"\"\"-._ \".   |\n",
            "|___________________|_._\"  ,. .` ` `` ,  `\"-._\"-._   \". '__|___________________\n",
            "          |           |o`\"=._` , \"` `; .\". ,  \"-._\"-._; ;              |\n",
            " _________|___________| ;`-.o`\"=._; .\" ` '`.\"\\` . \"-._ /_______________|_______\n",
            "|                   | |o;    `\"-.o`\"=._``  '` \" ,__.--o;   |\n",
            "|___________________|_| ;     (#) `-.o `\"=.`_.--\"_o.-; ;___|___________________\n",
            "____/______/______/___|o;._    \"      `\".o|o_.--\"    ;o;____/______/______/____\n",
            "/______/______/______/_\"=._o--._        ; | ;        ; ;/______/______/______/_\n",
            "____/______/______/______/__\"=._o--._   ;o|o;     _._;o;____/______/______/____\n",
            "/______/______/______/______/____\"=._o._; | ;_.--\"o.--\"_/______/______/______/_\n",
            "____/______/______/______/______/_____\"=.o|o_.--\"\"___/______/______/______/____\n",
            "/______/______/______/______/______/______/______/______/______/______/_____ /\n",
            "*******************************************************************************\n",
            "\n",
            "Welcome to Treasure Island.\n",
            "Your mission is to find the treasure.\n",
            "You're at a cross road. Where do you want to go? Type \"left\" or \"right\" \n",
            "left\n",
            "You've come to a lake. There is an island in the middle of the lake. Type \"wait\" to wait for a boat. Type \"swim\" to swim across. \n",
            "left\n",
            "You get attacked by an angry trout. Game Over.\n"
          ]
        }
      ]
    },
    {
      "cell_type": "code",
      "source": [
        "import random\n",
        "\n",
        "random_side = random.randint(0,1)\n",
        "if random_side == 1:\n",
        "  print(\"Heads\")\n",
        "else:\n",
        "  print(\"Tails\")  "
      ],
      "metadata": {
        "colab": {
          "base_uri": "https://localhost:8080/"
        },
        "id": "pfQJMCv4jLid",
        "outputId": "9b2058ed-8591-4221-9762-17c916a530ac"
      },
      "execution_count": null,
      "outputs": [
        {
          "output_type": "stream",
          "name": "stdout",
          "text": [
            "Tails\n"
          ]
        }
      ]
    },
    {
      "cell_type": "code",
      "source": [
        "import random\n",
        "\n",
        "rock = '''\n",
        "    _______\n",
        "---'   ____)\n",
        "      (_____)\n",
        "      (_____)\n",
        "      (____)\n",
        "---.__(___)\n",
        "'''\n",
        "\n",
        "paper = '''\n",
        "    _______\n",
        "---'   ____)____\n",
        "          ______)\n",
        "          _______)\n",
        "         _______)\n",
        "---.__________)\n",
        "'''\n",
        "\n",
        "scissors = '''\n",
        "    _______\n",
        "---'   ____)____\n",
        "          ______)\n",
        "       __________)\n",
        "      (____)\n",
        "---.__(___)\n",
        "'''\n",
        "\n",
        "game_images = [rock, paper, scissors]\n",
        "\n",
        "user_choice = int(input(\"What do you choose? Type 0 for Rock, 1 for Paper or 2 for Scissors.\\n\"))\n",
        "print(game_images[user_choice])\n",
        "\n",
        "computer_choice = random.randint(0, 2)\n",
        "print(\"Computer chose:\")\n",
        "print(game_images[computer_choice])\n",
        "\n",
        "if user_choice >= 3 or user_choice < 0: \n",
        "  print(\"You typed an invalid number, you lose!\") \n",
        "elif user_choice == 0 and computer_choice == 2:\n",
        "  print(\"You win!\")\n",
        "elif computer_choice == 0 and user_choice == 2:\n",
        "  print(\"You lose\")\n",
        "elif computer_choice > user_choice:\n",
        "  print(\"You lose\")\n",
        "elif user_choice > computer_choice:\n",
        "  print(\"You win!\")\n",
        "elif computer_choice == user_choice:\n",
        "  print(\"It's a draw\")"
      ],
      "metadata": {
        "colab": {
          "base_uri": "https://localhost:8080/"
        },
        "id": "9ieRYJVWjfaF",
        "outputId": "630ce5a4-c04a-445e-e421-21ce418f125c"
      },
      "execution_count": null,
      "outputs": [
        {
          "output_type": "stream",
          "name": "stdout",
          "text": [
            "What do you choose? Type 0 for Rock, 1 for Paper or 2 for Scissors.\n",
            "0\n",
            "\n",
            "    _______\n",
            "---'   ____)\n",
            "      (_____)\n",
            "      (_____)\n",
            "      (____)\n",
            "---.__(___)\n",
            "\n",
            "Computer chose:\n",
            "\n",
            "    _______\n",
            "---'   ____)\n",
            "      (_____)\n",
            "      (_____)\n",
            "      (____)\n",
            "---.__(___)\n",
            "\n",
            "It's a draw\n"
          ]
        }
      ]
    },
    {
      "cell_type": "code",
      "source": [
        "fruits = ['Apple',\"Peach\",\"Pear\"]\n",
        "for fruit in fruits:\n",
        "  print(fruit)\n",
        "  print(fruit + \"Pie\")"
      ],
      "metadata": {
        "colab": {
          "base_uri": "https://localhost:8080/"
        },
        "id": "1YJ18N-Vo0nS",
        "outputId": "c4decc08-088e-4952-dd97-1ef07b2c31d6"
      },
      "execution_count": null,
      "outputs": [
        {
          "output_type": "stream",
          "name": "stdout",
          "text": [
            "Apple\n",
            "ApplePie\n",
            "Peach\n",
            "PeachPie\n",
            "Pear\n",
            "PearPie\n"
          ]
        }
      ]
    },
    {
      "cell_type": "code",
      "source": [
        "student_heights = input(\"Input a list of student heights \").split()\n",
        "for n in range(0, len(student_heights)):\n",
        "  student_heights[n] = int(student_heights[n])"
      ],
      "metadata": {
        "colab": {
          "base_uri": "https://localhost:8080/"
        },
        "id": "6UTMxxRya9Uo",
        "outputId": "2a926216-5ad9-4a2f-a86d-3ca495e64389"
      },
      "execution_count": null,
      "outputs": [
        {
          "name": "stdout",
          "output_type": "stream",
          "text": [
            "Input a list of student heights 45\n"
          ]
        }
      ]
    },
    {
      "cell_type": "markdown",
      "source": [
        "FOR LOOPS FOR HIGHEST SCORES"
      ],
      "metadata": {
        "id": "YFnf8qF8f8wj"
      }
    },
    {
      "cell_type": "code",
      "source": [
        "student_scores = [78,65,89,55,91,64,89]\n",
        "\n",
        "highest_score = 0\n",
        "for score in student_scores:\n",
        "  if score > highest_score:\n",
        "    highest_score = score\n",
        "print(f\"the highest score in the class is : {highest_score}\")    "
      ],
      "metadata": {
        "colab": {
          "base_uri": "https://localhost:8080/"
        },
        "id": "5iv9eWC6ctAj",
        "outputId": "c1f19cb1-f742-472b-f7ed-2beb4e6587d3"
      },
      "execution_count": null,
      "outputs": [
        {
          "output_type": "stream",
          "name": "stdout",
          "text": [
            "the highest score in the class is : 91\n"
          ]
        }
      ]
    },
    {
      "cell_type": "markdown",
      "source": [
        "RANGE FUNCTION"
      ],
      "metadata": {
        "id": "HXgK75Srg3kz"
      }
    },
    {
      "cell_type": "code",
      "source": [
        "for number in range(1,11,3):\n",
        "  print(number)"
      ],
      "metadata": {
        "colab": {
          "base_uri": "https://localhost:8080/"
        },
        "id": "oA41-B04f69h",
        "outputId": "8876451a-59a7-4f47-b35b-7ba71c7e454f"
      },
      "execution_count": null,
      "outputs": [
        {
          "output_type": "stream",
          "name": "stdout",
          "text": [
            "1\n",
            "4\n",
            "7\n",
            "10\n"
          ]
        }
      ]
    },
    {
      "cell_type": "code",
      "source": [
        "total = 0\n",
        "for number in range(1,101):\n",
        "  total +=number\n",
        "print(total)  \n"
      ],
      "metadata": {
        "colab": {
          "base_uri": "https://localhost:8080/"
        },
        "id": "ty5qnurKhC2U",
        "outputId": "0f18cf98-c28e-4c14-ec81-8632c1242cf0"
      },
      "execution_count": null,
      "outputs": [
        {
          "output_type": "stream",
          "name": "stdout",
          "text": [
            "5050\n"
          ]
        }
      ]
    },
    {
      "cell_type": "code",
      "source": [
        "total = 0\n",
        "for number in range(1,101,2):\n",
        "  print(number)"
      ],
      "metadata": {
        "colab": {
          "base_uri": "https://localhost:8080/"
        },
        "id": "fUC36XlkhH8o",
        "outputId": "ffeb3a93-0440-413f-9a07-8fdee23f1779"
      },
      "execution_count": null,
      "outputs": [
        {
          "output_type": "stream",
          "name": "stdout",
          "text": [
            "1\n",
            "3\n",
            "5\n",
            "7\n",
            "9\n",
            "11\n",
            "13\n",
            "15\n",
            "17\n",
            "19\n",
            "21\n",
            "23\n",
            "25\n",
            "27\n",
            "29\n",
            "31\n",
            "33\n",
            "35\n",
            "37\n",
            "39\n",
            "41\n",
            "43\n",
            "45\n",
            "47\n",
            "49\n",
            "51\n",
            "53\n",
            "55\n",
            "57\n",
            "59\n",
            "61\n",
            "63\n",
            "65\n",
            "67\n",
            "69\n",
            "71\n",
            "73\n",
            "75\n",
            "77\n",
            "79\n",
            "81\n",
            "83\n",
            "85\n",
            "87\n",
            "89\n",
            "91\n",
            "93\n",
            "95\n",
            "97\n",
            "99\n"
          ]
        }
      ]
    },
    {
      "cell_type": "code",
      "source": [
        "total = 0\n",
        "for number in range(2,101,2):\n",
        "  total += number\n",
        "print(total)"
      ],
      "metadata": {
        "colab": {
          "base_uri": "https://localhost:8080/"
        },
        "id": "HS23DfGWjpFM",
        "outputId": "fb6cc477-366e-4d6f-862b-ee8019301de0"
      },
      "execution_count": null,
      "outputs": [
        {
          "output_type": "stream",
          "name": "stdout",
          "text": [
            "2550\n"
          ]
        }
      ]
    },
    {
      "cell_type": "markdown",
      "source": [
        "FIZZ GAME"
      ],
      "metadata": {
        "id": "w6xePLbZlEaY"
      }
    },
    {
      "cell_type": "code",
      "source": [
        "for number in range(1,101):\n",
        "  if number % 3 == 0:\n",
        "    print(\"Fizz\")\n",
        "    #divisible by 3\n",
        "  elif number % 5 == 0:\n",
        "    print(\"Buzz\")\n",
        "    #Divisible by 5\n",
        "  elif number % 3 == 0 and number % 5 == 0:\n",
        "    #Divisible by both 3 and 5\n",
        "    print(\"FizzBuzz\")\n",
        "  else:\n",
        "    print(number)\n"
      ],
      "metadata": {
        "colab": {
          "base_uri": "https://localhost:8080/"
        },
        "id": "BxAVB6-ujq-r",
        "outputId": "9020bb0d-1b00-4333-9c95-4c2b1d540470"
      },
      "execution_count": null,
      "outputs": [
        {
          "output_type": "stream",
          "name": "stdout",
          "text": [
            "1\n",
            "2\n",
            "Fizz\n",
            "4\n",
            "Buzz\n",
            "Fizz\n",
            "7\n",
            "8\n",
            "Fizz\n",
            "Buzz\n",
            "11\n",
            "Fizz\n",
            "13\n",
            "14\n",
            "Fizz\n",
            "16\n",
            "17\n",
            "Fizz\n",
            "19\n",
            "Buzz\n",
            "Fizz\n",
            "22\n",
            "23\n",
            "Fizz\n",
            "Buzz\n",
            "26\n",
            "Fizz\n",
            "28\n",
            "29\n",
            "Fizz\n",
            "31\n",
            "32\n",
            "Fizz\n",
            "34\n",
            "Buzz\n",
            "Fizz\n",
            "37\n",
            "38\n",
            "Fizz\n",
            "Buzz\n",
            "41\n",
            "Fizz\n",
            "43\n",
            "44\n",
            "Fizz\n",
            "46\n",
            "47\n",
            "Fizz\n",
            "49\n",
            "Buzz\n",
            "Fizz\n",
            "52\n",
            "53\n",
            "Fizz\n",
            "Buzz\n",
            "56\n",
            "Fizz\n",
            "58\n",
            "59\n",
            "Fizz\n",
            "61\n",
            "62\n",
            "Fizz\n",
            "64\n",
            "Buzz\n",
            "Fizz\n",
            "67\n",
            "68\n",
            "Fizz\n",
            "Buzz\n",
            "71\n",
            "Fizz\n",
            "73\n",
            "74\n",
            "Fizz\n",
            "76\n",
            "77\n",
            "Fizz\n",
            "79\n",
            "Buzz\n",
            "Fizz\n",
            "82\n",
            "83\n",
            "Fizz\n",
            "Buzz\n",
            "86\n",
            "Fizz\n",
            "88\n",
            "89\n",
            "Fizz\n",
            "91\n",
            "92\n",
            "Fizz\n",
            "94\n",
            "Buzz\n",
            "Fizz\n",
            "97\n",
            "98\n",
            "Fizz\n",
            "Buzz\n"
          ]
        }
      ]
    },
    {
      "cell_type": "markdown",
      "source": [
        "PASSWORD GENERATOR"
      ],
      "metadata": {
        "id": "ixsEcf2Pmimb"
      }
    },
    {
      "cell_type": "code",
      "source": [
        "#Password Generator Project\n",
        "import random\n",
        "letters = ['a', 'b', 'c', 'd', 'e', 'f', 'g', 'h', 'i', 'j', 'k', 'l', 'm', 'n', 'o', 'p', 'q', 'r', 's', 't', 'u', 'v', 'w', 'x', 'y', 'z', 'A', 'B', 'C', 'D', 'E', 'F', 'G', 'H', 'I', 'J', 'K', 'L', 'M', 'N', 'O', 'P', 'Q', 'R', 'S', 'T', 'U', 'V', 'W', 'X', 'Y', 'Z']\n",
        "numbers = ['0', '1', '2', '3', '4', '5', '6', '7', '8', '9']\n",
        "symbols = ['!', '#', '$', '%', '&', '(', ')', '*', '+']\n",
        "\n",
        "print(\"Welcome to the PyPassword Generator!\")\n",
        "nr_letters = int(input(\"How many letters would you like in your password?\\n\")) \n",
        "nr_symbols = int(input(f\"How many symbols would you like?\\n\"))\n",
        "nr_numbers = int(input(f\"How many numbers would you like?\\n\"))\n",
        "\n",
        "#Eazy Level\n",
        "# password = \"\"\n",
        "\n",
        "# for char in range(1, nr_letters + 1):\n",
        "#   password += random.choice(letters)\n",
        "\n",
        "# for char in range(1, nr_symbols + 1):\n",
        "#   password += random.choice(symbols)\n",
        "\n",
        "# for char in range(1, nr_numbers + 1):\n",
        "#   password += random.choice(numbers)\n",
        "\n",
        "# print(password)\n",
        "\n",
        "#Hard Level\n",
        "password_list = []\n",
        "\n",
        "for char in range(1, nr_letters + 1):\n",
        "  password_list.append(random.choice(letters))\n",
        "\n",
        "for char in range(1, nr_symbols + 1):\n",
        "  password_list += random.choice(symbols)\n",
        "\n",
        "for char in range(1, nr_numbers + 1):\n",
        "  password_list += random.choice(numbers)\n",
        "\n",
        "print(password_list)\n",
        "random.shuffle(password_list)\n",
        "print(password_list)\n",
        "\n",
        "password = \"\"\n",
        "for char in password_list:\n",
        "  password += char\n",
        "\n",
        "print(f\"Your password is: {password}\")"
      ],
      "metadata": {
        "colab": {
          "base_uri": "https://localhost:8080/"
        },
        "id": "l5OxpPR_mkYQ",
        "outputId": "c030c03a-4986-46a8-fce1-2c3f83445def"
      },
      "execution_count": null,
      "outputs": [
        {
          "output_type": "stream",
          "name": "stdout",
          "text": [
            "Welcome to the PyPassword Generator!\n",
            "How many letters would you like in your password?\n",
            "7\n",
            "How many symbols would you like?\n",
            "2\n",
            "How many numbers would you like?\n",
            "4\n",
            "['S', 'p', 'p', 'G', 'l', 'G', 'S', '+', ')', '6', '5', '3', '1']\n",
            "['+', '5', 'G', ')', '1', 'S', 'l', '3', 'S', '6', 'G', 'p', 'p']\n",
            "Your password is: +5G)1Sl3S6Gpp\n"
          ]
        }
      ]
    },
    {
      "cell_type": "code",
      "source": [
        "alphabet = ['a', 'b', 'c', 'd', 'e', 'f', 'g', 'h', 'i', 'j', 'k', 'l', 'm', 'n', 'o', 'p', 'q', 'r', 's', 't', 'u', 'v', 'w', 'x', 'y', 'z', 'a', 'b', 'c', 'd', 'e', 'f', 'g', 'h', 'i', 'j', 'k', 'l', 'm', 'n', 'o', 'p', 'q', 'r', 's', 't', 'u', 'v', 'w', 'x', 'y', 'z']\n",
        "\n",
        "direction = input(\"Type 'encode' to encrypt, type 'decode' to decrypt:\\n\")\n",
        "text = input(\"Type your message:\\n\").lower()\n",
        "shift = int(input(\"Type the shift number:\\n\"))\n",
        "\n",
        "#Don't change the code above 👆\n",
        "\n",
        "#TODO-1: Create a function called 'encrypt' that takes the 'text' and 'shift' as inputs.\n",
        "def encrypt(plain_text, shift_amount):\n",
        "  #TODO-2: Inside the encrypt function, shift each letter of the text forwards in the alphabet by the shift amount and print the encrypted text.  \n",
        "  #e.g. \n",
        "  #plain_text = \"hello\"\n",
        "  #shift = 5\n",
        "  #cipher_text = \"mjqqt\"\n",
        "  #print output: \"The encoded text is mjqqt\"\n",
        "  cipher_text = \"\"\n",
        "  for letter in plain_text:\n",
        "    position = alphabet.index(letter)\n",
        "    new_position = position + shift_amount\n",
        "    new_letter = alphabet[new_position]\n",
        "    cipher_text += new_letter\n",
        "  print(f\"The encoded text is {cipher_text}\")\n",
        "\n",
        "#TODO-3: Call the encrypt function and pass in the user inputs. You should be able to test the code and encrypt a message. \n",
        "encrypt(plain_text=text, shift_amount=shift)"
      ],
      "metadata": {
        "id": "fcmHURZ6gBC9",
        "colab": {
          "base_uri": "https://localhost:8080/"
        },
        "outputId": "d2dfc04e-89f3-48f0-d59f-7bf6a3efe0dd"
      },
      "execution_count": null,
      "outputs": [
        {
          "output_type": "stream",
          "name": "stdout",
          "text": [
            "Type 'encode' to encrypt, type 'decode' to decrypt:\n",
            "nishachoudhary\n",
            "Type your message:\n",
            "iamhere\n",
            "Type the shift number:\n",
            "5\n",
            "The encoded text is nfrmjwj\n"
          ]
        }
      ]
    },
    {
      "cell_type": "code",
      "source": [
        "alphabet = ['a', 'b', 'c', 'd', 'e', 'f', 'g', 'h', 'i', 'j', 'k', 'l', 'm', 'n', 'o', 'p', 'q', 'r', 's', 't', 'u', 'v', 'w', 'x', 'y', 'z', 'a', 'b', 'c', 'd', 'e', 'f', 'g', 'h', 'i', 'j', 'k', 'l', 'm', 'n', 'o', 'p', 'q', 'r', 's', 't', 'u', 'v', 'w', 'x', 'y', 'z']\n",
        "\n",
        "direction = input(\"Type 'encode' to encrypt, type 'decode' to decrypt:\\n\")\n",
        "text = input(\"Type your message:\\n\").lower()\n",
        "shift = int(input(\"Type the shift number:\\n\"))\n",
        "\n",
        "def encrypt(plain_text, shift_amount):\n",
        "  cipher_text = \"\"\n",
        "  for letter in plain_text:\n",
        "    position = alphabet.index(letter)\n",
        "    new_position = position + shift_amount\n",
        "    cipher_text += alphabet[new_position]\n",
        "  print(f\"The encoded text is {cipher_text}\")\n",
        "\n",
        "#TODO-1: Create a different function called 'decrypt' that takes the 'text' and 'shift' as inputs.\n",
        "def decrypt(cipher_text, shift_amount):\n",
        "  #TODO-2: Inside the 'decrypt' function, shift each letter of the 'text' *backwards* in the alphabet by the shift amount and print the decrypted text.  \n",
        "  #e.g. \n",
        "  #cipher_text = \"mjqqt\"\n",
        "  #shift = 5\n",
        "  #plain_text = \"hello\"\n",
        "  #print output: \"The decoded text is hello\"\n",
        "  plain_text = \"\"\n",
        "  for letter in cipher_text:\n",
        "    position = alphabet.index(letter)\n",
        "    new_position = position - shift_amount\n",
        "    plain_text += alphabet[new_position]\n",
        "  print(f\"The decoded text is {plain_text}\")\n",
        "\n",
        "\n",
        "#TODO-3: Check if the user wanted to encrypt or decrypt the message by checking the 'direction' variable. Then call the correct function based on that 'drection' variable. You should be able to test the code to encrypt *AND* decrypt a message.\n",
        "if direction == \"encode\":\n",
        "  encrypt(plain_text=text, shift_amount=shift)\n",
        "elif direction == \"decode\":\n",
        "  decrypt(cipher_text=text, shift_amount=shift)"
      ],
      "metadata": {
        "colab": {
          "base_uri": "https://localhost:8080/"
        },
        "id": "Qe-4j4V-tUss",
        "outputId": "69875fca-0190-4428-d1a6-567f397e7b52"
      },
      "execution_count": null,
      "outputs": [
        {
          "output_type": "stream",
          "name": "stdout",
          "text": [
            "Type 'encode' to encrypt, type 'decode' to decrypt:\n",
            "decode\n",
            "Type your message:\n",
            "hello\n",
            "Type the shift number:\n",
            "7\n",
            "The decoded text is axeeh\n"
          ]
        }
      ]
    },
    {
      "cell_type": "code",
      "source": [
        "programming_dictionary = {\"Bug\": \"An error in a program that prevents the program from running as expected.\", \"Function\": \"A piece of code that you can easily call over and over again.\"}"
      ],
      "metadata": {
        "id": "lnmnuVmYGwPJ"
      },
      "execution_count": null,
      "outputs": []
    },
    {
      "cell_type": "code",
      "source": [
        "student_scores = {\n",
        "  \"Harry\": 81,\n",
        "  \"Ron\": 78,\n",
        "  \"Hermione\": 99, \n",
        "  \"Draco\": 74,\n",
        "  \"Neville\": 62,\n",
        "}\n",
        "# 🚨 Don't change the code above 👆\n",
        "\n",
        "#TODO-1: Create an empty dictionary called student_grades.\n",
        "student_grades = {}\n",
        "\n",
        "#TODO-2: Write your code below to add the grades to student_grades.👇\n",
        "for student in student_scores:\n",
        "  score = student_scores[student]\n",
        "  if score > 90:\n",
        "    student_grades[student] = \"Outstanding\"\n",
        "  elif score > 80:\n",
        "    student_grades[student] = \"Exceeds Expectations\"  \n",
        "  elif score > 70:\n",
        "    student_grades[student] = \"Acceptable\" \n",
        "  else:\n",
        "    student_grades[student]  = \"Fail\"\n",
        "    \n",
        "\n",
        "# 🚨 Don't change the code below 👇\n",
        "print(student_scores)"
      ],
      "metadata": {
        "colab": {
          "base_uri": "https://localhost:8080/"
        },
        "id": "xxn9QE47Pzam",
        "outputId": "e1284ac0-8e81-4f05-9830-a4e44137df7d"
      },
      "execution_count": null,
      "outputs": [
        {
          "output_type": "stream",
          "name": "stdout",
          "text": [
            "{'Harry': 81, 'Ron': 78, 'Hermione': 99, 'Draco': 74, 'Neville': 62}\n"
          ]
        }
      ]
    },
    {
      "cell_type": "code",
      "source": [
        "##Python Dictionaries\n",
        "\n",
        "programming_dictionary = {\n",
        "  \"Bug\": \"An error in a program that prevents the program from running as expected.\", \n",
        "  \"Function\": \"A piece of code that you can easily call over and over again.\",\n",
        "}\n",
        "\n",
        "#Retrieving items from dictionary.\n",
        "# print(programming_dictionary[\"Function\"])\n",
        "\n",
        "#Adding new items to dictionary.\n",
        "programming_dictionary[\"Loop\"] = \"The action of doing something over and over again.\"\n",
        "\n",
        "#Create an empty dictionary.\n",
        "empty_dictionary = {}\n",
        "\n",
        "#Wipe an existing dictionary\n",
        "# programming_dictionary = {}\n",
        "# print(programming_dictionary)\n",
        "\n",
        "#Edit an item in a dictionary\n",
        "programming_dictionary[\"Bug\"] = \"A moth in your computer.\"\n",
        "# print(programming_dictionary)\n",
        "\n",
        "#Loop through a dictionary\n",
        "# for key in programming_dictionary:\n",
        "#   print(key)\n",
        "#   print(programming_dictionary[key])\n",
        "\n",
        "#######################################\n",
        "\n",
        "#Nesting \n",
        "capitals = {\n",
        "  \"France\": \"Paris\",\n",
        "  \"Germany\": \"Berlin\",\n",
        "}\n",
        "\n",
        "#Nesting a List in a Dictionary\n",
        "\n",
        "travel_log = {\n",
        "  \"France\": [\"Paris\", \"Lille\", \"Dijon\"],\n",
        "  \"Germany\": [\"Berlin\", \"Hamburg\", \"Stuttgart\"],\n",
        "}\n",
        "\n",
        "#Nesting Dictionary in a Dictionary\n",
        "\n",
        "travel_log = {\n",
        "  \"France\": {\"cities_visited\": [\"Paris\", \"Lille\", \"Dijon\"], \"total_visits\": 12},\n",
        "  \"Germany\": {\"cities_visited\": [\"Berlin\", \"Hamburg\", \"Stuttgart\"], \"total_visits\": 5},\n",
        "}\n",
        "\n",
        "#Nesting Dictionaries in Lists\n",
        "\n",
        "travel_log = [\n",
        "{\n",
        "  \"country\": \"France\", \n",
        "  \"cities_visited\": [\"Paris\", \"Lille\", \"Dijon\"], \n",
        "  \"total_visits\": 12,\n",
        "},\n",
        "{\n",
        "  \"country\": \"Germany\",\n",
        "  \"cities_visited\": [\"Berlin\", \"Hamburg\", \"Stuttgart\"],\n",
        "  \"total_visits\": 5,\n",
        "},\n",
        "]"
      ],
      "metadata": {
        "id": "pTnPZZDAtU_p"
      },
      "execution_count": null,
      "outputs": []
    },
    {
      "cell_type": "code",
      "source": [
        "##Python Dictionaries\n",
        "\n",
        "programming_dictionary = {\n",
        "  \"Bug\": \"An error in a program that prevents the program from running as expected.\", \n",
        "  \"Function\": \"A piece of code that you can easily call over and over again.\",\n",
        "}\n",
        "\n",
        "#Retrieving items from dictionary.\n",
        "# print(programming_dictionary[\"Function\"])\n",
        "\n",
        "#Adding new items to dictionary.\n",
        "programming_dictionary[\"Loop\"] = \"The action of doing something over and over again.\"\n",
        "\n",
        "#Create an empty dictionary.\n",
        "empty_dictionary = {}\n",
        "\n",
        "#Wipe an existing dictionary\n",
        "# programming_dictionary = {}\n",
        "# print(programming_dictionary)\n",
        "\n",
        "#Edit an item in a dictionary\n",
        "programming_dictionary[\"Bug\"] = \"A moth in your computer.\"\n",
        "# print(programming_dictionary)\n",
        "\n",
        "#Loop through a dictionary\n",
        "# for key in programming_dictionary:\n",
        "#   print(key)\n",
        "#   print(programming_dictionary[key])\n",
        "\n",
        "#######################################\n",
        "\n",
        "#Nesting \n",
        "capitals = {\n",
        "  \"France\": \"Paris\",\n",
        "  \"Germany\": \"Berlin\",\n",
        "}\n",
        "\n",
        "#Nesting a List in a Dictionary\n",
        "\n",
        "travel_log = {\n",
        "  \"France\": [\"Paris\", \"Lille\", \"Dijon\"],\n",
        "  \"Germany\": [\"Berlin\", \"Hamburg\", \"Stuttgart\"],\n",
        "}\n",
        "\n",
        "#Nesting Dictionary in a Dictionary\n",
        "\n",
        "travel_log = {\n",
        "  \"France\": {\"cities_visited\": [\"Paris\", \"Lille\", \"Dijon\"], \"total_visits\": 12},\n",
        "  \"Germany\": {\"cities_visited\": [\"Berlin\", \"Hamburg\", \"Stuttgart\"], \"total_visits\": 5},\n",
        "}\n",
        "\n",
        "#Nesting Dictionaries in Lists\n",
        "\n",
        "travel_log = [\n",
        "{\n",
        "  \"country\": \"France\", \n",
        "  \"cities_visited\": [\"Paris\", \"Lille\", \"Dijon\"], \n",
        "  \"total_visits\": 12,\n",
        "},\n",
        "{\n",
        "  \"country\": \"Germany\",\n",
        "  \"cities_visited\": [\"Berlin\", \"Hamburg\", \"Stuttgart\"],\n",
        "  \"total_visits\": 5,\n",
        "},\n",
        "]"
      ],
      "metadata": {
        "id": "clRHQ638na6r"
      },
      "execution_count": null,
      "outputs": []
    },
    {
      "cell_type": "code",
      "source": [
        "def square(x):\n",
        "  print(x**2)"
      ],
      "metadata": {
        "id": "JV1ci4TXt4s2"
      },
      "execution_count": null,
      "outputs": []
    },
    {
      "cell_type": "code",
      "source": [
        "square(2)"
      ],
      "metadata": {
        "colab": {
          "base_uri": "https://localhost:8080/"
        },
        "id": "vIIR-4KxuBAC",
        "outputId": "0f339230-853f-4c11-eeda-d3b8e54596cd"
      },
      "execution_count": null,
      "outputs": [
        {
          "output_type": "stream",
          "name": "stdout",
          "text": [
            "4\n"
          ]
        }
      ]
    },
    {
      "cell_type": "code",
      "source": [
        "lambda var : var *2"
      ],
      "metadata": {
        "colab": {
          "base_uri": "https://localhost:8080/"
        },
        "id": "6miF36lsuCzT",
        "outputId": "4fe73fdf-e48c-4bce-a1d3-59d3eed2222a"
      },
      "execution_count": null,
      "outputs": [
        {
          "output_type": "execute_result",
          "data": {
            "text/plain": [
              "<function __main__.<lambda>(var)>"
            ]
          },
          "metadata": {},
          "execution_count": 4
        }
      ]
    },
    {
      "cell_type": "code",
      "source": [],
      "metadata": {
        "id": "VUJPONoluRFQ"
      },
      "execution_count": null,
      "outputs": []
    }
  ]
}