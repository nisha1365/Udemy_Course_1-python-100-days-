{
  "nbformat": 4,
  "nbformat_minor": 0,
  "metadata": {
    "colab": {
      "provenance": [],
      "authorship_tag": "ABX9TyOmiPgszcyUSW013VQAoyAc",
      "include_colab_link": true
    },
    "kernelspec": {
      "name": "python3",
      "display_name": "Python 3"
    },
    "language_info": {
      "name": "python"
    }
  },
  "cells": [
    {
      "cell_type": "markdown",
      "metadata": {
        "id": "view-in-github",
        "colab_type": "text"
      },
      "source": [
        "<a href=\"https://colab.research.google.com/github/nisha1365/Udemy_Course_1-python-100-days-/blob/main/Section_9.ipynb\" target=\"_parent\"><img src=\"https://colab.research.google.com/assets/colab-badge.svg\" alt=\"Open In Colab\"/></a>"
      ]
    },
    {
      "cell_type": "code",
      "execution_count": 1,
      "metadata": {
        "id": "mQ_-UHcsxGKV"
      },
      "outputs": [],
      "source": [
        "##Python Dictionaries\n",
        "\n",
        "programming_dictionary = {\n",
        "  \"Bug\": \"An error in a program that prevents the program from running as expected.\", \n",
        "  \"Function\": \"A piece of code that you can easily call over and over again.\",\n",
        "}\n",
        "\n",
        "#Retrieving items from dictionary.\n",
        "# print(programming_dictionary[\"Function\"])\n",
        "\n",
        "#Adding new items to dictionary.\n",
        "programming_dictionary[\"Loop\"] = \"The action of doing something over and over again.\"\n",
        "\n",
        "#Create an empty dictionary.\n",
        "empty_dictionary = {}\n",
        "\n",
        "#Wipe an existing dictionary\n",
        "# programming_dictionary = {}\n",
        "# print(programming_dictionary)\n",
        "\n",
        "#Edit an item in a dictionary\n",
        "programming_dictionary[\"Bug\"] = \"A moth in your computer.\"\n",
        "# print(programming_dictionary)\n",
        "\n",
        "#Loop through a dictionary\n",
        "# for key in programming_dictionary:\n",
        "#   print(key)\n",
        "#   print(programming_dictionary[key])\n",
        "\n",
        "#######################################\n",
        "\n",
        "#Nesting \n",
        "capitals = {\n",
        "  \"France\": \"Paris\",\n",
        "  \"Germany\": \"Berlin\",\n",
        "}\n",
        "\n",
        "#Nesting a List in a Dictionary\n",
        "\n",
        "travel_log = {\n",
        "  \"France\": [\"Paris\", \"Lille\", \"Dijon\"],\n",
        "  \"Germany\": [\"Berlin\", \"Hamburg\", \"Stuttgart\"],\n",
        "}\n",
        "\n",
        "#Nesting Dictionary in a Dictionary\n",
        "\n",
        "travel_log = {\n",
        "  \"France\": {\"cities_visited\": [\"Paris\", \"Lille\", \"Dijon\"], \"total_visits\": 12},\n",
        "  \"Germany\": {\"cities_visited\": [\"Berlin\", \"Hamburg\", \"Stuttgart\"], \"total_visits\": 5},\n",
        "}\n",
        "\n",
        "#Nesting Dictionaries in Lists\n",
        "\n",
        "travel_log = [\n",
        "{\n",
        "  \"country\": \"France\", \n",
        "  \"cities_visited\": [\"Paris\", \"Lille\", \"Dijon\"], \n",
        "  \"total_visits\": 12,\n",
        "},\n",
        "{\n",
        "  \"country\": \"Germany\",\n",
        "  \"cities_visited\": [\"Berlin\", \"Hamburg\", \"Stuttgart\"],\n",
        "  \"total_visits\": 5,\n",
        "},\n",
        "]"
      ]
    },
    {
      "cell_type": "code",
      "source": [
        "travel_log = [\n",
        "{\n",
        "  \"country\": \"France\",\n",
        "  \"visits\": 12,\n",
        "  \"cities\": [\"Paris\", \"Lille\", \"Dijon\"]\n",
        "},\n",
        "{\n",
        "  \"country\": \"Germany\",\n",
        "  \"visits\": 5,\n",
        "  \"cities\": [\"Berlin\", \"Hamburg\", \"Stuttgart\"]\n",
        "},\n",
        "]"
      ],
      "metadata": {
        "id": "3lTq3aMizHZT"
      },
      "execution_count": 2,
      "outputs": []
    },
    {
      "cell_type": "code",
      "source": [
        "def add_new_country(country_visited, times_visited, cities_visited):\n",
        "  new_country = {}\n",
        "  new_country[\"country\"] = country_visited\n",
        "  new_country[\"visits\"] = times_visited\n",
        "  new_country[\"cities\"] = cities_visited\n",
        "  travel_log.append(new_country)\n"
      ],
      "metadata": {
        "id": "K7m7nFW2zWPi"
      },
      "execution_count": 3,
      "outputs": []
    },
    {
      "cell_type": "code",
      "source": [
        "add_new_country(\"Russia\",2,[\"Moscow\",\"Saint Petersburg\"])\n",
        "print(travel_log)"
      ],
      "metadata": {
        "id": "dCce9oNw1VpY",
        "outputId": "adeaaa68-43e0-40b0-8a73-c675b52e9068",
        "colab": {
          "base_uri": "https://localhost:8080/"
        }
      },
      "execution_count": 4,
      "outputs": [
        {
          "output_type": "stream",
          "name": "stdout",
          "text": [
            "[{'country': 'France', 'visits': 12, 'cities': ['Paris', 'Lille', 'Dijon']}, {'country': 'Germany', 'visits': 5, 'cities': ['Berlin', 'Hamburg', 'Stuttgart']}, {'country': 'Russia', 'visits': 2, 'cities': ['Moscow', 'Saint Petersburg']}]\n"
          ]
        }
      ]
    }
  ]
}