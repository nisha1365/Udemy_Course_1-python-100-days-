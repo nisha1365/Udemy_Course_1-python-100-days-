{
 "cells": [
  {
   "cell_type": "markdown",
   "metadata": {},
   "source": [
    "THE TURTLE RACE"
   ]
  },
  {
   "cell_type": "code",
   "execution_count": null,
   "metadata": {},
   "outputs": [],
   "source": [
    "import random, turtle\n",
    "\n",
    "myscreen= turtle.Screen()\n",
    "\n",
    "myscreen.bgcolor('light blue')\n",
    "myscreen.setup(1.0,1.0)\n",
    "myscreen.title('Turtle Race Game')\n",
    "\n",
    "pen=turtle.Turtle()\n",
    "\n",
    "pen.speed(0) # so it moves with fastest speed\n",
    "pen.penup() #pen goes up as we don't want to draw on line.\n",
    "pen.goto(-200,200) #this is x and y position from center of the screen\n",
    "pen.pendown() # pen placed down again\n",
    "\n",
    "for i in range(1,11): # this will run from 1 to 10 \n",
    "\tpen.write(i,font=('Arial',10)) #writing the race track number before each line\n",
    "\tpen.setheading(-90) #this will point pen in downward direction\n",
    "\tpen.forward(250) #draw a line of 250 pixels length.\n",
    "\tif i==10: # this if condition will be true only if the iterating variable is 10 \n",
    "\t\tpen.write(\" FINISH\",font=('Arial',14))\n",
    "    pen.back(250) #goes back\n",
    "\tpen.penup() #pen goes up as we don't want to draw on line\n",
    "\tpen.setheading(0) #pen points in right direction\n",
    "\tpen.forward(50)  #space of 50 pixes between each line\n",
    "\tpen.down() #pen down again\n",
    "\n",
    "finishLineX=250\n",
    "\n",
    "def createTurtlePlayer(color, startx, starty): \n",
    "\tplayer=turtle.Turtle()\n",
    "\tplayer.color(color) # set the color of turtle\n",
    "\tplayer.shape(\"turtle\") #set the shape as turtle\n",
    "\tplayer.penup() #pen moves up\n",
    "\tplayer.goto(startx, starty) #place player at mentioned position on race track.\n",
    "\tplayer.pendown() #pen placed down\n",
    "\treturn player #returns the turtle player object.\n",
    "\n",
    "p1=createTurtlePlayer('red',-210,150) #red colored turtle at x position before 1st Line and y position 150\n",
    "p2=createTurtlePlayer('blue',-210,100) #blue colored turtle at x position before 1st Line and y position 100\n",
    "p3=createTurtlePlayer('orange',-210,50) #orange colored turtle at x position before 1st Line and y position 50\n",
    "p4=createTurtlePlayer('green',-210,0) #green colored turtle at x position before 1st Line and y position 0\n",
    "\n",
    "while True:\n",
    "\tp1.forward(random.randint(5,10))\n",
    "\tif p1.pos()[0]>=finishLineX:\n",
    "\t\tp1.write(' I won the race!!',font=('Arial',30))\n",
    "\t\tbreak\n",
    "\tp2.forward(random.randint(5,10))\n",
    "\tif p2.pos()[0]>=finishLineX:\n",
    "\t\tp2.write(' I won the race!!',font=('Arial',30))\n",
    "\t\tbreak\n",
    "\tp3.forward(random.randint(5,10))\n",
    "\tif p3.pos()[0]>=finishLineX:\n",
    "\t\tp3.write(' I won the race!!',font=('Arial',30))\n",
    "\t\tbreak\n",
    "\tp4.forward(random.randint(5,10))\n",
    "\tif p4.pos()[0]>=finishLineX:\n",
    "\t\tp4.write(' I won the race!!',font=('Arial',30))\n",
    "\t\tbreak\n",
    "\n",
    "turtle.done()"
   ]
  }
 ],
 "metadata": {
  "kernelspec": {
   "display_name": "Python 2",
   "language": "python",
   "name": "python2"
  },
  "language_info": {
   "codemirror_mode": {
    "name": "ipython",
    "version": 2
   },
   "file_extension": ".py",
   "mimetype": "text/x-python",
   "name": "python",
   "nbconvert_exporter": "python",
   "pygments_lexer": "ipython2",
   "version": "2.7.15"
  }
 },
 "nbformat": 4,
 "nbformat_minor": 2
}
