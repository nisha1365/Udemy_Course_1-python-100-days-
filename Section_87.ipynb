{
  "nbformat": 4,
  "nbformat_minor": 0,
  "metadata": {
    "colab": {
      "provenance": [],
      "authorship_tag": "ABX9TyOdBfD9w6iIoQFM+JMl7zOi",
      "include_colab_link": true
    },
    "kernelspec": {
      "name": "python3",
      "display_name": "Python 3"
    },
    "language_info": {
      "name": "python"
    }
  },
  "cells": [
    {
      "cell_type": "markdown",
      "metadata": {
        "id": "view-in-github",
        "colab_type": "text"
      },
      "source": [
        "<a href=\"https://colab.research.google.com/github/nisha1365/Udemy_Course_1-python-100-days-/blob/main/Section_87.ipynb\" target=\"_parent\"><img src=\"https://colab.research.google.com/assets/colab-badge.svg\" alt=\"Open In Colab\"/></a>"
      ]
    },
    {
      "cell_type": "markdown",
      "source": [
        "Build a website that lists cafes with wifi and power for remote working."
      ],
      "metadata": {
        "id": "VjuO-Ehmpe40"
      }
    },
    {
      "cell_type": "code",
      "source": [
        "PrintOrderReceipt(orderKeys[]){\n",
        " for each element in orderKeys array\n",
        "    look into the catalogue and print on paper\n",
        "    enter newline\n",
        " call the system setup using 'npm-token' for an auth token;\n",
        " get the qr code and print it on paper;\n",
        " update the CafeWiFi app with the token generated;\n",
        "}"
      ],
      "metadata": {
        "id": "VtKgjUd8pgEm"
      },
      "execution_count": null,
      "outputs": []
    },
    {
      "cell_type": "code",
      "source": [
        "VerifyAuthToken(authToken){\n",
        "  check if ( authToken === CafeWiFiToken )\n",
        "     validate the token;\n",
        "     if ( feedbackFormSubmitRequired )\n",
        "         redirect to form page;\n",
        "         submit form;\n",
        "         connect to internet;      \n",
        "  else \n",
        "     send to qrcode scan page;\n",
        "}"
      ],
      "metadata": {
        "id": "5Xv1kL6vsHdO"
      },
      "execution_count": null,
      "outputs": []
    }
  ]
}