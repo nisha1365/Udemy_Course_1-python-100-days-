{
  "nbformat": 4,
  "nbformat_minor": 0,
  "metadata": {
    "colab": {
      "provenance": [],
      "authorship_tag": "ABX9TyOxHpMbUCzxr6M0w5C7in/F",
      "include_colab_link": true
    },
    "kernelspec": {
      "name": "python3",
      "display_name": "Python 3"
    },
    "language_info": {
      "name": "python"
    }
  },
  "cells": [
    {
      "cell_type": "markdown",
      "metadata": {
        "id": "view-in-github",
        "colab_type": "text"
      },
      "source": [
        "<a href=\"https://colab.research.google.com/github/nisha1365/Udemy_Course_1-python-100-days-/blob/main/Section_10.ipynb\" target=\"_parent\"><img src=\"https://colab.research.google.com/assets/colab-badge.svg\" alt=\"Open In Colab\"/></a>"
      ]
    },
    {
      "cell_type": "code",
      "execution_count": 2,
      "metadata": {
        "colab": {
          "base_uri": "https://localhost:8080/"
        },
        "id": "FwJoT_Jc7Cyc",
        "outputId": "7254f5b5-47b5-4cea-bb2c-f5685f4ef1d4"
      },
      "outputs": [
        {
          "output_type": "stream",
          "name": "stdout",
          "text": [
            "Your first name: NISHa\n",
            "Your last name: CHOudhary\n",
            "None\n",
            "What is your first name? NEha\n",
            "What is your last name? sinGH\n",
            "None\n"
          ]
        }
      ],
      "source": [
        "#Functions with Outputs\n",
        "def format_name(f_name, l_name):\n",
        "  if f_name == \"\" or l_name == \"\":\n",
        "    return \"You didn't provide valid inputs.\"\n",
        "  formated_f_name = f_name.title()\n",
        "  formated_l_name = l_name.title()\n",
        "  f\"Result: {formated_f_name} {formated_l_name}\"\n",
        "\n",
        "#Storing output in a variable\n",
        "formatted_name = format_name(input(\"Your first name: \"), input(\"Your last name: \"))\n",
        "print(formatted_name)\n",
        "#or printing output directly\n",
        "print(format_name(input(\"What is your first name? \"), input(\"What is your last name? \")))\n",
        "\n",
        "#Already used functions with outputs.\n",
        "\n",
        "\n",
        "#Return as an early exit\n",
        "def format_name(f_name, l_name):\n",
        "  \"\"\"Take a first and last name and format it \n",
        "  to return the title case version of the name.\"\"\"\n",
        "  if f_name == \"\" or l_name == \"\":\n",
        "    return \"You didn't provide valid inputs.\"\n",
        "  formated_f_name = f_name.title()\n",
        "  formated_l_name = l_name.title()\n",
        "  return f\"Result: {formated_f_name} {formated_l_name}\"\n"
      ]
    },
    {
      "cell_type": "code",
      "source": [
        "#Functions with Outputs\n",
        "def format_name(f_name, l_name):\n",
        "  if f_name == \"\" or l_name == \"\":\n",
        "    return \"You didn't provide valid inputs.\"\n",
        "  formated_f_name = f_name.title()\n",
        "  formated_l_name = l_name.title()\n",
        "  f\"Result: {formated_f_name} {formated_l_name}\""
      ],
      "metadata": {
        "id": "0xcg6YaU9hG2"
      },
      "execution_count": 3,
      "outputs": []
    },
    {
      "cell_type": "code",
      "source": [
        "#Storing output in a variable\n",
        "formatted_name = format_name(input(\"Your first name: \"), input(\"Your last name: \"))\n",
        "print(formatted_name)\n",
        "#or printing output directly\n",
        "print(format_name(input(\"What is your first name? \"), input(\"What is your last name? \")))"
      ],
      "metadata": {
        "colab": {
          "base_uri": "https://localhost:8080/"
        },
        "id": "Fi23e5ll9lgJ",
        "outputId": "048ddc83-966b-494b-f2ea-c73088bb761c"
      },
      "execution_count": 4,
      "outputs": [
        {
          "output_type": "stream",
          "name": "stdout",
          "text": [
            "Your first name: NISha\n",
            "Your last name: CHOudhARY\n",
            "None\n",
            "What is your first name? NISHA\n",
            "What is your last name? CHOUDHARY\n",
            "None\n"
          ]
        }
      ]
    },
    {
      "cell_type": "code",
      "source": [
        "def format_name(f_name, l_name):\n",
        " # if f_name == \"\" or l_name == \"\":\n",
        "    \n",
        "  formated_f_name = f_name.title()\n",
        "  formated_l_name = l_name.title()\n",
        "  return f\"Result: {formated_f_name} {formated_l_name}\""
      ],
      "metadata": {
        "id": "yoKysour9lqe"
      },
      "execution_count": 11,
      "outputs": []
    },
    {
      "cell_type": "code",
      "source": [
        "print(format_name(input(\"Your first name: \"), input(\"Your last name: \")))"
      ],
      "metadata": {
        "colab": {
          "base_uri": "https://localhost:8080/"
        },
        "id": "FS5k4Qu4-I3m",
        "outputId": "f44da78c-30a0-4109-e081-3a3a7913d527"
      },
      "execution_count": 12,
      "outputs": [
        {
          "output_type": "stream",
          "name": "stdout",
          "text": [
            "Your first name: nISHA\n",
            "Your last name: CHOUDHARY\n",
            "Result: Nisha Choudhary\n"
          ]
        }
      ]
    },
    {
      "cell_type": "code",
      "source": [
        "year=int(input(\"Enter year to be checked:\"))\n",
        "if(year%4==0 and year%100!=0 or year%400==0):\n",
        "    print(\"The year is a leap year!\")\n",
        "else:\n",
        "    print(\"The year isn't a leap year!\")"
      ],
      "metadata": {
        "colab": {
          "base_uri": "https://localhost:8080/"
        },
        "id": "2CJqXBV5-JGc",
        "outputId": "8dd824fb-e825-4d33-8971-2b6f457c517c"
      },
      "execution_count": 18,
      "outputs": [
        {
          "output_type": "stream",
          "name": "stdout",
          "text": [
            "Enter year to be checked:2022\n",
            "The year isn't a leap year!\n"
          ]
        }
      ]
    },
    {
      "cell_type": "code",
      "source": [
        "def add(n1, n2):\n",
        "  return n1 + n2\n",
        " \n",
        "def subtract(n1, n2):\n",
        "  return n1 - n2\n",
        " \n",
        "def multiply(n1, n2):\n",
        "  return n1 * n2\n",
        " \n",
        "def divide(n1, n2):\n",
        "  return n1 / n2\n",
        " \n",
        "print(add(2, multiply(5, divide(8, 4))))"
      ],
      "metadata": {
        "colab": {
          "base_uri": "https://localhost:8080/"
        },
        "id": "V12Qjf5z-JIa",
        "outputId": "58d5ec9b-ce1f-4201-bb40-59d59f8a58e0"
      },
      "execution_count": 19,
      "outputs": [
        {
          "output_type": "stream",
          "name": "stdout",
          "text": [
            "12.0\n"
          ]
        }
      ]
    },
    {
      "cell_type": "code",
      "source": [
        "def outer_function(a, b):\n",
        "    def inner_function(c, d):\n",
        "        return c + d\n",
        "    return inner_function(a, b)\n",
        " \n",
        "result = outer_function(5, 10)\n",
        "print(result)"
      ],
      "metadata": {
        "colab": {
          "base_uri": "https://localhost:8080/"
        },
        "id": "QS09WKtWBNJ3",
        "outputId": "db2e89dd-0b3f-403d-b599-6a91f98bfe6a"
      },
      "execution_count": 20,
      "outputs": [
        {
          "output_type": "stream",
          "name": "stdout",
          "text": [
            "15\n"
          ]
        }
      ]
    },
    {
      "cell_type": "code",
      "source": [
        "def my_function(a):\n",
        "    if a < 40:\n",
        "        return\n",
        "        print(\"Terrible\")\n",
        "    if a < 80:\n",
        "        return \"Pass\"\n",
        "    else:\n",
        "        return \"Great\"\n",
        "print(my_function(25))"
      ],
      "metadata": {
        "colab": {
          "base_uri": "https://localhost:8080/"
        },
        "id": "IhouG3LEBNWu",
        "outputId": "3ce7d45e-d834-4d29-cf9e-051968540b15"
      },
      "execution_count": 21,
      "outputs": [
        {
          "output_type": "stream",
          "name": "stdout",
          "text": [
            "None\n"
          ]
        }
      ]
    },
    {
      "cell_type": "code",
      "source": [
        "def add(n1, n2):\n",
        "  return n1 + n2\n",
        "\n",
        "def subtract(n1, n2):\n",
        "  return n1 - n2\n",
        "\n",
        "def multiply(n1, n2):\n",
        "  return n1 * n2\n",
        "\n",
        "def divide(n1, n2):\n",
        "  return n1 / n2"
      ],
      "metadata": {
        "id": "-Oci8WkCB6It"
      },
      "execution_count": 22,
      "outputs": []
    },
    {
      "cell_type": "code",
      "source": [
        "operations = {\n",
        "  \"+\": add,\n",
        "  \"-\": subtract,\n",
        "  \"*\": multiply,\n",
        "  \"/\": divide\n",
        "}"
      ],
      "metadata": {
        "id": "yGp8JyWhCDA7"
      },
      "execution_count": 23,
      "outputs": []
    },
    {
      "cell_type": "code",
      "source": [
        "def calculator():\n",
        "  print(logo)\n",
        "\n",
        "  num1 = float(input(\"What's the first number?: \"))\n",
        "  for symbol in operations:\n",
        "    print(symbol)\n",
        "  should_continue = True\n",
        " \n",
        "  while should_continue:\n",
        "    operation_symbol = input(\"Pick an operation: \")\n",
        "    num2 = float(input(\"What's the next number?: \"))\n",
        "    calculation_function = operations[operation_symbol]\n",
        "    answer = calculation_function(num1, num2)\n",
        "    print(f\"{num1} {operation_symbol} {num2} = {answer}\")\n",
        "\n",
        "    if input(f\"Type 'y' to continue calculating with {answer}, or type 'n' to start a new calculation: \") == 'y':\n",
        "      num1 = answer\n",
        "    else:\n",
        "      should_continue = False\n",
        "      \n",
        "      calculator()\n",
        "\n",
        "calculator()\n"
      ],
      "metadata": {
        "id": "GvFVdx9kCQTp"
      },
      "execution_count": null,
      "outputs": []
    },
    {
      "cell_type": "code",
      "source": [],
      "metadata": {
        "id": "YvcfSzWKCQUb"
      },
      "execution_count": null,
      "outputs": []
    }
  ]
}