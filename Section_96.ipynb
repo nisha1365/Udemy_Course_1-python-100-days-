{
  "nbformat": 4,
  "nbformat_minor": 0,
  "metadata": {
    "colab": {
      "provenance": [],
      "authorship_tag": "ABX9TyMt4lBAOBuKu62D6SxCIexY",
      "include_colab_link": true
    },
    "kernelspec": {
      "name": "python3",
      "display_name": "Python 3"
    },
    "language_info": {
      "name": "python"
    }
  },
  "cells": [
    {
      "cell_type": "markdown",
      "metadata": {
        "id": "view-in-github",
        "colab_type": "text"
      },
      "source": [
        "<a href=\"https://colab.research.google.com/github/nisha1365/Udemy_Course_1-python-100-days-/blob/main/Section_96.ipynb\" target=\"_parent\"><img src=\"https://colab.research.google.com/assets/colab-badge.svg\" alt=\"Open In Colab\"/></a>"
      ]
    },
    {
      "cell_type": "markdown",
      "source": [
        "An eCommerce website with payment processing."
      ],
      "metadata": {
        "id": "H830N6OpRDqT"
      }
    },
    {
      "cell_type": "code",
      "source": [
        "!pip install stripe"
      ],
      "metadata": {
        "id": "t06L3lOgRE58"
      },
      "execution_count": null,
      "outputs": []
    },
    {
      "cell_type": "markdown",
      "source": [
        "Models\n",
        "Open your models.py file and we will create a Payment model class to save payment information using stripe :"
      ],
      "metadata": {
        "id": "guIrA5NERQhQ"
      }
    },
    {
      "cell_type": "code",
      "source": [
        "class Payment(models.Model):\n",
        "    stripe_id = models.CharField(max_length=50)\n",
        "    user = models.ForeignKey(settings.AUTH_USER_MODEL, \n",
        "                             on_delete=models.SET_NULL, blank=True, null=True)\n",
        "    amount = models.FloatField()\n",
        "    timestamp = models.DateTimeField(auto_now_add=True)\n",
        "\n",
        "    def __str__(self):\n",
        "        return self.user.username"
      ],
      "metadata": {
        "id": "mVenK-cKRTTx"
      },
      "execution_count": null,
      "outputs": []
    },
    {
      "cell_type": "code",
      "source": [
        "class CheckoutView(View):\n",
        "    def get(self, *args, **kwargs):\n",
        "        form = CheckoutForm()\n",
        "        order = Order.objects.get(user=self.request.user, ordered=False)\n",
        "        context = {\n",
        "            'form': form,\n",
        "            'order': order\n",
        "        }\n",
        "        return render(self.request, 'checkout.html', context)\n",
        "\n",
        "    def post(self, *args, **kwargs):\n",
        "        form = CheckoutForm(self.request.POST or None)\n",
        "        \n",
        "        try:\n",
        "            order = Order.objects.get(user=self.request.user, ordered=False)\n",
        "            if form.is_valid():\n",
        "                street_address = form.cleaned_data.get('street_address')\n",
        "                apartment_address = form.cleaned_data.get('apartment_address')\n",
        "                country = form.cleaned_data.get('country')\n",
        "                zip = form.cleaned_data.get('zip')\n",
        "                # TODO: add functionaly for these fields\n",
        "                # same_billing_address = form.cleaned_data.get('same_billing_address')\n",
        "                # save_info = form.cleaned_data.get('save_info')\n",
        "                payment_option = form.cleaned_data.get('payment_option')\n",
        "\n",
        "                checkout_address = CheckoutAddress(\n",
        "                    user=self.request.user,\n",
        "                    street_address=street_address,\n",
        "                    apartment_address=apartment_address,\n",
        "                    country=country,\n",
        "                    zip=zip\n",
        "                )\n",
        "                checkout_address.save()\n",
        "                order.checkout_address = checkout_address\n",
        "                order.save()\n",
        "\n",
        "                if payment_option == 'S':\n",
        "                    return redirect('core:payment', payment_option='stripe')\n",
        "                elif payment_option == 'P':\n",
        "                    return redirect('core:payment', payment_option='paypal')\n",
        "                else:\n",
        "                    messages.warning(self.request, \"Invalid Payment option\")\n",
        "                    return redirect('core:checkout')\n",
        "\n",
        "        except ObjectDoesNotExist:\n",
        "            messages.error(self.request, \"You do not have an order\")\n",
        "            return redirect(\"core:order-summary\")"
      ],
      "metadata": {
        "id": "y6aBkeBWRYKK"
      },
      "execution_count": null,
      "outputs": []
    },
    {
      "cell_type": "code",
      "source": [
        "class PaymentView(View):\n",
        "    def get(self, *args, **kwargs):\n",
        "        order = Order.objects.get(user=self.request.user, ordered=False)\n",
        "        context = {\n",
        "            'order': order\n",
        "        }\n",
        "        return render(self.request, \"payment.html\", context)\n",
        "\n",
        "    def post(self, *args, **kwargs):\n",
        "        order = Order.objects.get(user=self.request.user, ordered=False)\n",
        "        token = self.request.POST.get('stripeToken')\n",
        "        amount = int(order.get_total_price() * 100)  #cents\n",
        "\n",
        "        try:\n",
        "            charge = stripe.Charge.create(\n",
        "                amount=amount,\n",
        "                currency=\"usd\",\n",
        "                source=token\n",
        "            )\n",
        "\n",
        "            # create payment\n",
        "            payment = Payment()\n",
        "            payment.stripe_id = charge['id']\n",
        "            payment.user = self.request.user\n",
        "            payment.amount = order.get_total_price()\n",
        "            payment.save()\n",
        "\n",
        "            # assign payment to order\n",
        "            order.ordered = True\n",
        "            order.payment = payment\n",
        "            order.save()\n",
        "\n",
        "            messages.success(self.request, \"Success make an order\")\n",
        "            return redirect('/')\n",
        "\n",
        "        except stripe.error.CardError as e:\n",
        "            body = e.json_body\n",
        "            err = body.get('error', {})\n",
        "            messages.error(self.request, f\"{err.get('message')}\")\n",
        "            return redirect('/')\n",
        "\n",
        "        except stripe.error.RateLimitError as e:\n",
        "            # Too many requests made to the API too quickly\n",
        "            messages.error(self.request, \"To many request error\")\n",
        "            return redirect('/')\n",
        "\n",
        "        except stripe.error.InvalidRequestError as e:\n",
        "            # Invalid parameters were supplied to Stripe's API\n",
        "            messages.error(self.request, \"Invalid Parameter\")\n",
        "            return redirect('/')\n",
        "\n",
        "        except stripe.error.AuthenticationError as e:\n",
        "            # Authentication with Stripe's API failed\n",
        "            # (maybe you changed API keys recently)\n",
        "            messages.error(self.request, \"Authentication with stripe failed\")\n",
        "            return redirect('/')\n",
        "\n",
        "        except stripe.error.APIConnectionError as e:\n",
        "            # Network communication with Stripe failed\n",
        "            messages.error(self.request, \"Network Error\")\n",
        "            return redirect('/')\n",
        "\n",
        "        except stripe.error.StripeError as e:\n",
        "            # Display a very generic error to the user, and maybe send\n",
        "            # yourself an email\n",
        "            messages.error(self.request, \"Something went wrong\")\n",
        "            return redirect('/')\n",
        "        \n",
        "        except Exception as e:\n",
        "            # Something else happened, completely unrelated to Stripe\n",
        "            messages.error(self.request, \"Not identified error\")\n",
        "            return redirect('/')"
      ],
      "metadata": {
        "id": "i1Wp1p9aRf4Q"
      },
      "execution_count": null,
      "outputs": []
    }
  ]
}