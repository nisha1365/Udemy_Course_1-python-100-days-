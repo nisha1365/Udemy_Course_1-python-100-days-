{
 "cells": [
  {
   "cell_type": "markdown",
   "id": "6999039f",
   "metadata": {
    "papermill": {
     "duration": 0.016206,
     "end_time": "2022-09-13T12:04:26.758545",
     "exception": false,
     "start_time": "2022-09-13T12:04:26.742339",
     "status": "completed"
    },
    "tags": []
   },
   "source": [
    "# INTRODUCTION\n",
    "1. [Data Analysis](#1)\n",
    "2. [Bar Plot](#2)\n",
    "    * [Poverty Rate of each state with visualization](#2)\n",
    "    * [Most common 15 name and surname of killed people](#3)\n",
    "    * [Percentage of state population according to the race](#4)\n",
    "3. [Point Plot](#5)\n",
    "4. [Joint Plot](#6)\n",
    "5. [Pie Chart](#7)\n",
    "6. [Lm Plot](#8)\n",
    "7. [Kde Plot](#9)\n",
    "8. [Heatmap](#10)\n",
    "9. [Boxplot](#11)\n",
    "10. [Swarm Plot](#12)\n",
    "11. [Pair Plot](#13)\n",
    "12. [Count Plot](#14)"
   ]
  },
  {
   "cell_type": "code",
   "execution_count": 1,
   "id": "d601410c",
   "metadata": {
    "_cell_guid": "b1076dfc-b9ad-4769-8c92-a6c4dae69d19",
    "_uuid": "8f2839f25d086af736a60e9eeb907d3b93b6e0e5",
    "execution": {
     "iopub.execute_input": "2022-09-13T12:04:26.783624Z",
     "iopub.status.busy": "2022-09-13T12:04:26.782347Z",
     "iopub.status.idle": "2022-09-13T12:04:27.986579Z",
     "shell.execute_reply": "2022-09-13T12:04:27.985029Z"
    },
    "papermill": {
     "duration": 1.220053,
     "end_time": "2022-09-13T12:04:27.989696",
     "exception": false,
     "start_time": "2022-09-13T12:04:26.769643",
     "status": "completed"
    },
    "tags": []
   },
   "outputs": [
    {
     "name": "stdout",
     "output_type": "stream",
     "text": [
      "fatal-police-shootings-in-the-us\n",
      "\n",
      "/kaggle/input/fatal-police-shootings-in-the-us/PercentagePeopleBelowPovertyLevel.csv\n",
      "/kaggle/input/fatal-police-shootings-in-the-us/PoliceKillingsUS.csv\n",
      "/kaggle/input/fatal-police-shootings-in-the-us/MedianHouseholdIncome2015.csv\n",
      "/kaggle/input/fatal-police-shootings-in-the-us/PercentOver25CompletedHighSchool.csv\n",
      "/kaggle/input/fatal-police-shootings-in-the-us/ShareRaceByCity.csv\n"
     ]
    }
   ],
   "source": [
    "# This Papiython 3 environment comes with many helpful analytics libraries installed\n",
    "# It is defined by the kaggle/python Docker image: https://github.com/kaggle/docker-python\n",
    "# For example, here's several helpful packages to load\n",
    "\n",
    "import numpy as np # linear algebra\n",
    "import pandas as pd # data processing, CSV file I/O (e.g. pd.read_csv)\n",
    "\n",
    "import seaborn as sns\n",
    "import matplotlib.pyplot as plt\n",
    "from collections import Counter\n",
    "from subprocess import check_output\n",
    "print(check_output([\"ls\", \"../input\"]).decode(\"utf8\"))\n",
    "import warnings\n",
    "warnings.filterwarnings(\"ignore\")\n",
    "# Input data files are available in the read-only \"../input/\" directory\n",
    "# For example, running this (by clicking run or pressing Shift+Enter) will list all files under the input directory\n",
    "\n",
    "import os\n",
    "for dirname, _, filenames in os.walk('/kaggle/input'):\n",
    "    for filename in filenames:\n",
    "        print(os.path.join(dirname, filename))\n",
    "\n",
    "# You can write up to 20GB to the current directory (/kaggle/working/) that gets preserved as output when you create a version using \"Save & Run All\" \n",
    "# You can also write temporary files to /kaggle/temp/, but they won't be saved outside of the current session"
   ]
  },
  {
   "cell_type": "markdown",
   "id": "c5d41b9b",
   "metadata": {
    "papermill": {
     "duration": 0.010924,
     "end_time": "2022-09-13T12:04:28.012005",
     "exception": false,
     "start_time": "2022-09-13T12:04:28.001081",
     "status": "completed"
    },
    "tags": []
   },
   "source": [
    "<a id=1> </a> <br>\n",
    "### 1. Data Analysis"
   ]
  },
  {
   "cell_type": "code",
   "execution_count": 2,
   "id": "a4e18df3",
   "metadata": {
    "execution": {
     "iopub.execute_input": "2022-09-13T12:04:28.038214Z",
     "iopub.status.busy": "2022-09-13T12:04:28.037487Z",
     "iopub.status.idle": "2022-09-13T12:04:28.122193Z",
     "shell.execute_reply": "2022-09-13T12:04:28.121072Z"
    },
    "papermill": {
     "duration": 0.100816,
     "end_time": "2022-09-13T12:04:28.125381",
     "exception": false,
     "start_time": "2022-09-13T12:04:28.024565",
     "status": "completed"
    },
    "tags": []
   },
   "outputs": [
    {
     "data": {
      "text/html": [
       "<div>\n",
       "<style scoped>\n",
       "    .dataframe tbody tr th:only-of-type {\n",
       "        vertical-align: middle;\n",
       "    }\n",
       "\n",
       "    .dataframe tbody tr th {\n",
       "        vertical-align: top;\n",
       "    }\n",
       "\n",
       "    .dataframe thead th {\n",
       "        text-align: right;\n",
       "    }\n",
       "</style>\n",
       "<table border=\"1\" class=\"dataframe\">\n",
       "  <thead>\n",
       "    <tr style=\"text-align: right;\">\n",
       "      <th></th>\n",
       "      <th>Geographic Area</th>\n",
       "      <th>City</th>\n",
       "      <th>poverty_rate</th>\n",
       "    </tr>\n",
       "  </thead>\n",
       "  <tbody>\n",
       "    <tr>\n",
       "      <th>0</th>\n",
       "      <td>AL</td>\n",
       "      <td>Abanda CDP</td>\n",
       "      <td>78.8</td>\n",
       "    </tr>\n",
       "    <tr>\n",
       "      <th>1</th>\n",
       "      <td>AL</td>\n",
       "      <td>Abbeville city</td>\n",
       "      <td>29.1</td>\n",
       "    </tr>\n",
       "    <tr>\n",
       "      <th>2</th>\n",
       "      <td>AL</td>\n",
       "      <td>Adamsville city</td>\n",
       "      <td>25.5</td>\n",
       "    </tr>\n",
       "    <tr>\n",
       "      <th>3</th>\n",
       "      <td>AL</td>\n",
       "      <td>Addison town</td>\n",
       "      <td>30.7</td>\n",
       "    </tr>\n",
       "    <tr>\n",
       "      <th>4</th>\n",
       "      <td>AL</td>\n",
       "      <td>Akron town</td>\n",
       "      <td>42</td>\n",
       "    </tr>\n",
       "  </tbody>\n",
       "</table>\n",
       "</div>"
      ],
      "text/plain": [
       "  Geographic Area             City poverty_rate\n",
       "0              AL       Abanda CDP         78.8\n",
       "1              AL   Abbeville city         29.1\n",
       "2              AL  Adamsville city         25.5\n",
       "3              AL     Addison town         30.7\n",
       "4              AL       Akron town           42"
      ]
     },
     "execution_count": 2,
     "metadata": {},
     "output_type": "execute_result"
    }
   ],
   "source": [
    "#please add \"encoding=\"windows-1252\" end of the read code.\n",
    "df_pp = pd.read_csv(\"/kaggle/input/fatal-police-shootings-in-the-us/PercentagePeopleBelowPovertyLevel.csv\", encoding=\"windows-1252\")\n",
    "df_pp.head()"
   ]
  },
  {
   "cell_type": "code",
   "execution_count": 3,
   "id": "aa3d8c21",
   "metadata": {
    "execution": {
     "iopub.execute_input": "2022-09-13T12:04:28.153860Z",
     "iopub.status.busy": "2022-09-13T12:04:28.152896Z",
     "iopub.status.idle": "2022-09-13T12:04:28.196670Z",
     "shell.execute_reply": "2022-09-13T12:04:28.195465Z"
    },
    "papermill": {
     "duration": 0.060501,
     "end_time": "2022-09-13T12:04:28.199436",
     "exception": false,
     "start_time": "2022-09-13T12:04:28.138935",
     "status": "completed"
    },
    "tags": []
   },
   "outputs": [
    {
     "data": {
      "text/html": [
       "<div>\n",
       "<style scoped>\n",
       "    .dataframe tbody tr th:only-of-type {\n",
       "        vertical-align: middle;\n",
       "    }\n",
       "\n",
       "    .dataframe tbody tr th {\n",
       "        vertical-align: top;\n",
       "    }\n",
       "\n",
       "    .dataframe thead th {\n",
       "        text-align: right;\n",
       "    }\n",
       "</style>\n",
       "<table border=\"1\" class=\"dataframe\">\n",
       "  <thead>\n",
       "    <tr style=\"text-align: right;\">\n",
       "      <th></th>\n",
       "      <th>id</th>\n",
       "      <th>name</th>\n",
       "      <th>date</th>\n",
       "      <th>manner_of_death</th>\n",
       "      <th>armed</th>\n",
       "      <th>age</th>\n",
       "      <th>gender</th>\n",
       "      <th>race</th>\n",
       "      <th>city</th>\n",
       "      <th>state</th>\n",
       "      <th>signs_of_mental_illness</th>\n",
       "      <th>threat_level</th>\n",
       "      <th>flee</th>\n",
       "      <th>body_camera</th>\n",
       "    </tr>\n",
       "  </thead>\n",
       "  <tbody>\n",
       "    <tr>\n",
       "      <th>0</th>\n",
       "      <td>3</td>\n",
       "      <td>Tim Elliot</td>\n",
       "      <td>02/01/15</td>\n",
       "      <td>shot</td>\n",
       "      <td>gun</td>\n",
       "      <td>53.0</td>\n",
       "      <td>M</td>\n",
       "      <td>A</td>\n",
       "      <td>Shelton</td>\n",
       "      <td>WA</td>\n",
       "      <td>True</td>\n",
       "      <td>attack</td>\n",
       "      <td>Not fleeing</td>\n",
       "      <td>False</td>\n",
       "    </tr>\n",
       "    <tr>\n",
       "      <th>1</th>\n",
       "      <td>4</td>\n",
       "      <td>Lewis Lee Lembke</td>\n",
       "      <td>02/01/15</td>\n",
       "      <td>shot</td>\n",
       "      <td>gun</td>\n",
       "      <td>47.0</td>\n",
       "      <td>M</td>\n",
       "      <td>W</td>\n",
       "      <td>Aloha</td>\n",
       "      <td>OR</td>\n",
       "      <td>False</td>\n",
       "      <td>attack</td>\n",
       "      <td>Not fleeing</td>\n",
       "      <td>False</td>\n",
       "    </tr>\n",
       "    <tr>\n",
       "      <th>2</th>\n",
       "      <td>5</td>\n",
       "      <td>John Paul Quintero</td>\n",
       "      <td>03/01/15</td>\n",
       "      <td>shot and Tasered</td>\n",
       "      <td>unarmed</td>\n",
       "      <td>23.0</td>\n",
       "      <td>M</td>\n",
       "      <td>H</td>\n",
       "      <td>Wichita</td>\n",
       "      <td>KS</td>\n",
       "      <td>False</td>\n",
       "      <td>other</td>\n",
       "      <td>Not fleeing</td>\n",
       "      <td>False</td>\n",
       "    </tr>\n",
       "    <tr>\n",
       "      <th>3</th>\n",
       "      <td>8</td>\n",
       "      <td>Matthew Hoffman</td>\n",
       "      <td>04/01/15</td>\n",
       "      <td>shot</td>\n",
       "      <td>toy weapon</td>\n",
       "      <td>32.0</td>\n",
       "      <td>M</td>\n",
       "      <td>W</td>\n",
       "      <td>San Francisco</td>\n",
       "      <td>CA</td>\n",
       "      <td>True</td>\n",
       "      <td>attack</td>\n",
       "      <td>Not fleeing</td>\n",
       "      <td>False</td>\n",
       "    </tr>\n",
       "    <tr>\n",
       "      <th>4</th>\n",
       "      <td>9</td>\n",
       "      <td>Michael Rodriguez</td>\n",
       "      <td>04/01/15</td>\n",
       "      <td>shot</td>\n",
       "      <td>nail gun</td>\n",
       "      <td>39.0</td>\n",
       "      <td>M</td>\n",
       "      <td>H</td>\n",
       "      <td>Evans</td>\n",
       "      <td>CO</td>\n",
       "      <td>False</td>\n",
       "      <td>attack</td>\n",
       "      <td>Not fleeing</td>\n",
       "      <td>False</td>\n",
       "    </tr>\n",
       "  </tbody>\n",
       "</table>\n",
       "</div>"
      ],
      "text/plain": [
       "   id                name      date   manner_of_death       armed   age  \\\n",
       "0   3          Tim Elliot  02/01/15              shot         gun  53.0   \n",
       "1   4    Lewis Lee Lembke  02/01/15              shot         gun  47.0   \n",
       "2   5  John Paul Quintero  03/01/15  shot and Tasered     unarmed  23.0   \n",
       "3   8     Matthew Hoffman  04/01/15              shot  toy weapon  32.0   \n",
       "4   9   Michael Rodriguez  04/01/15              shot    nail gun  39.0   \n",
       "\n",
       "  gender race           city state  signs_of_mental_illness threat_level  \\\n",
       "0      M    A        Shelton    WA                     True       attack   \n",
       "1      M    W          Aloha    OR                    False       attack   \n",
       "2      M    H        Wichita    KS                    False        other   \n",
       "3      M    W  San Francisco    CA                     True       attack   \n",
       "4      M    H          Evans    CO                    False       attack   \n",
       "\n",
       "          flee  body_camera  \n",
       "0  Not fleeing        False  \n",
       "1  Not fleeing        False  \n",
       "2  Not fleeing        False  \n",
       "3  Not fleeing        False  \n",
       "4  Not fleeing        False  "
      ]
     },
     "execution_count": 3,
     "metadata": {},
     "output_type": "execute_result"
    }
   ],
   "source": [
    "df_pk = pd.read_csv(\"/kaggle/input/fatal-police-shootings-in-the-us/PoliceKillingsUS.csv\", encoding=\"windows-1252\")\n",
    "df_pk.head()\n"
   ]
  },
  {
   "cell_type": "code",
   "execution_count": 4,
   "id": "c59a5eeb",
   "metadata": {
    "execution": {
     "iopub.execute_input": "2022-09-13T12:04:28.224936Z",
     "iopub.status.busy": "2022-09-13T12:04:28.224253Z",
     "iopub.status.idle": "2022-09-13T12:04:28.284399Z",
     "shell.execute_reply": "2022-09-13T12:04:28.283172Z"
    },
    "papermill": {
     "duration": 0.075717,
     "end_time": "2022-09-13T12:04:28.287116",
     "exception": false,
     "start_time": "2022-09-13T12:04:28.211399",
     "status": "completed"
    },
    "tags": []
   },
   "outputs": [
    {
     "data": {
      "text/html": [
       "<div>\n",
       "<style scoped>\n",
       "    .dataframe tbody tr th:only-of-type {\n",
       "        vertical-align: middle;\n",
       "    }\n",
       "\n",
       "    .dataframe tbody tr th {\n",
       "        vertical-align: top;\n",
       "    }\n",
       "\n",
       "    .dataframe thead th {\n",
       "        text-align: right;\n",
       "    }\n",
       "</style>\n",
       "<table border=\"1\" class=\"dataframe\">\n",
       "  <thead>\n",
       "    <tr style=\"text-align: right;\">\n",
       "      <th></th>\n",
       "      <th>Geographic Area</th>\n",
       "      <th>City</th>\n",
       "      <th>Median Income</th>\n",
       "    </tr>\n",
       "  </thead>\n",
       "  <tbody>\n",
       "    <tr>\n",
       "      <th>0</th>\n",
       "      <td>AL</td>\n",
       "      <td>Abanda CDP</td>\n",
       "      <td>11207</td>\n",
       "    </tr>\n",
       "    <tr>\n",
       "      <th>1</th>\n",
       "      <td>AL</td>\n",
       "      <td>Abbeville city</td>\n",
       "      <td>25615</td>\n",
       "    </tr>\n",
       "    <tr>\n",
       "      <th>2</th>\n",
       "      <td>AL</td>\n",
       "      <td>Adamsville city</td>\n",
       "      <td>42575</td>\n",
       "    </tr>\n",
       "    <tr>\n",
       "      <th>3</th>\n",
       "      <td>AL</td>\n",
       "      <td>Addison town</td>\n",
       "      <td>37083</td>\n",
       "    </tr>\n",
       "    <tr>\n",
       "      <th>4</th>\n",
       "      <td>AL</td>\n",
       "      <td>Akron town</td>\n",
       "      <td>21667</td>\n",
       "    </tr>\n",
       "  </tbody>\n",
       "</table>\n",
       "</div>"
      ],
      "text/plain": [
       "  Geographic Area             City Median Income\n",
       "0              AL       Abanda CDP         11207\n",
       "1              AL   Abbeville city         25615\n",
       "2              AL  Adamsville city         42575\n",
       "3              AL     Addison town         37083\n",
       "4              AL       Akron town         21667"
      ]
     },
     "execution_count": 4,
     "metadata": {},
     "output_type": "execute_result"
    }
   ],
   "source": [
    "df_mh = pd.read_csv(\"/kaggle/input/fatal-police-shootings-in-the-us/MedianHouseholdIncome2015.csv\", encoding=\"windows-1252\")\n",
    "df_mh.head()\n"
   ]
  },
  {
   "cell_type": "code",
   "execution_count": 5,
   "id": "c965ae7a",
   "metadata": {
    "execution": {
     "iopub.execute_input": "2022-09-13T12:04:28.313032Z",
     "iopub.status.busy": "2022-09-13T12:04:28.312356Z",
     "iopub.status.idle": "2022-09-13T12:04:28.381174Z",
     "shell.execute_reply": "2022-09-13T12:04:28.379567Z"
    },
    "papermill": {
     "duration": 0.08581,
     "end_time": "2022-09-13T12:04:28.385048",
     "exception": false,
     "start_time": "2022-09-13T12:04:28.299238",
     "status": "completed"
    },
    "tags": []
   },
   "outputs": [
    {
     "data": {
      "text/html": [
       "<div>\n",
       "<style scoped>\n",
       "    .dataframe tbody tr th:only-of-type {\n",
       "        vertical-align: middle;\n",
       "    }\n",
       "\n",
       "    .dataframe tbody tr th {\n",
       "        vertical-align: top;\n",
       "    }\n",
       "\n",
       "    .dataframe thead th {\n",
       "        text-align: right;\n",
       "    }\n",
       "</style>\n",
       "<table border=\"1\" class=\"dataframe\">\n",
       "  <thead>\n",
       "    <tr style=\"text-align: right;\">\n",
       "      <th></th>\n",
       "      <th>Geographic Area</th>\n",
       "      <th>City</th>\n",
       "      <th>percent_completed_hs</th>\n",
       "    </tr>\n",
       "  </thead>\n",
       "  <tbody>\n",
       "    <tr>\n",
       "      <th>0</th>\n",
       "      <td>AL</td>\n",
       "      <td>Abanda CDP</td>\n",
       "      <td>21.2</td>\n",
       "    </tr>\n",
       "    <tr>\n",
       "      <th>1</th>\n",
       "      <td>AL</td>\n",
       "      <td>Abbeville city</td>\n",
       "      <td>69.1</td>\n",
       "    </tr>\n",
       "    <tr>\n",
       "      <th>2</th>\n",
       "      <td>AL</td>\n",
       "      <td>Adamsville city</td>\n",
       "      <td>78.9</td>\n",
       "    </tr>\n",
       "    <tr>\n",
       "      <th>3</th>\n",
       "      <td>AL</td>\n",
       "      <td>Addison town</td>\n",
       "      <td>81.4</td>\n",
       "    </tr>\n",
       "    <tr>\n",
       "      <th>4</th>\n",
       "      <td>AL</td>\n",
       "      <td>Akron town</td>\n",
       "      <td>68.6</td>\n",
       "    </tr>\n",
       "  </tbody>\n",
       "</table>\n",
       "</div>"
      ],
      "text/plain": [
       "  Geographic Area             City percent_completed_hs\n",
       "0              AL       Abanda CDP                 21.2\n",
       "1              AL   Abbeville city                 69.1\n",
       "2              AL  Adamsville city                 78.9\n",
       "3              AL     Addison town                 81.4\n",
       "4              AL       Akron town                 68.6"
      ]
     },
     "execution_count": 5,
     "metadata": {},
     "output_type": "execute_result"
    }
   ],
   "source": [
    "df_po25 =  pd.read_csv(\"/kaggle/input/fatal-police-shootings-in-the-us/PercentOver25CompletedHighSchool.csv\", encoding=\"windows-1252\")\n",
    "df_po25.head()"
   ]
  },
  {
   "cell_type": "code",
   "execution_count": 6,
   "id": "db6d7a71",
   "metadata": {
    "execution": {
     "iopub.execute_input": "2022-09-13T12:04:28.416849Z",
     "iopub.status.busy": "2022-09-13T12:04:28.415532Z",
     "iopub.status.idle": "2022-09-13T12:04:28.512955Z",
     "shell.execute_reply": "2022-09-13T12:04:28.511738Z"
    },
    "papermill": {
     "duration": 0.117461,
     "end_time": "2022-09-13T12:04:28.516008",
     "exception": false,
     "start_time": "2022-09-13T12:04:28.398547",
     "status": "completed"
    },
    "tags": []
   },
   "outputs": [
    {
     "data": {
      "text/html": [
       "<div>\n",
       "<style scoped>\n",
       "    .dataframe tbody tr th:only-of-type {\n",
       "        vertical-align: middle;\n",
       "    }\n",
       "\n",
       "    .dataframe tbody tr th {\n",
       "        vertical-align: top;\n",
       "    }\n",
       "\n",
       "    .dataframe thead th {\n",
       "        text-align: right;\n",
       "    }\n",
       "</style>\n",
       "<table border=\"1\" class=\"dataframe\">\n",
       "  <thead>\n",
       "    <tr style=\"text-align: right;\">\n",
       "      <th></th>\n",
       "      <th>Geographic area</th>\n",
       "      <th>City</th>\n",
       "      <th>share_white</th>\n",
       "      <th>share_black</th>\n",
       "      <th>share_native_american</th>\n",
       "      <th>share_asian</th>\n",
       "      <th>share_hispanic</th>\n",
       "    </tr>\n",
       "  </thead>\n",
       "  <tbody>\n",
       "    <tr>\n",
       "      <th>0</th>\n",
       "      <td>AL</td>\n",
       "      <td>Abanda CDP</td>\n",
       "      <td>67.2</td>\n",
       "      <td>30.2</td>\n",
       "      <td>0</td>\n",
       "      <td>0</td>\n",
       "      <td>1.6</td>\n",
       "    </tr>\n",
       "    <tr>\n",
       "      <th>1</th>\n",
       "      <td>AL</td>\n",
       "      <td>Abbeville city</td>\n",
       "      <td>54.4</td>\n",
       "      <td>41.4</td>\n",
       "      <td>0.1</td>\n",
       "      <td>1</td>\n",
       "      <td>3.1</td>\n",
       "    </tr>\n",
       "    <tr>\n",
       "      <th>2</th>\n",
       "      <td>AL</td>\n",
       "      <td>Adamsville city</td>\n",
       "      <td>52.3</td>\n",
       "      <td>44.9</td>\n",
       "      <td>0.5</td>\n",
       "      <td>0.3</td>\n",
       "      <td>2.3</td>\n",
       "    </tr>\n",
       "    <tr>\n",
       "      <th>3</th>\n",
       "      <td>AL</td>\n",
       "      <td>Addison town</td>\n",
       "      <td>99.1</td>\n",
       "      <td>0.1</td>\n",
       "      <td>0</td>\n",
       "      <td>0.1</td>\n",
       "      <td>0.4</td>\n",
       "    </tr>\n",
       "    <tr>\n",
       "      <th>4</th>\n",
       "      <td>AL</td>\n",
       "      <td>Akron town</td>\n",
       "      <td>13.2</td>\n",
       "      <td>86.5</td>\n",
       "      <td>0</td>\n",
       "      <td>0</td>\n",
       "      <td>0.3</td>\n",
       "    </tr>\n",
       "  </tbody>\n",
       "</table>\n",
       "</div>"
      ],
      "text/plain": [
       "  Geographic area             City share_white share_black  \\\n",
       "0              AL       Abanda CDP        67.2        30.2   \n",
       "1              AL   Abbeville city        54.4        41.4   \n",
       "2              AL  Adamsville city        52.3        44.9   \n",
       "3              AL     Addison town        99.1         0.1   \n",
       "4              AL       Akron town        13.2        86.5   \n",
       "\n",
       "  share_native_american share_asian share_hispanic  \n",
       "0                     0           0            1.6  \n",
       "1                   0.1           1            3.1  \n",
       "2                   0.5         0.3            2.3  \n",
       "3                     0         0.1            0.4  \n",
       "4                     0           0            0.3  "
      ]
     },
     "execution_count": 6,
     "metadata": {},
     "output_type": "execute_result"
    }
   ],
   "source": [
    "df_scity =  pd.read_csv(\"/kaggle/input/fatal-police-shootings-in-the-us/ShareRaceByCity.csv\", encoding=\"windows-1252\")\n",
    "df_scity.head()"
   ]
  },
  {
   "cell_type": "markdown",
   "id": "5f2b43cb",
   "metadata": {
    "papermill": {
     "duration": 0.012105,
     "end_time": "2022-09-13T12:04:28.544106",
     "exception": false,
     "start_time": "2022-09-13T12:04:28.532001",
     "status": "completed"
    },
    "tags": []
   },
   "source": [
    "<a id=2></a> <br>\n",
    "## 2- Bar Plot\n",
    "### Poverty Rate of each state with visualization"
   ]
  },
  {
   "cell_type": "code",
   "execution_count": 7,
   "id": "c4a88fca",
   "metadata": {
    "execution": {
     "iopub.execute_input": "2022-09-13T12:04:28.572435Z",
     "iopub.status.busy": "2022-09-13T12:04:28.571349Z",
     "iopub.status.idle": "2022-09-13T12:04:28.607335Z",
     "shell.execute_reply": "2022-09-13T12:04:28.605826Z"
    },
    "papermill": {
     "duration": 0.053174,
     "end_time": "2022-09-13T12:04:28.610072",
     "exception": false,
     "start_time": "2022-09-13T12:04:28.556898",
     "status": "completed"
    },
    "tags": []
   },
   "outputs": [
    {
     "name": "stdout",
     "output_type": "stream",
     "text": [
      "<class 'pandas.core.frame.DataFrame'>\n",
      "RangeIndex: 29329 entries, 0 to 29328\n",
      "Data columns (total 3 columns):\n",
      " #   Column           Non-Null Count  Dtype \n",
      "---  ------           --------------  ----- \n",
      " 0   Geographic Area  29329 non-null  object\n",
      " 1   City             29329 non-null  object\n",
      " 2   poverty_rate     29329 non-null  object\n",
      "dtypes: object(3)\n",
      "memory usage: 687.5+ KB\n"
     ]
    }
   ],
   "source": [
    "#Powerty rate of each state:\n",
    "df_pp.info() #there is no null data"
   ]
  },
  {
   "cell_type": "code",
   "execution_count": 8,
   "id": "b388e06b",
   "metadata": {
    "execution": {
     "iopub.execute_input": "2022-09-13T12:04:28.642641Z",
     "iopub.status.busy": "2022-09-13T12:04:28.642135Z",
     "iopub.status.idle": "2022-09-13T12:04:28.654485Z",
     "shell.execute_reply": "2022-09-13T12:04:28.653551Z"
    },
    "papermill": {
     "duration": 0.032509,
     "end_time": "2022-09-13T12:04:28.657188",
     "exception": false,
     "start_time": "2022-09-13T12:04:28.624679",
     "status": "completed"
    },
    "tags": []
   },
   "outputs": [
    {
     "data": {
      "text/plain": [
       "0       1464\n",
       "-        201\n",
       "7.4      129\n",
       "6.7      129\n",
       "10.9     128\n",
       "        ... \n",
       "73.5       1\n",
       "92         1\n",
       "73.8       1\n",
       "55.9       1\n",
       "83.6       1\n",
       "Name: poverty_rate, Length: 771, dtype: int64"
      ]
     },
     "execution_count": 8,
     "metadata": {},
     "output_type": "execute_result"
    }
   ],
   "source": [
    "df_pp.poverty_rate.value_counts()"
   ]
  },
  {
   "cell_type": "code",
   "execution_count": 9,
   "id": "ea329986",
   "metadata": {
    "execution": {
     "iopub.execute_input": "2022-09-13T12:04:28.688983Z",
     "iopub.status.busy": "2022-09-13T12:04:28.688179Z",
     "iopub.status.idle": "2022-09-13T12:04:29.661045Z",
     "shell.execute_reply": "2022-09-13T12:04:29.659901Z"
    },
    "papermill": {
     "duration": 0.989898,
     "end_time": "2022-09-13T12:04:29.663730",
     "exception": false,
     "start_time": "2022-09-13T12:04:28.673832",
     "status": "completed"
    },
    "tags": []
   },
   "outputs": [
    {
     "data": {
      "image/png": "[encoded data removed]",
      "text/plain": [
       "<Figure size 1080x720 with 1 Axes>"
      ]
     },
     "metadata": {
      "needs_background": "light"
     },
     "output_type": "display_data"
    }
   ],
   "source": [
    "#change poverty rate type object to float\n",
    "df_pp.poverty_rate.replace([\"-\"], 0.0, inplace=True)\n",
    "df_pp.poverty_rate = df_pp.poverty_rate.astype(float)\n",
    "area_list = list(df_pp[\"Geographic Area\"].unique())\n",
    "area_poverty_ratio=[]\n",
    "for i in area_list:\n",
    "    a = df_pp[df_pp[\"Geographic Area\"]==i]\n",
    "    area_poverty_rate = sum(a.poverty_rate)/len(a)\n",
    "    area_poverty_ratio.append(area_poverty_rate)\n",
    "data = pd.DataFrame({\"area_list\":area_list, \"area_poverty_ratio\": area_poverty_ratio})\n",
    "new_index = (data[\"area_poverty_ratio\"].sort_values(ascending=False)).index.values\n",
    "sorted_data = data.reindex(new_index)\n",
    "\n",
    "plt.figure(figsize=(15,10))\n",
    "ax = sns.barplot(x=sorted_data[\"area_list\"], y=sorted_data[\"area_poverty_ratio\"])\n",
    "plt.xticks(rotation=45)\n",
    "plt.xlabel(\"States\")\n",
    "plt.ylabel(\"Poverty Rate\")\n",
    "plt.title(\"Poverty Rate & State\")\n",
    "plt.show()\n",
    "\n",
    "\n",
    "    "
   ]
  },
  {
   "cell_type": "markdown",
   "id": "58bad62e",
   "metadata": {
    "papermill": {
     "duration": 0.012532,
     "end_time": "2022-09-13T12:04:29.689336",
     "exception": false,
     "start_time": "2022-09-13T12:04:29.676804",
     "status": "completed"
    },
    "tags": []
   },
   "source": [
    "<a id=3> </a><br>\n",
    "### Most common 15 name and surname of killed people"
   ]
  },
  {
   "cell_type": "code",
   "execution_count": 10,
   "id": "a19cda96",
   "metadata": {
    "execution": {
     "iopub.execute_input": "2022-09-13T12:04:29.717033Z",
     "iopub.status.busy": "2022-09-13T12:04:29.716410Z",
     "iopub.status.idle": "2022-09-13T12:04:29.732329Z",
     "shell.execute_reply": "2022-09-13T12:04:29.731061Z"
    },
    "papermill": {
     "duration": 0.03331,
     "end_time": "2022-09-13T12:04:29.735503",
     "exception": false,
     "start_time": "2022-09-13T12:04:29.702193",
     "status": "completed"
    },
    "tags": []
   },
   "outputs": [
    {
     "name": "stdout",
     "output_type": "stream",
     "text": [
      "<class 'pandas.core.frame.DataFrame'>\n",
      "RangeIndex: 2535 entries, 0 to 2534\n",
      "Data columns (total 14 columns):\n",
      " #   Column                   Non-Null Count  Dtype  \n",
      "---  ------                   --------------  -----  \n",
      " 0   id                       2535 non-null   int64  \n",
      " 1   name                     2535 non-null   object \n",
      " 2   date                     2535 non-null   object \n",
      " 3   manner_of_death          2535 non-null   object \n",
      " 4   armed                    2526 non-null   object \n",
      " 5   age                      2458 non-null   float64\n",
      " 6   gender                   2535 non-null   object \n",
      " 7   race                     2340 non-null   object \n",
      " 8   city                     2535 non-null   object \n",
      " 9   state                    2535 non-null   object \n",
      " 10  signs_of_mental_illness  2535 non-null   bool   \n",
      " 11  threat_level             2535 non-null   object \n",
      " 12  flee                     2470 non-null   object \n",
      " 13  body_camera              2535 non-null   bool   \n",
      "dtypes: bool(2), float64(1), int64(1), object(10)\n",
      "memory usage: 242.7+ KB\n"
     ]
    }
   ],
   "source": [
    "df_pk.info()"
   ]
  },
  {
   "cell_type": "code",
   "execution_count": 11,
   "id": "dbe2b0b0",
   "metadata": {
    "execution": {
     "iopub.execute_input": "2022-09-13T12:04:29.763541Z",
     "iopub.status.busy": "2022-09-13T12:04:29.762335Z",
     "iopub.status.idle": "2022-09-13T12:04:29.780983Z",
     "shell.execute_reply": "2022-09-13T12:04:29.779999Z"
    },
    "papermill": {
     "duration": 0.034833,
     "end_time": "2022-09-13T12:04:29.783199",
     "exception": false,
     "start_time": "2022-09-13T12:04:29.748366",
     "status": "completed"
    },
    "tags": []
   },
   "outputs": [
    {
     "data": {
      "text/html": [
       "<div>\n",
       "<style scoped>\n",
       "    .dataframe tbody tr th:only-of-type {\n",
       "        vertical-align: middle;\n",
       "    }\n",
       "\n",
       "    .dataframe tbody tr th {\n",
       "        vertical-align: top;\n",
       "    }\n",
       "\n",
       "    .dataframe thead th {\n",
       "        text-align: right;\n",
       "    }\n",
       "</style>\n",
       "<table border=\"1\" class=\"dataframe\">\n",
       "  <thead>\n",
       "    <tr style=\"text-align: right;\">\n",
       "      <th></th>\n",
       "      <th>id</th>\n",
       "      <th>name</th>\n",
       "      <th>date</th>\n",
       "      <th>manner_of_death</th>\n",
       "      <th>armed</th>\n",
       "      <th>age</th>\n",
       "      <th>gender</th>\n",
       "      <th>race</th>\n",
       "      <th>city</th>\n",
       "      <th>state</th>\n",
       "      <th>signs_of_mental_illness</th>\n",
       "      <th>threat_level</th>\n",
       "      <th>flee</th>\n",
       "      <th>body_camera</th>\n",
       "    </tr>\n",
       "  </thead>\n",
       "  <tbody>\n",
       "    <tr>\n",
       "      <th>0</th>\n",
       "      <td>3</td>\n",
       "      <td>Tim Elliot</td>\n",
       "      <td>02/01/15</td>\n",
       "      <td>shot</td>\n",
       "      <td>gun</td>\n",
       "      <td>53.0</td>\n",
       "      <td>M</td>\n",
       "      <td>A</td>\n",
       "      <td>Shelton</td>\n",
       "      <td>WA</td>\n",
       "      <td>True</td>\n",
       "      <td>attack</td>\n",
       "      <td>Not fleeing</td>\n",
       "      <td>False</td>\n",
       "    </tr>\n",
       "    <tr>\n",
       "      <th>1</th>\n",
       "      <td>4</td>\n",
       "      <td>Lewis Lee Lembke</td>\n",
       "      <td>02/01/15</td>\n",
       "      <td>shot</td>\n",
       "      <td>gun</td>\n",
       "      <td>47.0</td>\n",
       "      <td>M</td>\n",
       "      <td>W</td>\n",
       "      <td>Aloha</td>\n",
       "      <td>OR</td>\n",
       "      <td>False</td>\n",
       "      <td>attack</td>\n",
       "      <td>Not fleeing</td>\n",
       "      <td>False</td>\n",
       "    </tr>\n",
       "    <tr>\n",
       "      <th>2</th>\n",
       "      <td>5</td>\n",
       "      <td>John Paul Quintero</td>\n",
       "      <td>03/01/15</td>\n",
       "      <td>shot and Tasered</td>\n",
       "      <td>unarmed</td>\n",
       "      <td>23.0</td>\n",
       "      <td>M</td>\n",
       "      <td>H</td>\n",
       "      <td>Wichita</td>\n",
       "      <td>KS</td>\n",
       "      <td>False</td>\n",
       "      <td>other</td>\n",
       "      <td>Not fleeing</td>\n",
       "      <td>False</td>\n",
       "    </tr>\n",
       "    <tr>\n",
       "      <th>3</th>\n",
       "      <td>8</td>\n",
       "      <td>Matthew Hoffman</td>\n",
       "      <td>04/01/15</td>\n",
       "      <td>shot</td>\n",
       "      <td>toy weapon</td>\n",
       "      <td>32.0</td>\n",
       "      <td>M</td>\n",
       "      <td>W</td>\n",
       "      <td>San Francisco</td>\n",
       "      <td>CA</td>\n",
       "      <td>True</td>\n",
       "      <td>attack</td>\n",
       "      <td>Not fleeing</td>\n",
       "      <td>False</td>\n",
       "    </tr>\n",
       "    <tr>\n",
       "      <th>4</th>\n",
       "      <td>9</td>\n",
       "      <td>Michael Rodriguez</td>\n",
       "      <td>04/01/15</td>\n",
       "      <td>shot</td>\n",
       "      <td>nail gun</td>\n",
       "      <td>39.0</td>\n",
       "      <td>M</td>\n",
       "      <td>H</td>\n",
       "      <td>Evans</td>\n",
       "      <td>CO</td>\n",
       "      <td>False</td>\n",
       "      <td>attack</td>\n",
       "      <td>Not fleeing</td>\n",
       "      <td>False</td>\n",
       "    </tr>\n",
       "  </tbody>\n",
       "</table>\n",
       "</div>"
      ],
      "text/plain": [
       "   id                name      date   manner_of_death       armed   age  \\\n",
       "0   3          Tim Elliot  02/01/15              shot         gun  53.0   \n",
       "1   4    Lewis Lee Lembke  02/01/15              shot         gun  47.0   \n",
       "2   5  John Paul Quintero  03/01/15  shot and Tasered     unarmed  23.0   \n",
       "3   8     Matthew Hoffman  04/01/15              shot  toy weapon  32.0   \n",
       "4   9   Michael Rodriguez  04/01/15              shot    nail gun  39.0   \n",
       "\n",
       "  gender race           city state  signs_of_mental_illness threat_level  \\\n",
       "0      M    A        Shelton    WA                     True       attack   \n",
       "1      M    W          Aloha    OR                    False       attack   \n",
       "2      M    H        Wichita    KS                    False        other   \n",
       "3      M    W  San Francisco    CA                     True       attack   \n",
       "4      M    H          Evans    CO                    False       attack   \n",
       "\n",
       "          flee  body_camera  \n",
       "0  Not fleeing        False  \n",
       "1  Not fleeing        False  \n",
       "2  Not fleeing        False  \n",
       "3  Not fleeing        False  \n",
       "4  Not fleeing        False  "
      ]
     },
     "execution_count": 11,
     "metadata": {},
     "output_type": "execute_result"
    }
   ],
   "source": [
    "df_pk.head()"
   ]
  },
  {
   "cell_type": "code",
   "execution_count": 12,
   "id": "4c52eed3",
   "metadata": {
    "execution": {
     "iopub.execute_input": "2022-09-13T12:04:29.811939Z",
     "iopub.status.busy": "2022-09-13T12:04:29.811172Z",
     "iopub.status.idle": "2022-09-13T12:04:30.120795Z",
     "shell.execute_reply": "2022-09-13T12:04:30.119698Z"
    },
    "papermill": {
     "duration": 0.32683,
     "end_time": "2022-09-13T12:04:30.123402",
     "exception": false,
     "start_time": "2022-09-13T12:04:29.796572",
     "status": "completed"
    },
    "tags": []
   },
   "outputs": [
    {
     "data": {
      "image/png": "[encoded data removed]",
      "text/plain": [
       "<Figure size 1080x720 with 1 Axes>"
      ]
     },
     "metadata": {
      "needs_background": "light"
     },
     "output_type": "display_data"
    }
   ],
   "source": [
    "seperate = df_pk.name[df_pk.name!=\"TK TK\"].str.split() #there is a name with TK TK. We ignore this one.\n",
    "n, s = zip(*seperate)\n",
    "name_list = n+s\n",
    "new_count = Counter(name_list)\n",
    "common_names = new_count.most_common(15)\n",
    "a,b = zip(*common_names)\n",
    "a,b = list(a), list(b)\n",
    "plt.figure(figsize=(15,10))\n",
    "ax = sns.barplot(x=a, y=b, palette = sns.cubehelix_palette(len(a)))\n",
    "plt.xlabel(\"Name or Surname of killed people\")\n",
    "plt.ylabel(\"Frequency\")\n",
    "plt.title(\"Most common 15 Name or Surname of killed people\")\n",
    "plt.show()"
   ]
  },
  {
   "cell_type": "markdown",
   "id": "c05c46b8",
   "metadata": {
    "papermill": {
     "duration": 0.013265,
     "end_time": "2022-09-13T12:04:30.150353",
     "exception": false,
     "start_time": "2022-09-13T12:04:30.137088",
     "status": "completed"
    },
    "tags": []
   },
   "source": [
    "<a id =4> </a><br>\n",
    "### Percentage of state population according to the race \n",
    "(horizontal bar plot)"
   ]
  },
  {
   "cell_type": "code",
   "execution_count": 13,
   "id": "579ce285",
   "metadata": {
    "execution": {
     "iopub.execute_input": "2022-09-13T12:04:30.179916Z",
     "iopub.status.busy": "2022-09-13T12:04:30.178734Z",
     "iopub.status.idle": "2022-09-13T12:04:30.201158Z",
     "shell.execute_reply": "2022-09-13T12:04:30.199641Z"
    },
    "papermill": {
     "duration": 0.040179,
     "end_time": "2022-09-13T12:04:30.204095",
     "exception": false,
     "start_time": "2022-09-13T12:04:30.163916",
     "status": "completed"
    },
    "tags": []
   },
   "outputs": [
    {
     "name": "stdout",
     "output_type": "stream",
     "text": [
      "<class 'pandas.core.frame.DataFrame'>\n",
      "RangeIndex: 29268 entries, 0 to 29267\n",
      "Data columns (total 7 columns):\n",
      " #   Column                 Non-Null Count  Dtype \n",
      "---  ------                 --------------  ----- \n",
      " 0   Geographic area        29268 non-null  object\n",
      " 1   City                   29268 non-null  object\n",
      " 2   share_white            29268 non-null  object\n",
      " 3   share_black            29268 non-null  object\n",
      " 4   share_native_american  29268 non-null  object\n",
      " 5   share_asian            29268 non-null  object\n",
      " 6   share_hispanic         29268 non-null  object\n",
      "dtypes: object(7)\n",
      "memory usage: 1.6+ MB\n"
     ]
    }
   ],
   "source": [
    "df_scity.info()"
   ]
  },
  {
   "cell_type": "code",
   "execution_count": 14,
   "id": "cfae614e",
   "metadata": {
    "execution": {
     "iopub.execute_input": "2022-09-13T12:04:30.233607Z",
     "iopub.status.busy": "2022-09-13T12:04:30.232904Z",
     "iopub.status.idle": "2022-09-13T12:04:30.246711Z",
     "shell.execute_reply": "2022-09-13T12:04:30.245825Z"
    },
    "papermill": {
     "duration": 0.030991,
     "end_time": "2022-09-13T12:04:30.248924",
     "exception": false,
     "start_time": "2022-09-13T12:04:30.217933",
     "status": "completed"
    },
    "tags": []
   },
   "outputs": [
    {
     "data": {
      "text/html": [
       "<div>\n",
       "<style scoped>\n",
       "    .dataframe tbody tr th:only-of-type {\n",
       "        vertical-align: middle;\n",
       "    }\n",
       "\n",
       "    .dataframe tbody tr th {\n",
       "        vertical-align: top;\n",
       "    }\n",
       "\n",
       "    .dataframe thead th {\n",
       "        text-align: right;\n",
       "    }\n",
       "</style>\n",
       "<table border=\"1\" class=\"dataframe\">\n",
       "  <thead>\n",
       "    <tr style=\"text-align: right;\">\n",
       "      <th></th>\n",
       "      <th>Geographic area</th>\n",
       "      <th>City</th>\n",
       "      <th>share_white</th>\n",
       "      <th>share_black</th>\n",
       "      <th>share_native_american</th>\n",
       "      <th>share_asian</th>\n",
       "      <th>share_hispanic</th>\n",
       "    </tr>\n",
       "  </thead>\n",
       "  <tbody>\n",
       "    <tr>\n",
       "      <th>0</th>\n",
       "      <td>AL</td>\n",
       "      <td>Abanda CDP</td>\n",
       "      <td>67.2</td>\n",
       "      <td>30.2</td>\n",
       "      <td>0</td>\n",
       "      <td>0</td>\n",
       "      <td>1.6</td>\n",
       "    </tr>\n",
       "    <tr>\n",
       "      <th>1</th>\n",
       "      <td>AL</td>\n",
       "      <td>Abbeville city</td>\n",
       "      <td>54.4</td>\n",
       "      <td>41.4</td>\n",
       "      <td>0.1</td>\n",
       "      <td>1</td>\n",
       "      <td>3.1</td>\n",
       "    </tr>\n",
       "    <tr>\n",
       "      <th>2</th>\n",
       "      <td>AL</td>\n",
       "      <td>Adamsville city</td>\n",
       "      <td>52.3</td>\n",
       "      <td>44.9</td>\n",
       "      <td>0.5</td>\n",
       "      <td>0.3</td>\n",
       "      <td>2.3</td>\n",
       "    </tr>\n",
       "    <tr>\n",
       "      <th>3</th>\n",
       "      <td>AL</td>\n",
       "      <td>Addison town</td>\n",
       "      <td>99.1</td>\n",
       "      <td>0.1</td>\n",
       "      <td>0</td>\n",
       "      <td>0.1</td>\n",
       "      <td>0.4</td>\n",
       "    </tr>\n",
       "    <tr>\n",
       "      <th>4</th>\n",
       "      <td>AL</td>\n",
       "      <td>Akron town</td>\n",
       "      <td>13.2</td>\n",
       "      <td>86.5</td>\n",
       "      <td>0</td>\n",
       "      <td>0</td>\n",
       "      <td>0.3</td>\n",
       "    </tr>\n",
       "  </tbody>\n",
       "</table>\n",
       "</div>"
      ],
      "text/plain": [
       "  Geographic area             City share_white share_black  \\\n",
       "0              AL       Abanda CDP        67.2        30.2   \n",
       "1              AL   Abbeville city        54.4        41.4   \n",
       "2              AL  Adamsville city        52.3        44.9   \n",
       "3              AL     Addison town        99.1         0.1   \n",
       "4              AL       Akron town        13.2        86.5   \n",
       "\n",
       "  share_native_american share_asian share_hispanic  \n",
       "0                     0           0            1.6  \n",
       "1                   0.1           1            3.1  \n",
       "2                   0.5         0.3            2.3  \n",
       "3                     0         0.1            0.4  \n",
       "4                     0           0            0.3  "
      ]
     },
     "execution_count": 14,
     "metadata": {},
     "output_type": "execute_result"
    }
   ],
   "source": [
    "df_scity.head()"
   ]
  },
  {
   "cell_type": "code",
   "execution_count": 15,
   "id": "607718b0",
   "metadata": {
    "execution": {
     "iopub.execute_input": "2022-09-13T12:04:30.278217Z",
     "iopub.status.busy": "2022-09-13T12:04:30.277805Z",
     "iopub.status.idle": "2022-09-13T12:04:30.288180Z",
     "shell.execute_reply": "2022-09-13T12:04:30.287249Z"
    },
    "papermill": {
     "duration": 0.027391,
     "end_time": "2022-09-13T12:04:30.290250",
     "exception": false,
     "start_time": "2022-09-13T12:04:30.262859",
     "status": "completed"
    },
    "tags": []
   },
   "outputs": [
    {
     "data": {
      "text/plain": [
       "0       6930\n",
       "0.2     3170\n",
       "0.3     2612\n",
       "0.1     2522\n",
       "0.4     2004\n",
       "        ... \n",
       "74.4       1\n",
       "40.8       1\n",
       "52.2       1\n",
       "75.7       1\n",
       "56.6       1\n",
       "Name: share_native_american, Length: 628, dtype: int64"
      ]
     },
     "execution_count": 15,
     "metadata": {},
     "output_type": "execute_result"
    }
   ],
   "source": [
    "df_scity.share_native_american.value_counts()"
   ]
  },
  {
   "cell_type": "code",
   "execution_count": 16,
   "id": "9254a557",
   "metadata": {
    "execution": {
     "iopub.execute_input": "2022-09-13T12:04:30.320137Z",
     "iopub.status.busy": "2022-09-13T12:04:30.319245Z",
     "iopub.status.idle": "2022-09-13T12:04:32.113472Z",
     "shell.execute_reply": "2022-09-13T12:04:32.112449Z"
    },
    "papermill": {
     "duration": 1.811977,
     "end_time": "2022-09-13T12:04:32.115993",
     "exception": false,
     "start_time": "2022-09-13T12:04:30.304016",
     "status": "completed"
    },
    "tags": []
   },
   "outputs": [
    {
     "data": {
      "image/png": "[encoded data removed]",
      "text/plain": [
       "<Figure size 648x1080 with 1 Axes>"
      ]
     },
     "metadata": {
      "needs_background": "light"
     },
     "output_type": "display_data"
    }
   ],
   "source": [
    "df_scity.replace([\"-\"],0.0, inplace=True)\n",
    "df_scity.replace([\"(X)\"],0.0, inplace=True)\n",
    "#turn object data to float\n",
    "df_scity.loc[:, [\"share_white\",\"share_black\",\"share_native_american\",\"share_asian\",\"share_hispanic\"]]= df_scity.loc[:, [\"share_white\",\"share_black\",\"share_native_american\",\"share_asian\",\"share_hispanic\"]].astype(float)\n",
    "area_list = list(df_scity[\"Geographic area\"].unique())\n",
    "s_white=[]\n",
    "s_black=[]\n",
    "s_namerican=[]\n",
    "s_asian=[]\n",
    "s_hispanic=[]\n",
    "for i in area_list:\n",
    "    x = df_scity[df_scity[\"Geographic area\"]==i]\n",
    "    s_white.append(sum(x.share_white)/len(x))\n",
    "    s_black.append(sum(x.share_black)/len(x))\n",
    "    s_namerican.append(sum(x.share_native_american)/len(x))\n",
    "    s_asian.append(sum(x.share_asian)/len(x))\n",
    "    s_hispanic.append(sum(x.share_hispanic)/len(x))\n",
    "    \n",
    "f, ax = plt.subplots(figsize=(9,15))\n",
    "sns.barplot(x=s_white, y=area_list, color=\"green\", alpha=0.5, label=\"White\")\n",
    "sns.barplot(x=s_black, y=area_list, color=\"red\", alpha=0.5, label=\"Black\")\n",
    "sns.barplot(x=s_namerican, y=area_list, color=\"blue\", alpha=0.5, label=\"N American\")\n",
    "sns.barplot(x=s_asian, y=area_list, color=\"yellow\", alpha=0.5, label=\"Asian\")\n",
    "sns.barplot(x=s_hispanic, y=area_list, color=\"purple\", alpha=0.5, label=\"Hispanic\")\n",
    "\n",
    "ax.legend(loc=\"lower right\", frameon=True)\n",
    "ax.set(xlabel=\"Percantage of Races\", ylabel=\"States\", title=\"Percentage of state population according to the race\")\n",
    "plt.show()"
   ]
  },
  {
   "cell_type": "markdown",
   "id": "83578761",
   "metadata": {
    "papermill": {
     "duration": 0.015665,
     "end_time": "2022-09-13T12:04:32.146711",
     "exception": false,
     "start_time": "2022-09-13T12:04:32.131046",
     "status": "completed"
    },
    "tags": []
   },
   "source": [
    "<a id=5> </a><br>\n",
    "## 3-Point Plot\n",
    "### High school graduation rate & poverty rate of each state"
   ]
  },
  {
   "cell_type": "code",
   "execution_count": 17,
   "id": "8e9acb9a",
   "metadata": {
    "execution": {
     "iopub.execute_input": "2022-09-13T12:04:32.177907Z",
     "iopub.status.busy": "2022-09-13T12:04:32.177108Z",
     "iopub.status.idle": "2022-09-13T12:04:32.315608Z",
     "shell.execute_reply": "2022-09-13T12:04:32.314406Z"
    },
    "papermill": {
     "duration": 0.157306,
     "end_time": "2022-09-13T12:04:32.318468",
     "exception": false,
     "start_time": "2022-09-13T12:04:32.161162",
     "status": "completed"
    },
    "tags": []
   },
   "outputs": [],
   "source": [
    "#poverty rate of each state\n",
    "df_pp.poverty_rate.replace([\"-\"], 0.0, inplace=True)\n",
    "df_pp.poverty_rate = df_pp.poverty_rate.astype(float)\n",
    "area_list = list(df_pp[\"Geographic Area\"].unique())\n",
    "area_poverty_ratio=[]\n",
    "for i in area_list:\n",
    "    a = df_pp[df_pp[\"Geographic Area\"]==i]\n",
    "    area_poverty_rate = sum(a.poverty_rate)/len(a)\n",
    "    area_poverty_ratio.append(area_poverty_rate)\n",
    "data = pd.DataFrame({\"area_list\":area_list, \"area_poverty_ratio\": area_poverty_ratio})\n",
    "new_index = (data[\"area_poverty_ratio\"].sort_values(ascending=False)).index.values\n",
    "sorted_data = data.reindex(new_index)\n",
    "\n"
   ]
  },
  {
   "cell_type": "code",
   "execution_count": 18,
   "id": "6593b1b6",
   "metadata": {
    "execution": {
     "iopub.execute_input": "2022-09-13T12:04:32.349317Z",
     "iopub.status.busy": "2022-09-13T12:04:32.348527Z",
     "iopub.status.idle": "2022-09-13T12:04:32.494854Z",
     "shell.execute_reply": "2022-09-13T12:04:32.493785Z"
    },
    "papermill": {
     "duration": 0.164501,
     "end_time": "2022-09-13T12:04:32.497356",
     "exception": false,
     "start_time": "2022-09-13T12:04:32.332855",
     "status": "completed"
    },
    "tags": []
   },
   "outputs": [],
   "source": [
    "# High school graduation rate of the population that is older than 25 in states\n",
    "df_po25.percent_completed_hs.replace(['-'],0.0,inplace = True)\n",
    "df_po25.percent_completed_hs = df_po25.percent_completed_hs.astype(float)\n",
    "area_list = list(df_po25['Geographic Area'].unique())\n",
    "area_highschool = []\n",
    "for i in area_list:\n",
    "    x = df_po25[df_po25['Geographic Area']==i]\n",
    "    area_highschool_rate = sum(x.percent_completed_hs)/len(x)\n",
    "    area_highschool.append(area_highschool_rate)\n",
    "# sorting\n",
    "data = pd.DataFrame({'area_list': area_list,'area_highschool_ratio':area_highschool})\n",
    "new_index = (data['area_highschool_ratio'].sort_values(ascending=True)).index.values\n",
    "sorted_data2 = data.reindex(new_index)"
   ]
  },
  {
   "cell_type": "code",
   "execution_count": 19,
   "id": "b305417e",
   "metadata": {
    "execution": {
     "iopub.execute_input": "2022-09-13T12:04:32.528338Z",
     "iopub.status.busy": "2022-09-13T12:04:32.527615Z",
     "iopub.status.idle": "2022-09-13T12:04:32.539835Z",
     "shell.execute_reply": "2022-09-13T12:04:32.538603Z"
    },
    "papermill": {
     "duration": 0.030464,
     "end_time": "2022-09-13T12:04:32.542256",
     "exception": false,
     "start_time": "2022-09-13T12:04:32.511792",
     "status": "completed"
    },
    "tags": []
   },
   "outputs": [
    {
     "data": {
      "text/html": [
       "<div>\n",
       "<style scoped>\n",
       "    .dataframe tbody tr th:only-of-type {\n",
       "        vertical-align: middle;\n",
       "    }\n",
       "\n",
       "    .dataframe tbody tr th {\n",
       "        vertical-align: top;\n",
       "    }\n",
       "\n",
       "    .dataframe thead th {\n",
       "        text-align: right;\n",
       "    }\n",
       "</style>\n",
       "<table border=\"1\" class=\"dataframe\">\n",
       "  <thead>\n",
       "    <tr style=\"text-align: right;\">\n",
       "      <th></th>\n",
       "      <th>area_list</th>\n",
       "      <th>area_poverty_ratio</th>\n",
       "    </tr>\n",
       "  </thead>\n",
       "  <tbody>\n",
       "    <tr>\n",
       "      <th>24</th>\n",
       "      <td>MS</td>\n",
       "      <td>26.884254</td>\n",
       "    </tr>\n",
       "    <tr>\n",
       "      <th>2</th>\n",
       "      <td>AZ</td>\n",
       "      <td>25.268071</td>\n",
       "    </tr>\n",
       "    <tr>\n",
       "      <th>10</th>\n",
       "      <td>GA</td>\n",
       "      <td>23.663636</td>\n",
       "    </tr>\n",
       "    <tr>\n",
       "      <th>3</th>\n",
       "      <td>AR</td>\n",
       "      <td>22.963216</td>\n",
       "    </tr>\n",
       "    <tr>\n",
       "      <th>31</th>\n",
       "      <td>NM</td>\n",
       "      <td>22.507675</td>\n",
       "    </tr>\n",
       "  </tbody>\n",
       "</table>\n",
       "</div>"
      ],
      "text/plain": [
       "   area_list  area_poverty_ratio\n",
       "24        MS           26.884254\n",
       "2         AZ           25.268071\n",
       "10        GA           23.663636\n",
       "3         AR           22.963216\n",
       "31        NM           22.507675"
      ]
     },
     "execution_count": 19,
     "metadata": {},
     "output_type": "execute_result"
    }
   ],
   "source": [
    "sorted_data.head()"
   ]
  },
  {
   "cell_type": "code",
   "execution_count": 20,
   "id": "ef374053",
   "metadata": {
    "execution": {
     "iopub.execute_input": "2022-09-13T12:04:32.573987Z",
     "iopub.status.busy": "2022-09-13T12:04:32.572880Z",
     "iopub.status.idle": "2022-09-13T12:04:32.583609Z",
     "shell.execute_reply": "2022-09-13T12:04:32.582749Z"
    },
    "papermill": {
     "duration": 0.028725,
     "end_time": "2022-09-13T12:04:32.585740",
     "exception": false,
     "start_time": "2022-09-13T12:04:32.557015",
     "status": "completed"
    },
    "tags": []
   },
   "outputs": [
    {
     "data": {
      "text/html": [
       "<div>\n",
       "<style scoped>\n",
       "    .dataframe tbody tr th:only-of-type {\n",
       "        vertical-align: middle;\n",
       "    }\n",
       "\n",
       "    .dataframe tbody tr th {\n",
       "        vertical-align: top;\n",
       "    }\n",
       "\n",
       "    .dataframe thead th {\n",
       "        text-align: right;\n",
       "    }\n",
       "</style>\n",
       "<table border=\"1\" class=\"dataframe\">\n",
       "  <thead>\n",
       "    <tr style=\"text-align: right;\">\n",
       "      <th></th>\n",
       "      <th>area_list</th>\n",
       "      <th>area_highschool_ratio</th>\n",
       "    </tr>\n",
       "  </thead>\n",
       "  <tbody>\n",
       "    <tr>\n",
       "      <th>43</th>\n",
       "      <td>TX</td>\n",
       "      <td>74.086949</td>\n",
       "    </tr>\n",
       "    <tr>\n",
       "      <th>24</th>\n",
       "      <td>MS</td>\n",
       "      <td>78.470718</td>\n",
       "    </tr>\n",
       "    <tr>\n",
       "      <th>10</th>\n",
       "      <td>GA</td>\n",
       "      <td>78.634450</td>\n",
       "    </tr>\n",
       "    <tr>\n",
       "      <th>31</th>\n",
       "      <td>NM</td>\n",
       "      <td>78.971783</td>\n",
       "    </tr>\n",
       "    <tr>\n",
       "      <th>18</th>\n",
       "      <td>LA</td>\n",
       "      <td>79.122363</td>\n",
       "    </tr>\n",
       "  </tbody>\n",
       "</table>\n",
       "</div>"
      ],
      "text/plain": [
       "   area_list  area_highschool_ratio\n",
       "43        TX              74.086949\n",
       "24        MS              78.470718\n",
       "10        GA              78.634450\n",
       "31        NM              78.971783\n",
       "18        LA              79.122363"
      ]
     },
     "execution_count": 20,
     "metadata": {},
     "output_type": "execute_result"
    }
   ],
   "source": [
    "sorted_data2.head()"
   ]
  },
  {
   "cell_type": "code",
   "execution_count": 21,
   "id": "ae423d46",
   "metadata": {
    "execution": {
     "iopub.execute_input": "2022-09-13T12:04:32.617626Z",
     "iopub.status.busy": "2022-09-13T12:04:32.616957Z",
     "iopub.status.idle": "2022-09-13T12:04:33.590981Z",
     "shell.execute_reply": "2022-09-13T12:04:33.589731Z"
    },
    "papermill": {
     "duration": 0.993167,
     "end_time": "2022-09-13T12:04:33.594015",
     "exception": false,
     "start_time": "2022-09-13T12:04:32.600848",
     "status": "completed"
    },
    "tags": []
   },
   "outputs": [
    {
     "data": {
      "image/png": "[encoded data removed]",
      "text/plain": [
       "<Figure size 1440x720 with 1 Axes>"
      ]
     },
     "metadata": {
      "needs_background": "light"
     },
     "output_type": "display_data"
    }
   ],
   "source": [
    "sorted_data['area_poverty_ratio'] = sorted_data['area_poverty_ratio']/max( sorted_data['area_poverty_ratio']) #normalize according to max number\n",
    "sorted_data2['area_highschool_ratio'] = sorted_data2['area_highschool_ratio']/max( sorted_data2['area_highschool_ratio']) #normalize according to max number\n",
    "data = pd.concat([sorted_data,sorted_data2['area_highschool_ratio']],axis=1)\n",
    "data.sort_values('area_poverty_ratio',inplace=True)\n",
    "\n",
    "#visualize\n",
    "\n",
    "f, ax1 = plt.subplots(figsize=(20,10))\n",
    "sns.pointplot(x=\"area_list\", y=\"area_poverty_ratio\", data=data, color=\"green\", alpha=0.8)\n",
    "sns.pointplot(x=\"area_list\", y=\"area_highschool_ratio\", data=data, color=\"red\", alpha=0.8)\n",
    "plt.text(40,0.6,'high school graduate ratio',color='red',fontsize = 17,style = 'italic')\n",
    "plt.text(40,0.55,'poverty ratio',color='green',fontsize = 18,style = 'italic')\n",
    "plt.xlabel('States',fontsize = 15,color='blue')\n",
    "plt.ylabel('Values',fontsize = 15,color='blue')\n",
    "plt.title('High School Graduate  -  Poverty Rate',fontsize = 20,color='blue')\n",
    "plt.grid()"
   ]
  },
  {
   "cell_type": "markdown",
   "id": "a83a8ae4",
   "metadata": {
    "papermill": {
     "duration": 0.015977,
     "end_time": "2022-09-13T12:04:33.626597",
     "exception": false,
     "start_time": "2022-09-13T12:04:33.610620",
     "status": "completed"
    },
    "tags": []
   },
   "source": [
    "<a id=6> </a> <br>\n",
    "## 4. Joint Plot\n",
    "### High school graduation rate & poverty rate of each state"
   ]
  },
  {
   "cell_type": "code",
   "execution_count": 22,
   "id": "fa49220b",
   "metadata": {
    "execution": {
     "iopub.execute_input": "2022-09-13T12:04:33.661118Z",
     "iopub.status.busy": "2022-09-13T12:04:33.660441Z",
     "iopub.status.idle": "2022-09-13T12:04:34.271176Z",
     "shell.execute_reply": "2022-09-13T12:04:34.269908Z"
    },
    "papermill": {
     "duration": 0.630693,
     "end_time": "2022-09-13T12:04:34.273549",
     "exception": false,
     "start_time": "2022-09-13T12:04:33.642856",
     "status": "completed"
    },
    "tags": []
   },
   "outputs": [
    {
     "data": {
      "image/png": "[encoded data removed]",
      "text/plain": [
       "<Figure size 432x432 with 3 Axes>"
      ]
     },
     "metadata": {
      "needs_background": "light"
     },
     "output_type": "display_data"
    }
   ],
   "source": [
    "graph = sns.jointplot(x=\"area_poverty_ratio\", y=\"area_highschool_ratio\", data=data, ratio=3, color=\"r\" )"
   ]
  },
  {
   "cell_type": "markdown",
   "id": "ed5fff7e",
   "metadata": {
    "papermill": {
     "duration": 0.016275,
     "end_time": "2022-09-13T12:04:34.306214",
     "exception": false,
     "start_time": "2022-09-13T12:04:34.289939",
     "status": "completed"
    },
    "tags": []
   },
   "source": [
    "<a id=7> </a><br>\n",
    "## 5. Pie Chart\n",
    "### Race Rate according to Poverty Ratio"
   ]
  },
  {
   "cell_type": "code",
   "execution_count": 23,
   "id": "10f8ecbb",
   "metadata": {
    "execution": {
     "iopub.execute_input": "2022-09-13T12:04:34.341501Z",
     "iopub.status.busy": "2022-09-13T12:04:34.340778Z",
     "iopub.status.idle": "2022-09-13T12:04:34.347504Z",
     "shell.execute_reply": "2022-09-13T12:04:34.346767Z"
    },
    "papermill": {
     "duration": 0.027114,
     "end_time": "2022-09-13T12:04:34.349689",
     "exception": false,
     "start_time": "2022-09-13T12:04:34.322575",
     "status": "completed"
    },
    "tags": []
   },
   "outputs": [
    {
     "data": {
      "text/plain": [
       "195"
      ]
     },
     "execution_count": 23,
     "metadata": {},
     "output_type": "execute_result"
    }
   ],
   "source": [
    "#sum of null data in race column\n",
    "df_pk.race.isnull().sum()"
   ]
  },
  {
   "cell_type": "code",
   "execution_count": 24,
   "id": "ec20f3c1",
   "metadata": {
    "execution": {
     "iopub.execute_input": "2022-09-13T12:04:34.384900Z",
     "iopub.status.busy": "2022-09-13T12:04:34.384442Z",
     "iopub.status.idle": "2022-09-13T12:04:34.539499Z",
     "shell.execute_reply": "2022-09-13T12:04:34.537976Z"
    },
    "papermill": {
     "duration": 0.177321,
     "end_time": "2022-09-13T12:04:34.543718",
     "exception": false,
     "start_time": "2022-09-13T12:04:34.366397",
     "status": "completed"
    },
    "tags": []
   },
   "outputs": [
    {
     "data": {
      "image/png": "[encoded data removed]",
      "text/plain": [
       "<Figure size 504x504 with 1 Axes>"
      ]
     },
     "metadata": {},
     "output_type": "display_data"
    }
   ],
   "source": [
    "df_pk.race.dropna(inplace=True)\n",
    "labels = df_pk.race.value_counts().index #6 various races in data\n",
    "colors = [\"brown\", \"red\", \"blue\", \"green\", \"purple\", \"yellow\"]\n",
    "pie_rate = [0,0,0,0,0,0]\n",
    "values = df_pk.race.value_counts().values\n",
    "plt.figure(figsize=(7,7))\n",
    "#matplotlib pie chart of visualization\n",
    "plt.pie(values, explode=pie_rate, labels=labels, colors=colors, autopct=\"%1.1f%%\")\n",
    "plt.title(\"Race Rate according to Poverty Ratio\", color=\"blue\", fontsize=15)\n",
    "plt.show()"
   ]
  },
  {
   "cell_type": "markdown",
   "id": "5da770da",
   "metadata": {
    "papermill": {
     "duration": 0.017679,
     "end_time": "2022-09-13T12:04:34.603869",
     "exception": false,
     "start_time": "2022-09-13T12:04:34.586190",
     "status": "completed"
    },
    "tags": []
   },
   "source": [
    "<a id = 8> </a> <br>\n",
    "## 6- Lm Plot\n",
    "### High school graduation rate & poverty rate of each state"
   ]
  },
  {
   "cell_type": "code",
   "execution_count": 25,
   "id": "1803eaf2",
   "metadata": {
    "execution": {
     "iopub.execute_input": "2022-09-13T12:04:34.638995Z",
     "iopub.status.busy": "2022-09-13T12:04:34.638587Z",
     "iopub.status.idle": "2022-09-13T12:04:35.046115Z",
     "shell.execute_reply": "2022-09-13T12:04:35.044920Z"
    },
    "papermill": {
     "duration": 0.427931,
     "end_time": "2022-09-13T12:04:35.048649",
     "exception": false,
     "start_time": "2022-09-13T12:04:34.620718",
     "status": "completed"
    },
    "tags": []
   },
   "outputs": [
    {
     "data": {
      "image/png": "[encoded data removed]",
      "text/plain": [
       "<Figure size 360x360 with 1 Axes>"
      ]
     },
     "metadata": {
      "needs_background": "light"
     },
     "output_type": "display_data"
    }
   ],
   "source": [
    "sns.lmplot(x= \"area_poverty_ratio\", y=\"area_highschool_ratio\", data=data)\n",
    "plt.show()"
   ]
  },
  {
   "cell_type": "markdown",
   "id": "822dda64",
   "metadata": {
    "papermill": {
     "duration": 0.016871,
     "end_time": "2022-09-13T12:04:35.083014",
     "exception": false,
     "start_time": "2022-09-13T12:04:35.066143",
     "status": "completed"
    },
    "tags": []
   },
   "source": [
    "<a id = 9> </a> <br>\n",
    "## 7- Kde Plot\n",
    "### High school graduation rate & poverty rate of each state"
   ]
  },
  {
   "cell_type": "code",
   "execution_count": 26,
   "id": "7a8a8cad",
   "metadata": {
    "execution": {
     "iopub.execute_input": "2022-09-13T12:04:35.119867Z",
     "iopub.status.busy": "2022-09-13T12:04:35.118957Z",
     "iopub.status.idle": "2022-09-13T12:04:35.416186Z",
     "shell.execute_reply": "2022-09-13T12:04:35.414904Z"
    },
    "papermill": {
     "duration": 0.318948,
     "end_time": "2022-09-13T12:04:35.419115",
     "exception": false,
     "start_time": "2022-09-13T12:04:35.100167",
     "status": "completed"
    },
    "tags": []
   },
   "outputs": [
    {
     "data": {
      "image/png": "[encoded data removed]",
      "text/plain": [
       "<Figure size 432x288 with 1 Axes>"
      ]
     },
     "metadata": {
      "needs_background": "light"
     },
     "output_type": "display_data"
    }
   ],
   "source": [
    "sns.kdeplot(x= \"area_poverty_ratio\", y=\"area_highschool_ratio\", data=data, shade=True, cut=5)\n",
    "plt.show()"
   ]
  },
  {
   "cell_type": "markdown",
   "id": "e0e5bd6e",
   "metadata": {
    "papermill": {
     "duration": 0.017222,
     "end_time": "2022-09-13T12:04:35.454551",
     "exception": false,
     "start_time": "2022-09-13T12:04:35.437329",
     "status": "completed"
    },
    "tags": []
   },
   "source": [
    "<a id = 10> </a> <br>\n",
    "## 8- Heatmap (for Correlation)\n",
    "### High school graduation rate & poverty rate of each state"
   ]
  },
  {
   "cell_type": "code",
   "execution_count": 27,
   "id": "10c4a0af",
   "metadata": {
    "execution": {
     "iopub.execute_input": "2022-09-13T12:04:35.491924Z",
     "iopub.status.busy": "2022-09-13T12:04:35.491462Z",
     "iopub.status.idle": "2022-09-13T12:04:35.504179Z",
     "shell.execute_reply": "2022-09-13T12:04:35.503394Z"
    },
    "papermill": {
     "duration": 0.034295,
     "end_time": "2022-09-13T12:04:35.506410",
     "exception": false,
     "start_time": "2022-09-13T12:04:35.472115",
     "status": "completed"
    },
    "tags": []
   },
   "outputs": [
    {
     "data": {
      "text/html": [
       "<div>\n",
       "<style scoped>\n",
       "    .dataframe tbody tr th:only-of-type {\n",
       "        vertical-align: middle;\n",
       "    }\n",
       "\n",
       "    .dataframe tbody tr th {\n",
       "        vertical-align: top;\n",
       "    }\n",
       "\n",
       "    .dataframe thead th {\n",
       "        text-align: right;\n",
       "    }\n",
       "</style>\n",
       "<table border=\"1\" class=\"dataframe\">\n",
       "  <thead>\n",
       "    <tr style=\"text-align: right;\">\n",
       "      <th></th>\n",
       "      <th>area_poverty_ratio</th>\n",
       "      <th>area_highschool_ratio</th>\n",
       "    </tr>\n",
       "  </thead>\n",
       "  <tbody>\n",
       "    <tr>\n",
       "      <th>area_poverty_ratio</th>\n",
       "      <td>1.000000</td>\n",
       "      <td>-0.805761</td>\n",
       "    </tr>\n",
       "    <tr>\n",
       "      <th>area_highschool_ratio</th>\n",
       "      <td>-0.805761</td>\n",
       "      <td>1.000000</td>\n",
       "    </tr>\n",
       "  </tbody>\n",
       "</table>\n",
       "</div>"
      ],
      "text/plain": [
       "                       area_poverty_ratio  area_highschool_ratio\n",
       "area_poverty_ratio               1.000000              -0.805761\n",
       "area_highschool_ratio           -0.805761               1.000000"
      ]
     },
     "execution_count": 27,
     "metadata": {},
     "output_type": "execute_result"
    }
   ],
   "source": [
    "data.corr()"
   ]
  },
  {
   "cell_type": "code",
   "execution_count": 28,
   "id": "80a5e3a7",
   "metadata": {
    "execution": {
     "iopub.execute_input": "2022-09-13T12:04:35.544871Z",
     "iopub.status.busy": "2022-09-13T12:04:35.543588Z",
     "iopub.status.idle": "2022-09-13T12:04:35.788902Z",
     "shell.execute_reply": "2022-09-13T12:04:35.787720Z"
    },
    "papermill": {
     "duration": 0.267055,
     "end_time": "2022-09-13T12:04:35.791314",
     "exception": false,
     "start_time": "2022-09-13T12:04:35.524259",
     "status": "completed"
    },
    "tags": []
   },
   "outputs": [
    {
     "data": {
      "image/png": "[encoded data removed]",
      "text/plain": [
       "<Figure size 360x360 with 2 Axes>"
      ]
     },
     "metadata": {
      "needs_background": "light"
     },
     "output_type": "display_data"
    }
   ],
   "source": [
    "f, ax = plt.subplots(figsize=(5,5))\n",
    "sns.heatmap(data.corr(), annot=True, linewidths=0.5, fmt=\".1f\", ax=ax)\n",
    "plt.show()"
   ]
  },
  {
   "cell_type": "markdown",
   "id": "10dafd11",
   "metadata": {
    "papermill": {
     "duration": 0.017449,
     "end_time": "2022-09-13T12:04:35.826580",
     "exception": false,
     "start_time": "2022-09-13T12:04:35.809131",
     "status": "completed"
    },
    "tags": []
   },
   "source": [
    "<a id = 11> </a> <br>\n",
    "## 9- BoxPlot\n",
    "### Manner of death (shot, shot&Tasered)"
   ]
  },
  {
   "cell_type": "code",
   "execution_count": 29,
   "id": "b36783ad",
   "metadata": {
    "execution": {
     "iopub.execute_input": "2022-09-13T12:04:35.865411Z",
     "iopub.status.busy": "2022-09-13T12:04:35.864574Z",
     "iopub.status.idle": "2022-09-13T12:04:35.873450Z",
     "shell.execute_reply": "2022-09-13T12:04:35.872321Z"
    },
    "papermill": {
     "duration": 0.031335,
     "end_time": "2022-09-13T12:04:35.875758",
     "exception": false,
     "start_time": "2022-09-13T12:04:35.844423",
     "status": "completed"
    },
    "tags": []
   },
   "outputs": [
    {
     "data": {
      "text/plain": [
       "shot                2363\n",
       "shot and Tasered     172\n",
       "Name: manner_of_death, dtype: int64"
      ]
     },
     "execution_count": 29,
     "metadata": {},
     "output_type": "execute_result"
    }
   ],
   "source": [
    "df_pk.manner_of_death.value_counts()"
   ]
  },
  {
   "cell_type": "code",
   "execution_count": 30,
   "id": "6a865f37",
   "metadata": {
    "execution": {
     "iopub.execute_input": "2022-09-13T12:04:35.914843Z",
     "iopub.status.busy": "2022-09-13T12:04:35.914022Z",
     "iopub.status.idle": "2022-09-13T12:04:36.156669Z",
     "shell.execute_reply": "2022-09-13T12:04:36.155437Z"
    },
    "papermill": {
     "duration": 0.265395,
     "end_time": "2022-09-13T12:04:36.159205",
     "exception": false,
     "start_time": "2022-09-13T12:04:35.893810",
     "status": "completed"
    },
    "tags": []
   },
   "outputs": [
    {
     "data": {
      "image/png": "[encoded data removed]",
      "text/plain": [
       "<Figure size 432x288 with 1 Axes>"
      ]
     },
     "metadata": {
      "needs_background": "light"
     },
     "output_type": "display_data"
    }
   ],
   "source": [
    "sns.boxplot(x=\"gender\", y=\"age\", hue=\"manner_of_death\", data=df_pk)\n",
    "plt.show()"
   ]
  },
  {
   "cell_type": "markdown",
   "id": "e14bde11",
   "metadata": {
    "papermill": {
     "duration": 0.018419,
     "end_time": "2022-09-13T12:04:36.196322",
     "exception": false,
     "start_time": "2022-09-13T12:04:36.177903",
     "status": "completed"
    },
    "tags": []
   },
   "source": [
    "<a id = 12> </a> <br>\n",
    "## 10- Swarm Plot\n",
    "### Manner of death (shot, shot&Tasered)"
   ]
  },
  {
   "cell_type": "code",
   "execution_count": 31,
   "id": "d34d7ac6",
   "metadata": {
    "execution": {
     "iopub.execute_input": "2022-09-13T12:04:36.235920Z",
     "iopub.status.busy": "2022-09-13T12:04:36.235492Z",
     "iopub.status.idle": "2022-09-13T12:04:48.918221Z",
     "shell.execute_reply": "2022-09-13T12:04:48.916931Z"
    },
    "papermill": {
     "duration": 12.705145,
     "end_time": "2022-09-13T12:04:48.920612",
     "exception": false,
     "start_time": "2022-09-13T12:04:36.215467",
     "status": "completed"
    },
    "tags": []
   },
   "outputs": [
    {
     "data": {
      "image/png": "[encoded data removed]",
      "text/plain": [
       "<Figure size 432x288 with 1 Axes>"
      ]
     },
     "metadata": {
      "needs_background": "light"
     },
     "output_type": "display_data"
    }
   ],
   "source": [
    "sns.swarmplot(x=\"gender\", y=\"age\", hue=\"manner_of_death\", data=df_pk)\n",
    "plt.show()"
   ]
  },
  {
   "cell_type": "markdown",
   "id": "0ed544fa",
   "metadata": {
    "papermill": {
     "duration": 0.019165,
     "end_time": "2022-09-13T12:04:48.960049",
     "exception": false,
     "start_time": "2022-09-13T12:04:48.940884",
     "status": "completed"
    },
    "tags": []
   },
   "source": [
    "<a id = 13> </a> <br>\n",
    "## 11- Pair Plot\n",
    "### High school graduation rate & poverty rate of each state"
   ]
  },
  {
   "cell_type": "code",
   "execution_count": 32,
   "id": "e864a19f",
   "metadata": {
    "execution": {
     "iopub.execute_input": "2022-09-13T12:04:49.000799Z",
     "iopub.status.busy": "2022-09-13T12:04:49.000340Z",
     "iopub.status.idle": "2022-09-13T12:04:49.864069Z",
     "shell.execute_reply": "2022-09-13T12:04:49.862909Z"
    },
    "papermill": {
     "duration": 0.887009,
     "end_time": "2022-09-13T12:04:49.866529",
     "exception": false,
     "start_time": "2022-09-13T12:04:48.979520",
     "status": "completed"
    },
    "tags": []
   },
   "outputs": [
    {
     "data": {
      "image/png": "[encoded data removed]",
      "text/plain": [
       "<Figure size 360x360 with 6 Axes>"
      ]
     },
     "metadata": {
      "needs_background": "light"
     },
     "output_type": "display_data"
    }
   ],
   "source": [
    "sns.pairplot(data)\n",
    "plt.show()"
   ]
  },
  {
   "cell_type": "markdown",
   "id": "d904ce52",
   "metadata": {
    "papermill": {
     "duration": 0.019529,
     "end_time": "2022-09-13T12:04:49.906003",
     "exception": false,
     "start_time": "2022-09-13T12:04:49.886474",
     "status": "completed"
    },
    "tags": []
   },
   "source": [
    "<a id = 14> </a> <br>\n",
    "## 12- Count Plot\n",
    "### High school graduation rate & poverty rate of each state"
   ]
  },
  {
   "cell_type": "code",
   "execution_count": 33,
   "id": "749d069e",
   "metadata": {
    "execution": {
     "iopub.execute_input": "2022-09-13T12:04:49.947648Z",
     "iopub.status.busy": "2022-09-13T12:04:49.947221Z",
     "iopub.status.idle": "2022-09-13T12:04:49.956437Z",
     "shell.execute_reply": "2022-09-13T12:04:49.955329Z"
    },
    "papermill": {
     "duration": 0.032702,
     "end_time": "2022-09-13T12:04:49.958787",
     "exception": false,
     "start_time": "2022-09-13T12:04:49.926085",
     "status": "completed"
    },
    "tags": []
   },
   "outputs": [
    {
     "data": {
      "text/plain": [
       "shot                2363\n",
       "shot and Tasered     172\n",
       "Name: manner_of_death, dtype: int64"
      ]
     },
     "execution_count": 33,
     "metadata": {},
     "output_type": "execute_result"
    }
   ],
   "source": [
    "df_pk.manner_of_death.value_counts()"
   ]
  },
  {
   "cell_type": "code",
   "execution_count": 34,
   "id": "780203f3",
   "metadata": {
    "execution": {
     "iopub.execute_input": "2022-09-13T12:04:50.000900Z",
     "iopub.status.busy": "2022-09-13T12:04:50.000176Z",
     "iopub.status.idle": "2022-09-13T12:04:50.166415Z",
     "shell.execute_reply": "2022-09-13T12:04:50.165316Z"
    },
    "papermill": {
     "duration": 0.190178,
     "end_time": "2022-09-13T12:04:50.168720",
     "exception": false,
     "start_time": "2022-09-13T12:04:49.978542",
     "status": "completed"
    },
    "tags": []
   },
   "outputs": [
    {
     "data": {
      "image/png": "[encoded data removed]",
      "text/plain": [
       "<Figure size 432x288 with 1 Axes>"
      ]
     },
     "metadata": {
      "needs_background": "light"
     },
     "output_type": "display_data"
    }
   ],
   "source": [
    "#sns.countplot(df_pk.gender)\n",
    "sns.countplot(df_pk.manner_of_death)\n",
    "plt.title(\"Manner of death\", color=\"blue\", fontsize=15)\n",
    "plt.show()"
   ]
  },
  {
   "cell_type": "markdown",
   "id": "6fa22377",
   "metadata": {
    "papermill": {
     "duration": 0.019591,
     "end_time": "2022-09-13T12:04:50.208305",
     "exception": false,
     "start_time": "2022-09-13T12:04:50.188714",
     "status": "completed"
    },
    "tags": []
   },
   "source": [
    "### Number of weapon & Types"
   ]
  },
  {
   "cell_type": "code",
   "execution_count": 35,
   "id": "926af6f2",
   "metadata": {
    "execution": {
     "iopub.execute_input": "2022-09-13T12:04:50.249859Z",
     "iopub.status.busy": "2022-09-13T12:04:50.249405Z",
     "iopub.status.idle": "2022-09-13T12:04:50.711576Z",
     "shell.execute_reply": "2022-09-13T12:04:50.710455Z"
    },
    "papermill": {
     "duration": 0.486145,
     "end_time": "2022-09-13T12:04:50.714128",
     "exception": false,
     "start_time": "2022-09-13T12:04:50.227983",
     "status": "completed"
    },
    "tags": []
   },
   "outputs": [
    {
     "name": "stdout",
     "output_type": "stream",
     "text": [
      "gun             1398\n",
      "knife            373\n",
      "vehicle          177\n",
      "unarmed          171\n",
      "undetermined     117\n",
      "                ... \n",
      "hand torch         1\n",
      "garden tool        1\n",
      "pole               1\n",
      "pick-axe           1\n",
      "pen                1\n",
      "Name: armed, Length: 68, dtype: int64\n"
     ]
    },
    {
     "data": {
      "text/plain": [
       "Text(0.5, 1.0, 'Kill weapon')"
      ]
     },
     "execution_count": 35,
     "metadata": {},
     "output_type": "execute_result"
    },
    {
     "data": {
      "image/png": "[encoded data removed]",
      "text/plain": [
       "<Figure size 720x504 with 1 Axes>"
      ]
     },
     "metadata": {
      "needs_background": "light"
     },
     "output_type": "display_data"
    }
   ],
   "source": [
    "armed = df_pk.armed.value_counts()\n",
    "print(armed)\n",
    "plt.figure(figsize=(10,7))\n",
    "sns.barplot(x=armed[:10].index, y=armed[:10].values)\n",
    "plt.ylabel(\"Number of weapon\")\n",
    "plt.xlabel(\"Weapon types\")\n",
    "plt.title(\"Kill weapon\", color=\"blue\", fontsize=15)"
   ]
  },
  {
   "cell_type": "markdown",
   "id": "4459a034",
   "metadata": {
    "papermill": {
     "duration": 0.021257,
     "end_time": "2022-09-13T12:04:50.755951",
     "exception": false,
     "start_time": "2022-09-13T12:04:50.734694",
     "status": "completed"
    },
    "tags": []
   },
   "source": [
    "### Most killed cities"
   ]
  },
  {
   "cell_type": "code",
   "execution_count": 36,
   "id": "e6cbeec2",
   "metadata": {
    "execution": {
     "iopub.execute_input": "2022-09-13T12:04:50.798750Z",
     "iopub.status.busy": "2022-09-13T12:04:50.797939Z",
     "iopub.status.idle": "2022-09-13T12:04:51.091410Z",
     "shell.execute_reply": "2022-09-13T12:04:51.090234Z"
    },
    "papermill": {
     "duration": 0.317719,
     "end_time": "2022-09-13T12:04:51.093911",
     "exception": false,
     "start_time": "2022-09-13T12:04:50.776192",
     "status": "completed"
    },
    "tags": []
   },
   "outputs": [
    {
     "name": "stdout",
     "output_type": "stream",
     "text": [
      "Los Angeles         39\n",
      "Phoenix             31\n",
      "Houston             27\n",
      "Chicago             25\n",
      "Las Vegas           21\n",
      "                    ..\n",
      "Columbia Heights     1\n",
      "Ozark                1\n",
      "Lampe                1\n",
      "Seagoville           1\n",
      "Oshkosh              1\n",
      "Name: city, Length: 1417, dtype: int64\n"
     ]
    },
    {
     "data": {
      "text/plain": [
       "Text(0.5, 1.0, 'Most killed cities')"
      ]
     },
     "execution_count": 36,
     "metadata": {},
     "output_type": "execute_result"
    },
    {
     "data": {
      "image/png": "[encoded data removed]",
      "text/plain": [
       "<Figure size 720x504 with 1 Axes>"
      ]
     },
     "metadata": {
      "needs_background": "light"
     },
     "output_type": "display_data"
    }
   ],
   "source": [
    "cities = df_pk.city.value_counts()\n",
    "print(cities)\n",
    "plt.figure(figsize=(10,7))\n",
    "sns.barplot(x=cities[:10].index, y=cities[:10].values)\n",
    "plt.ylabel(\"Number of cities\")\n",
    "plt.xlabel(\"Cities\")\n",
    "plt.title(\"Most killed cities\", color=\"blue\", fontsize=15)"
   ]
  }
 ],
 "metadata": {
  "kernelspec": {
   "display_name": "Python 3",
   "language": "python",
   "name": "python3"
  },
  "language_info": {
   "codemirror_mode": {
    "name": "ipython",
    "version": 3
   },
   "file_extension": ".py",
   "mimetype": "text/x-python",
   "name": "python",
   "nbconvert_exporter": "python",
   "pygments_lexer": "ipython3",
   "version": "3.7.12"
  },
  "papermill": {
   "default_parameters": {},
   "duration": 34.20309,
   "end_time": "2022-09-13T12:04:51.937210",
   "environment_variables": {},
   "exception": null,
   "input_path": "__notebook__.ipynb",
   "output_path": "__notebook__.ipynb",
   "parameters": {},
   "start_time": "2022-09-13T12:04:17.734120",
   "version": "2.3.4"
  }
 },
 "nbformat": 4,
 "nbformat_minor": 5
}
