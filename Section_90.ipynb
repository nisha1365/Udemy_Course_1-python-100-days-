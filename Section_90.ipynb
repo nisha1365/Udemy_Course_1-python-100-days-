{
  "nbformat": 4,
  "nbformat_minor": 0,
  "metadata": {
    "colab": {
      "provenance": [],
      "authorship_tag": "ABX9TyPiN0Lp+T2yi7sEh6G2goS+",
      "include_colab_link": true
    },
    "kernelspec": {
      "name": "python3",
      "display_name": "Python 3"
    },
    "language_info": {
      "name": "python"
    }
  },
  "cells": [
    {
      "cell_type": "markdown",
      "metadata": {
        "id": "view-in-github",
        "colab_type": "text"
      },
      "source": [
        "<a href=\"https://colab.research.google.com/github/nisha1365/Udemy_Course_1-python-100-days-/blob/main/Section_90.ipynb\" target=\"_parent\"><img src=\"https://colab.research.google.com/assets/colab-badge.svg\" alt=\"Open In Colab\"/></a>"
      ]
    },
    {
      "cell_type": "markdown",
      "source": [
        "Write a Python script that takes a PDF file and converts it into speech."
      ],
      "metadata": {
        "id": "fd1pU-Y2tVVR"
      }
    },
    {
      "cell_type": "code",
      "source": [
        "!pip install tkinter"
      ],
      "metadata": {
        "id": "5YFdOVRQtY74"
      },
      "execution_count": null,
      "outputs": []
    },
    {
      "cell_type": "code",
      "source": [
        "from tkinter import *\n",
        "from tkinter import filedialog\n",
        "import pyttsx3\n",
        "import PyPDF2"
      ],
      "metadata": {
        "id": "f3zvvTuXu_Qa"
      },
      "execution_count": null,
      "outputs": []
    },
    {
      "cell_type": "markdown",
      "source": [
        "3. Initializing Window"
      ],
      "metadata": {
        "id": "yUmjsr-9vSTz"
      }
    },
    {
      "cell_type": "code",
      "source": [
        "Window=Tk()\n",
        "Window.geometry('500x350')\n",
        "Window.config(bg=\"orange\")\n",
        "Window.title(\"Convert PDF File Text to Audio Speech Using Python by TechVidvan\")"
      ],
      "metadata": {
        "id": "RGk9HTTMvCy0"
      },
      "execution_count": null,
      "outputs": []
    },
    {
      "cell_type": "markdown",
      "source": [
        "4. Creating Labels"
      ],
      "metadata": {
        "id": "zh3D3l38vO72"
      }
    },
    {
      "cell_type": "code",
      "source": [
        "startingpagenumber = Entry(Window)\n",
        "page1.place(relx=0.02,rely=0.1)\n",
        "startingpagenumber.place(relx=0.6,rely=0.1)\n",
        "page1=Label(Window,text=”Enter starting page number”)\n",
        "label = Label(Window, text=\"select a book.\")\n",
        "label.place(relx=0.3,rely=0.2)"
      ],
      "metadata": {
        "id": "Wev7DejlvFHW"
      },
      "execution_count": null,
      "outputs": []
    },
    {
      "cell_type": "markdown",
      "source": [
        "5. File Function:"
      ],
      "metadata": {
        "id": "MoF_gU2NvKz-"
      }
    },
    {
      "cell_type": "code",
      "source": [
        "def file():\n",
        "    path = filedialog.askopenfilename()\n",
        "    book = open(path, 'rb')\n",
        "    pdfreader = PyPDF2.PdfFileReader(book)\n",
        "    pages = pdfreader.numPages\n",
        "    speaker = pyttsx3.init()\n",
        "    \n",
        "    for i in range(int(startingpagenumber.get()), pages):\n",
        "        page = pdfreader.getPage(i) \n",
        "        txt = page.extractText()\n",
        "        speaker.say(txt)\n",
        "        speaker.runAndWait()\n",
        " \n",
        "B=Button(Window, text=\"Choose  the Book\", command=file)\n",
        "B.place(relx=0.4,rely=0.3)\n",
        " \n",
        "mainloop()"
      ],
      "metadata": {
        "id": "WwzjXclXvHwR"
      },
      "execution_count": null,
      "outputs": []
    }
  ]
}