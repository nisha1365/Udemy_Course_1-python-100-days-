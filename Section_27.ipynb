{
  "nbformat": 4,
  "nbformat_minor": 0,
  "metadata": {
    "colab": {
      "provenance": [],
      "authorship_tag": "ABX9TyM45LDJI0C4EomE5WvndxQR",
      "include_colab_link": true
    },
    "kernelspec": {
      "name": "python3",
      "display_name": "Python 3"
    },
    "language_info": {
      "name": "python"
    }
  },
  "cells": [
    {
      "cell_type": "markdown",
      "metadata": {
        "id": "view-in-github",
        "colab_type": "text"
      },
      "source": [
        "<a href=\"https://colab.research.google.com/github/nisha1365/Udemy_Course_1-python-100-days-/blob/main/Section_27.ipynb\" target=\"_parent\"><img src=\"https://colab.research.google.com/assets/colab-badge.svg\" alt=\"Open In Colab\"/></a>"
      ]
    },
    {
      "cell_type": "code",
      "execution_count": null,
      "metadata": {
        "id": "n-ZBPGXcjQjy"
      },
      "outputs": [],
      "source": [
        "from tkinter import *\n",
        "\n",
        "\n",
        "def button_clicked():\n",
        "    print(\"I got clicked\")\n",
        "    new_text = input.get()\n",
        "    my_label.config(text=new_text)\n",
        "\n",
        "\n",
        "window = Tk()\n",
        "window.title(\"My First GUI Program\")\n",
        "window.minsize(width=500, height=300)\n",
        "window.config(padx=100, pady=200)\n",
        "\n",
        "#Label\n",
        "my_label = Label(text=\"I Am a Label\", font=(\"Arial\", 24, \"bold\"))\n",
        "my_label.config(text=\"New Text\")\n",
        "my_label.grid(column=0, row=0)\n",
        "my_label.config(padx=50, pady=50)\n",
        "\n",
        "#Button\n",
        "button = Button(text=\"Click Me\", command=button_clicked)\n",
        "button.grid(column=1, row=1)\n",
        "\n",
        "new_button = Button(text=\"New Button\")\n",
        "new_button.grid(column=2, row=0)\n",
        "\n",
        "#Entry\n",
        "input = Entry(width=10)\n",
        "print(input.get())\n",
        "input.grid(column=3, row=2)\n",
        "\n",
        "\n",
        "\n",
        "\n"
      ]
    }
  ]
}