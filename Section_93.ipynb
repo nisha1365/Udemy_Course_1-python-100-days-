{
  "nbformat": 4,
  "nbformat_minor": 0,
  "metadata": {
    "colab": {
      "provenance": [],
      "authorship_tag": "ABX9TyO7TWZ5HmetyOMxkYLLHGCY",
      "include_colab_link": true
    },
    "kernelspec": {
      "name": "python3",
      "display_name": "Python 3"
    },
    "language_info": {
      "name": "python"
    }
  },
  "cells": [
    {
      "cell_type": "markdown",
      "metadata": {
        "id": "view-in-github",
        "colab_type": "text"
      },
      "source": [
        "<a href=\"https://colab.research.google.com/github/nisha1365/Udemy_Course_1-python-100-days-/blob/main/Section_93.ipynb\" target=\"_parent\"><img src=\"https://colab.research.google.com/assets/colab-badge.svg\" alt=\"Open In Colab\"/></a>"
      ]
    },
    {
      "cell_type": "code",
      "execution_count": null,
      "metadata": {
        "id": "k4_m-OXj0eNO"
      },
      "outputs": [],
      "source": []
    },
    {
      "cell_type": "markdown",
      "source": [
        "Dino Game"
      ],
      "metadata": {
        "id": "WaNYZKqw0gz6"
      }
    },
    {
      "cell_type": "code",
      "source": [
        "# importing above defined libraries to\n",
        "# implement the functionalities\n",
        "from PIL import ImageGrab, ImageOps\n",
        "import pyautogui\n",
        "import time\n",
        "import numpy as np \n",
        "   \n",
        "class coordinates():\n",
        " \n",
        "    # coordinates of replay button to start the game\n",
        "    replaybutton =(360, 214)\n",
        "    # this coordinates represent the top-right coordinates\n",
        "    # that will be used to define the front box\n",
        "    dinasaur = (149, 239 )\n",
        "     \n",
        "def restartGame():\n",
        " \n",
        "    # using pyautogui library, we are clicking on the\n",
        "    # replay button without any user interaction\n",
        "    pyautogui.click(coordinates.replaybutton)\n",
        " \n",
        "    # we will keep our Bot always down that\n",
        "    # will prevent him to get hit by bird\n",
        "    pyautogui.keyDown('down')\n",
        " \n",
        "def press_space():\n",
        "  \n",
        "    # releasing the Down Key\n",
        "    pyautogui.keyUp('down')\n",
        " \n",
        "    # pressing Space to overcome Bush\n",
        "    pyautogui.keyDown('space')\n",
        " \n",
        "    # so that Space Key will be recognized easily\n",
        "    time.sleep(0.05)\n",
        " \n",
        "    # printing the \"Jump\" statement on the\n",
        "    # terminal to see the current output\n",
        "    print(\"jump\")\n",
        "    time.sleep(0.10)\n",
        " \n",
        "    # releasing the Space Key\n",
        "    pyautogui.keyUp('space')\n",
        " \n",
        "    # again pressing the Down Key to keep my Bot always down\n",
        "    pyautogui.keyDown('down')\n",
        " \n",
        "def imageGrab():\n",
        "    # defining the coordinates of box in front of dinosaur\n",
        "    box = (coordinates.dinasaur[0]+30, coordinates.dinasaur[1],\n",
        "           coordinates.dinasaur[0]+120, coordinates.dinasaur[1]+2)\n",
        " \n",
        "    # grabbing all the pixels values in form of RGB tuples  \n",
        "    image = ImageGrab.grab(box)\n",
        " \n",
        "    # converting RGB to Grayscale to\n",
        "    # make processing easy and result faster\n",
        "    grayImage = ImageOps.grayscale(image)\n",
        " \n",
        "    # using numpy to get sum of all grayscale pixels\n",
        "    a = np.array(grayImage.getcolors())\n",
        " \n",
        "    # returning the sum\n",
        "    print(a.sum())\n",
        "    return a.sum()\n",
        "   \n",
        "    \n",
        " \n",
        "# function to restart the game\n",
        "restartGame()\n",
        "while True:\n",
        "     # 435 is the sum of white pixels values of box.\n",
        "     # You may get different value is you are taking bigger\n",
        "     # or smaller box than the box taken in this article.\n",
        "     # if value returned by \"imageGrab\" function is not equal to 435,\n",
        "     # it means either bird or bush is coming towards dinosaur\n",
        "     if(imageGrab()!= 435):  \n",
        "        press_space() \n",
        "        # time to recognize the operation performed by above function\n",
        "        time.sleep(0.1)  "
      ],
      "metadata": {
        "id": "FgGyojSi0hv1"
      },
      "execution_count": null,
      "outputs": []
    }
  ]
}