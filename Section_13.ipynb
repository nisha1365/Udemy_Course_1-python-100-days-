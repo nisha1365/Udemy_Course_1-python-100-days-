{
  "nbformat": 4,
  "nbformat_minor": 0,
  "metadata": {
    "colab": {
      "provenance": [],
      "authorship_tag": "ABX9TyNv72uU3+axPL8U/5opARWx",
      "include_colab_link": true
    },
    "kernelspec": {
      "name": "python3",
      "display_name": "Python 3"
    },
    "language_info": {
      "name": "python"
    }
  },
  "cells": [
    {
      "cell_type": "markdown",
      "metadata": {
        "id": "view-in-github",
        "colab_type": "text"
      },
      "source": [
        "<a href=\"https://colab.research.google.com/github/nisha1365/Udemy_Course_1-python-100-days-/blob/main/Section_13.ipynb\" target=\"_parent\"><img src=\"https://colab.research.google.com/assets/colab-badge.svg\" alt=\"Open In Colab\"/></a>"
      ]
    },
    {
      "cell_type": "code",
      "execution_count": null,
      "metadata": {
        "id": "Gq_SmtzfRUCk"
      },
      "outputs": [],
      "source": [
        "############DEBUGGING#####################\n",
        "\n",
        "# # Describe Problem\n",
        "# def my_function():\n",
        "#   for i in range(1, 20):\n",
        "#     if i == 20:\n",
        "#       print(\"You got it\")\n",
        "# my_function()\n",
        "\n",
        "# # Reproduce the Bug\n",
        "# from random import randint\n",
        "# dice_imgs = [\"❶\", \"❷\", \"❸\", \"❹\", \"❺\", \"❻\"]\n",
        "# dice_num = randint(1, 6)\n",
        "# print(dice_imgs[dice_num])\n",
        "\n",
        "# # Play Computer\n",
        "# year = int(input(\"What's your year of birth?\"))\n",
        "# if year > 1980 and year < 1994:\n",
        "#   print(\"You are a millenial.\")\n",
        "# elif year > 1994:\n",
        "#   print(\"You are a Gen Z.\")\n",
        "\n",
        "# # Fix the Errors\n",
        "# age = input(\"How old are you?\")\n",
        "# if age > 18:\n",
        "# print(\"You can drive at age {age}.\")\n",
        "\n",
        "# #Print is Your Friend\n",
        "# pages = 0\n",
        "# word_per_page = 0\n",
        "# pages = int(input(\"Number of pages: \"))\n",
        "# word_per_page == int(input(\"Number of words per page: \"))\n",
        "# total_words = pages * word_per_page\n",
        "# print(total_words)\n",
        "\n",
        "# #Use a Debugger\n",
        "# def mutate(a_list):\n",
        "#   b_list = []\n",
        "#   for item in a_list:\n",
        "#     new_item = item * 2\n",
        "#   b_list.append(new_item)\n",
        "#   print(b_list)\n",
        "\n",
        "# mutate([1,2,3,5,8,13])"
      ]
    },
    {
      "cell_type": "code",
      "source": [
        "# # Describe Problem\n",
        "def my_function():\n",
        "  for i in range(1, 21):\n",
        "    if i == 20:\n",
        "      print(\"You got it\")\n",
        "my_function()"
      ],
      "metadata": {
        "colab": {
          "base_uri": "https://localhost:8080/"
        },
        "id": "LoH-sNePSRoF",
        "outputId": "2c12c924-65c8-4e77-db0b-7ac5bacb1ede"
      },
      "execution_count": 2,
      "outputs": [
        {
          "output_type": "stream",
          "name": "stdout",
          "text": [
            "You got it\n"
          ]
        }
      ]
    },
    {
      "cell_type": "code",
      "source": [
        "# # Reproduce the Bug\n",
        "from random import randint\n",
        "dice_imgs = [\"❶\", \"❷\", \"❸\", \"❹\", \"❺\", \"❻\"]\n",
        "dice_num = randint(1, 5)\n",
        "print(dice_imgs[dice_num])"
      ],
      "metadata": {
        "colab": {
          "base_uri": "https://localhost:8080/"
        },
        "id": "6a630prZSgJg",
        "outputId": "3559ddc8-89d2-4b86-ab66-326b517a90f7"
      },
      "execution_count": 4,
      "outputs": [
        {
          "output_type": "stream",
          "name": "stdout",
          "text": [
            "❺\n"
          ]
        }
      ]
    },
    {
      "cell_type": "code",
      "source": [
        "# # Play Computer\n",
        "year = int(input(\"What's your year of birth?\"))\n",
        "if year > 1980 and year < 1994:\n",
        "  print(\"You are a millenial.\")\n",
        "elif year >= 1994:\n",
        "  print(\"You are a Gen Z.\")"
      ],
      "metadata": {
        "colab": {
          "base_uri": "https://localhost:8080/"
        },
        "id": "7IE2I39rTn1h",
        "outputId": "ca01e427-8e15-4840-aa1a-d94aa18c7071"
      },
      "execution_count": 5,
      "outputs": [
        {
          "output_type": "stream",
          "name": "stdout",
          "text": [
            "What's your year of birth?1994\n",
            "You are a Gen Z.\n"
          ]
        }
      ]
    },
    {
      "cell_type": "code",
      "source": [
        "# # Fix the Errors\n",
        "age = int(input(\"How old are you?\"))\n",
        "if age > 18:\n",
        "  print(\"You can drive at age {age}.\")"
      ],
      "metadata": {
        "colab": {
          "base_uri": "https://localhost:8080/"
        },
        "id": "UTVGBmv5UdY2",
        "outputId": "05b80e11-8f64-484b-b7cc-943c63c6ad23"
      },
      "execution_count": 7,
      "outputs": [
        {
          "output_type": "stream",
          "name": "stdout",
          "text": [
            "How old are you?23\n",
            "You can drive at age {age}.\n"
          ]
        }
      ]
    },
    {
      "cell_type": "code",
      "source": [
        "# #Print is Your Friend\n",
        "pages = 0\n",
        "word_per_page = 0\n",
        "pages = int(input(\"Number of pages: \"))\n",
        "word_per_page =int(input(\"Number of words per page: \"))\n",
        "total_words = pages * word_per_page\n",
        "print(total_words)"
      ],
      "metadata": {
        "colab": {
          "base_uri": "https://localhost:8080/"
        },
        "id": "qOjkH_J6VBXf",
        "outputId": "d94eb301-c437-4917-fadf-d7ccdbd656c5"
      },
      "execution_count": 8,
      "outputs": [
        {
          "output_type": "stream",
          "name": "stdout",
          "text": [
            "Number of pages: 45\n",
            "Number of words per page: 250\n",
            "11250\n"
          ]
        }
      ]
    },
    {
      "cell_type": "code",
      "source": [
        "# #Use a Debugger\n",
        "def mutate(a_list):\n",
        "  b_list = []\n",
        "  for item in a_list:\n",
        "    new_item = item * 2\n",
        "    b_list.append(new_item)\n",
        "  print(b_list)\n",
        "\n",
        "mutate([1,2,3,5,8,13])"
      ],
      "metadata": {
        "colab": {
          "base_uri": "https://localhost:8080/"
        },
        "id": "YyIebvJQWBfc",
        "outputId": "931b21d0-d6a5-4bac-b386-87a9dd337756"
      },
      "execution_count": 9,
      "outputs": [
        {
          "output_type": "stream",
          "name": "stdout",
          "text": [
            "[2, 4, 6, 10, 16, 26]\n"
          ]
        }
      ]
    },
    {
      "cell_type": "code",
      "source": [
        "number = int(input(\"Which number do you want to check?\"))\n",
        "\n",
        "if number % 2 == 0:\n",
        "  print(\"This is an even number.\")\n",
        "else:\n",
        "  print(\"This is an odd number.\")\n",
        "  "
      ],
      "metadata": {
        "colab": {
          "base_uri": "https://localhost:8080/"
        },
        "id": "OOaoZpkBYtr4",
        "outputId": "5c9b01bb-363c-4129-ac90-293922d273b9"
      },
      "execution_count": 10,
      "outputs": [
        {
          "output_type": "stream",
          "name": "stdout",
          "text": [
            "Which number do you want to check?24\n",
            "This is an even number.\n"
          ]
        }
      ]
    },
    {
      "cell_type": "code",
      "source": [
        "year = int(input(\"Which year do you want to check?\"))\n",
        "\n",
        "if year % 4 == 0:\n",
        "  if year % 100 == 0:\n",
        "    if year % 400 == 0:\n",
        "      print(\"Leap year.\")\n",
        "    else:\n",
        "      print(\"Not leap year.\")\n",
        "  else:\n",
        "    print(\"Leap year.\")\n",
        "else:\n",
        "  print(\"Not leap year.\")"
      ],
      "metadata": {
        "colab": {
          "base_uri": "https://localhost:8080/"
        },
        "id": "g3napYdcZD02",
        "outputId": "815543dc-969d-4e25-eef3-fb2976d73896"
      },
      "execution_count": 11,
      "outputs": [
        {
          "output_type": "stream",
          "name": "stdout",
          "text": [
            "Which year do you want to check?2020\n",
            "Leap year.\n"
          ]
        }
      ]
    },
    {
      "cell_type": "code",
      "source": [
        "for number in range(1, 101):\n",
        "  print(f\"Currently on number {number}\")\n",
        "  if number % 3 == 0 and number % 5 == 0:\n",
        "    print(\"FizzBuzz\")\n",
        "  elif number % 3 == 0:\n",
        "    print(\"Fizz\")\n",
        "  elif number % 5 == 0:\n",
        "    print(\"Buzz\")\n",
        "  else:\n",
        "    print(number)"
      ],
      "metadata": {
        "colab": {
          "base_uri": "https://localhost:8080/"
        },
        "id": "4H9sznGqZN4t",
        "outputId": "e23251fd-96a3-4bf1-adcd-8c9a4ef42b93"
      },
      "execution_count": 14,
      "outputs": [
        {
          "output_type": "stream",
          "name": "stdout",
          "text": [
            "Currently on number 1\n",
            "1\n",
            "Currently on number 2\n",
            "2\n",
            "Currently on number 3\n",
            "Fizz\n",
            "Currently on number 4\n",
            "4\n",
            "Currently on number 5\n",
            "Buzz\n",
            "Currently on number 6\n",
            "Fizz\n",
            "Currently on number 7\n",
            "7\n",
            "Currently on number 8\n",
            "8\n",
            "Currently on number 9\n",
            "Fizz\n",
            "Currently on number 10\n",
            "Buzz\n",
            "Currently on number 11\n",
            "11\n",
            "Currently on number 12\n",
            "Fizz\n",
            "Currently on number 13\n",
            "13\n",
            "Currently on number 14\n",
            "14\n",
            "Currently on number 15\n",
            "FizzBuzz\n",
            "Currently on number 16\n",
            "16\n",
            "Currently on number 17\n",
            "17\n",
            "Currently on number 18\n",
            "Fizz\n",
            "Currently on number 19\n",
            "19\n",
            "Currently on number 20\n",
            "Buzz\n",
            "Currently on number 21\n",
            "Fizz\n",
            "Currently on number 22\n",
            "22\n",
            "Currently on number 23\n",
            "23\n",
            "Currently on number 24\n",
            "Fizz\n",
            "Currently on number 25\n",
            "Buzz\n",
            "Currently on number 26\n",
            "26\n",
            "Currently on number 27\n",
            "Fizz\n",
            "Currently on number 28\n",
            "28\n",
            "Currently on number 29\n",
            "29\n",
            "Currently on number 30\n",
            "FizzBuzz\n",
            "Currently on number 31\n",
            "31\n",
            "Currently on number 32\n",
            "32\n",
            "Currently on number 33\n",
            "Fizz\n",
            "Currently on number 34\n",
            "34\n",
            "Currently on number 35\n",
            "Buzz\n",
            "Currently on number 36\n",
            "Fizz\n",
            "Currently on number 37\n",
            "37\n",
            "Currently on number 38\n",
            "38\n",
            "Currently on number 39\n",
            "Fizz\n",
            "Currently on number 40\n",
            "Buzz\n",
            "Currently on number 41\n",
            "41\n",
            "Currently on number 42\n",
            "Fizz\n",
            "Currently on number 43\n",
            "43\n",
            "Currently on number 44\n",
            "44\n",
            "Currently on number 45\n",
            "FizzBuzz\n",
            "Currently on number 46\n",
            "46\n",
            "Currently on number 47\n",
            "47\n",
            "Currently on number 48\n",
            "Fizz\n",
            "Currently on number 49\n",
            "49\n",
            "Currently on number 50\n",
            "Buzz\n",
            "Currently on number 51\n",
            "Fizz\n",
            "Currently on number 52\n",
            "52\n",
            "Currently on number 53\n",
            "53\n",
            "Currently on number 54\n",
            "Fizz\n",
            "Currently on number 55\n",
            "Buzz\n",
            "Currently on number 56\n",
            "56\n",
            "Currently on number 57\n",
            "Fizz\n",
            "Currently on number 58\n",
            "58\n",
            "Currently on number 59\n",
            "59\n",
            "Currently on number 60\n",
            "FizzBuzz\n",
            "Currently on number 61\n",
            "61\n",
            "Currently on number 62\n",
            "62\n",
            "Currently on number 63\n",
            "Fizz\n",
            "Currently on number 64\n",
            "64\n",
            "Currently on number 65\n",
            "Buzz\n",
            "Currently on number 66\n",
            "Fizz\n",
            "Currently on number 67\n",
            "67\n",
            "Currently on number 68\n",
            "68\n",
            "Currently on number 69\n",
            "Fizz\n",
            "Currently on number 70\n",
            "Buzz\n",
            "Currently on number 71\n",
            "71\n",
            "Currently on number 72\n",
            "Fizz\n",
            "Currently on number 73\n",
            "73\n",
            "Currently on number 74\n",
            "74\n",
            "Currently on number 75\n",
            "FizzBuzz\n",
            "Currently on number 76\n",
            "76\n",
            "Currently on number 77\n",
            "77\n",
            "Currently on number 78\n",
            "Fizz\n",
            "Currently on number 79\n",
            "79\n",
            "Currently on number 80\n",
            "Buzz\n",
            "Currently on number 81\n",
            "Fizz\n",
            "Currently on number 82\n",
            "82\n",
            "Currently on number 83\n",
            "83\n",
            "Currently on number 84\n",
            "Fizz\n",
            "Currently on number 85\n",
            "Buzz\n",
            "Currently on number 86\n",
            "86\n",
            "Currently on number 87\n",
            "Fizz\n",
            "Currently on number 88\n",
            "88\n",
            "Currently on number 89\n",
            "89\n",
            "Currently on number 90\n",
            "FizzBuzz\n",
            "Currently on number 91\n",
            "91\n",
            "Currently on number 92\n",
            "92\n",
            "Currently on number 93\n",
            "Fizz\n",
            "Currently on number 94\n",
            "94\n",
            "Currently on number 95\n",
            "Buzz\n",
            "Currently on number 96\n",
            "Fizz\n",
            "Currently on number 97\n",
            "97\n",
            "Currently on number 98\n",
            "98\n",
            "Currently on number 99\n",
            "Fizz\n",
            "Currently on number 100\n",
            "Buzz\n"
          ]
        }
      ]
    },
    {
      "cell_type": "code",
      "source": [],
      "metadata": {
        "id": "fN2ykD-aZ98a"
      },
      "execution_count": null,
      "outputs": []
    }
  ]
}