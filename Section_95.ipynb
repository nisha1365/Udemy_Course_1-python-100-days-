{
  "nbformat": 4,
  "nbformat_minor": 0,
  "metadata": {
    "colab": {
      "provenance": [],
      "authorship_tag": "ABX9TyMmakD3/dOShEvVN3YUXPlG",
      "include_colab_link": true
    },
    "kernelspec": {
      "name": "python3",
      "display_name": "Python 3"
    },
    "language_info": {
      "name": "python"
    }
  },
  "cells": [
    {
      "cell_type": "markdown",
      "metadata": {
        "id": "view-in-github",
        "colab_type": "text"
      },
      "source": [
        "<a href=\"https://colab.research.google.com/github/nisha1365/Udemy_Course_1-python-100-days-/blob/main/Section_95.ipynb\" target=\"_parent\"><img src=\"https://colab.research.google.com/assets/colab-badge.svg\" alt=\"Open In Colab\"/></a>"
      ]
    },
    {
      "cell_type": "markdown",
      "source": [
        "Build a custom website using an API that you find interesting."
      ],
      "metadata": {
        "id": "R9zi-9cN18i0"
      }
    },
    {
      "cell_type": "code",
      "source": [],
      "metadata": {
        "id": "gPmIQy-v2ATZ"
      },
      "execution_count": null,
      "outputs": []
    },
    {
      "cell_type": "markdown",
      "source": [
        "│\n",
        "│   app.py\n",
        "│   Procfile\n",
        "│   requirements.txt\n",
        "│   runtime.txt\n",
        "│\n",
        "├───api\n",
        "│       authentication.py\n",
        "│       meal.py\n",
        "│       routes.py\n",
        "│       user.py\n",
        "│       __init__.py\n",
        "│\n",
        "├───models\n",
        "│       meals.py\n",
        "│       users.py\n",
        "│       __init__.py\n",
        "│\n",
        "├───resources\n",
        "│       meal_data.csv\n",
        "│       user_data.csv\n",
        "│\n",
        "└───tools\n",
        "        load_data.py\n",
        "        __init__.py"
      ],
      "metadata": {
        "id": "xv8ijEyX2T2I"
      }
    },
    {
      "cell_type": "code",
      "source": [
        "#authectication\n",
        "# flask packages\n",
        "from flask import Response, request, jsonify\n",
        "from flask_restful import Resource\n",
        "from flask_jwt_extended import create_access_token, create_refresh_token\n",
        "\n",
        "# project resources\n",
        "from models.users import Users\n",
        "from api.errors import unauthorized\n",
        "\n",
        "# external packages\n",
        "import datetime\n",
        "\n",
        "\n",
        "class SignUpApi(Resource):\n",
        "    \"\"\"\n",
        "    Flask-resftul resource for creating new user.\n",
        "    :Example:\n",
        "    >>> from flask import Flask\n",
        "    >>> from flask_restful import Api\n",
        "    >>> from app import default_config\n",
        "    # Create flask app, config, and resftul api, then add SignUpApi route\n",
        "    >>> app = Flask(__name__)\n",
        "    >>> app.config.update(default_config)\n",
        "    >>> api = Api(app=app)\n",
        "    >>> api.add_resource(SignUpApi, '/authentication/signup')\n",
        "    \"\"\"\n",
        "    @staticmethod\n",
        "    def post() -> Response:\n",
        "        \"\"\"\n",
        "        POST response method for creating user.\n",
        "        :return: JSON object\n",
        "        \"\"\"\n",
        "        data = request.get_json()\n",
        "        post_user = Users(**data)\n",
        "        post_user.save()\n",
        "        output = {'id': str(post_user.id)}\n",
        "        return jsonify({'result': output})\n",
        "\n",
        "\n",
        "class LoginApi(Resource):\n",
        "    \"\"\"\n",
        "    Flask-resftul resource for retrieving user web token.\n",
        "    :Example:\n",
        "    >>> from flask import Flask\n",
        "    >>> from flask_restful import Api\n",
        "    >>> from app import default_config\n",
        "    # Create flask app, config, and resftul api, then add LoginApi route\n",
        "    >>> app = Flask(__name__)\n",
        "    >>> app.config.update(default_config)\n",
        "    >>> api = Api(app=app)\n",
        "    >>> api.add_resource(LoginApi, '/authentication/login')\n",
        "    \"\"\"\n",
        "    @staticmethod\n",
        "    def post() -> Response:\n",
        "        \"\"\"\n",
        "        POST response method for retrieving user web token.\n",
        "        :return: JSON object\n",
        "        \"\"\"\n",
        "        data = request.get_json()\n",
        "        user = Users.objects.get(email=data.get('email'))\n",
        "        auth_success = user.check_pw_hash(data.get('password'))\n",
        "        if not auth_success:\n",
        "            return unauthorized()\n",
        "        else:\n",
        "            expiry = datetime.timedelta(days=5)\n",
        "            access_token = create_access_token(identity=str(user.id), expires_delta=expiry)\n",
        "            refresh_token = create_refresh_token(identity=str(user.id))\n",
        "            return jsonify({'result': {'access_token': access_token,\n",
        "                                       'refresh_token': refresh_token,\n",
        "                                       'logged_in_as': f\"{user.email}\"}})"
      ],
      "metadata": {
        "id": "1Wp0Aq_d2USd"
      },
      "execution_count": null,
      "outputs": []
    },
    {
      "cell_type": "markdown",
      "source": [
        "meal"
      ],
      "metadata": {
        "id": "NKjos_HZ43TV"
      }
    },
    {
      "cell_type": "code",
      "source": [
        "# flask packages\n",
        "from flask_restful import Api\n",
        "\n",
        "# project resources\n",
        "from api.authentication import SignUpApi, LoginApi\n",
        "from api.user import UsersApi, UserApi\n",
        "from api.meal import MealsApi, MealApi\n",
        "\n",
        "\n",
        "def create_routes(api: Api):\n",
        "    \"\"\"Adds resources to the api.\n",
        "    :param api: Flask-RESTful Api Object\n",
        "    :Example:\n",
        "        api.add_resource(HelloWorld, '/', '/hello')\n",
        "        api.add_resource(Foo, '/foo', endpoint=\"foo\")\n",
        "        api.add_resource(FooSpecial, '/special/foo', endpoint=\"foo\")\n",
        "    \"\"\"\n",
        "    api.add_resource(SignUpApi, '/authentication/signup/')\n",
        "    api.add_resource(LoginApi, '/authentication/login/')\n",
        "\n",
        "    api.add_resource(UsersApi, '/user/')\n",
        "    api.add_resource(UserApi, '/user/<user_id>')\n",
        "\n",
        "    api.add_resource(MealsApi, '/meal/')\n",
        "    api.add_resource(MealApi, '/meal/<meal_id>')"
      ],
      "metadata": {
        "id": "4XBU8pUL4388"
      },
      "execution_count": null,
      "outputs": []
    },
    {
      "cell_type": "markdown",
      "source": [
        "routes"
      ],
      "metadata": {
        "id": "oW6mjJfr47ZM"
      }
    },
    {
      "cell_type": "code",
      "source": [
        "# flask packages\n",
        "from flask_restful import Api\n",
        "\n",
        "# project resources\n",
        "from api.authentication import SignUpApi, LoginApi\n",
        "from api.user import UsersApi, UserApi\n",
        "from api.meal import MealsApi, MealApi\n",
        "\n",
        "\n",
        "def create_routes(api: Api):\n",
        "    \"\"\"Adds resources to the api.\n",
        "    :param api: Flask-RESTful Api Object\n",
        "    :Example:\n",
        "        api.add_resource(HelloWorld, '/', '/hello')\n",
        "        api.add_resource(Foo, '/foo', endpoint=\"foo\")\n",
        "        api.add_resource(FooSpecial, '/special/foo', endpoint=\"foo\")\n",
        "    \"\"\"\n",
        "    api.add_resource(SignUpApi, '/authentication/signup/')\n",
        "    api.add_resource(LoginApi, '/authentication/login/')\n",
        "\n",
        "    api.add_resource(UsersApi, '/user/')\n",
        "    api.add_resource(UserApi, '/user/<user_id>')\n",
        "\n",
        "    api.add_resource(MealsApi, '/meal/')\n",
        "    api.add_resource(MealApi, '/meal/<meal_id>')"
      ],
      "metadata": {
        "id": "NHJ_IWfH48K8"
      },
      "execution_count": null,
      "outputs": []
    }
  ]
}