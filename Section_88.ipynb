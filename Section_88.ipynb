{
  "nbformat": 4,
  "nbformat_minor": 0,
  "metadata": {
    "colab": {
      "provenance": [],
      "authorship_tag": "ABX9TyM9jEzmdm56ei3Jt92TVPj+",
      "include_colab_link": true
    },
    "kernelspec": {
      "name": "python3",
      "display_name": "Python 3"
    },
    "language_info": {
      "name": "python"
    }
  },
  "cells": [
    {
      "cell_type": "markdown",
      "metadata": {
        "id": "view-in-github",
        "colab_type": "text"
      },
      "source": [
        "<a href=\"https://colab.research.google.com/github/nisha1365/Udemy_Course_1-python-100-days-/blob/main/Section_88.ipynb\" target=\"_parent\"><img src=\"https://colab.research.google.com/assets/colab-badge.svg\" alt=\"Open In Colab\"/></a>"
      ]
    },
    {
      "cell_type": "markdown",
      "source": [
        "Build a todo list website.\n"
      ],
      "metadata": {
        "id": "G60XwawzszDt"
      }
    },
    {
      "cell_type": "code",
      "source": [
        "<div id=\"myDIV\" class=\"header\">\n",
        "  <h2>My To Do List</h2>\n",
        "  <input type=\"text\" id=\"myInput\" placeholder=\"Title...\">\n",
        "  <span onclick=\"newElement()\" class=\"addBtn\">Add</span>\n",
        "</div>\n",
        "\n",
        "<ul id=\"myUL\">\n",
        "  <li>Hit the gym</li>\n",
        "  <li class=\"checked\">Pay bills</li>\n",
        "  <li>Meet George</li>\n",
        "  <li>Buy eggs</li>\n",
        "  <li>Read a book</li>\n",
        "  <li>Organize office</li>\n",
        "</ul>"
      ],
      "metadata": {
        "id": "L7qzJdi2s0L3"
      },
      "execution_count": null,
      "outputs": []
    },
    {
      "cell_type": "code",
      "source": [
        "/* Include the padding and border in an element's total width and height */\n",
        "* {\n",
        "  box-sizing: border-box;\n",
        "}\n",
        "\n",
        "/* Remove margins and padding from the list */\n",
        "ul {\n",
        "  margin: 0;\n",
        "  padding: 0;\n",
        "}\n",
        "\n",
        "/* Style the list items */\n",
        "ul li {\n",
        "  cursor: pointer;\n",
        "  position: relative;\n",
        "  padding: 12px 8px 12px 40px;\n",
        "  background: #eee;\n",
        "  font-size: 18px;\n",
        "  transition: 0.2s;\n",
        "\n",
        "  /* make the list items unselectable */\n",
        "  -webkit-user-select: none;\n",
        "  -moz-user-select: none;\n",
        "  -ms-user-select: none;\n",
        "  user-select: none;\n",
        "}\n",
        "\n",
        "/* Set all odd list items to a different color (zebra-stripes) */\n",
        "ul li:nth-child(odd) {\n",
        "  background: #f9f9f9;\n",
        "}\n",
        "\n",
        "/* Darker background-color on hover */\n",
        "ul li:hover {\n",
        "  background: #ddd;\n",
        "}\n",
        "\n",
        "/* When clicked on, add a background color and strike out text */\n",
        "ul li.checked {\n",
        "  background: #888;\n",
        "  color: #fff;\n",
        "  text-decoration: line-through;\n",
        "}\n",
        "\n",
        "/* Add a \"checked\" mark when clicked on */\n",
        "ul li.checked::before {\n",
        "  content: '';\n",
        "  position: absolute;\n",
        "  border-color: #fff;\n",
        "  border-style: solid;\n",
        "  border-width: 0 2px 2px 0;\n",
        "  top: 10px;\n",
        "  left: 16px;\n",
        "  transform: rotate(45deg);\n",
        "  height: 15px;\n",
        "  width: 7px;\n",
        "}\n",
        "\n",
        "/* Style the close button */\n",
        ".close {\n",
        "  position: absolute;\n",
        "  right: 0;\n",
        "  top: 0;\n",
        "  padding: 12px 16px 12px 16px;\n",
        "}\n",
        "\n",
        ".close:hover {\n",
        "  background-color: #f44336;\n",
        "  color: white;\n",
        "}\n",
        "\n",
        "/* Style the header */\n",
        ".header {\n",
        "  background-color: #f44336;\n",
        "  padding: 30px 40px;\n",
        "  color: white;\n",
        "  text-align: center;\n",
        "}\n",
        "\n",
        "/* Clear floats after the header */\n",
        ".header:after {\n",
        "  content: \"\";\n",
        "  display: table;\n",
        "  clear: both;\n",
        "}\n",
        "\n",
        "/* Style the input */\n",
        "input {\n",
        "  margin: 0;\n",
        "  border: none;\n",
        "  border-radius: 0;\n",
        "  width: 75%;\n",
        "  padding: 10px;\n",
        "  float: left;\n",
        "  font-size: 16px;\n",
        "}\n",
        "\n",
        "/* Style the \"Add\" button */\n",
        ".addBtn {\n",
        "  padding: 10px;\n",
        "  width: 25%;\n",
        "  background: #d9d9d9;\n",
        "  color: #555;\n",
        "  float: left;\n",
        "  text-align: center;\n",
        "  font-size: 16px;\n",
        "  cursor: pointer;\n",
        "  transition: 0.3s;\n",
        "  border-radius: 0;\n",
        "}\n",
        "\n",
        ".addBtn:hover {\n",
        "  background-color: #bbb;\n",
        "}"
      ],
      "metadata": {
        "id": "QyBmNu1Is9lS"
      },
      "execution_count": null,
      "outputs": []
    }
  ]
}