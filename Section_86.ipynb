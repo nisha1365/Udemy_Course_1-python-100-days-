{
  "nbformat": 4,
  "nbformat_minor": 0,
  "metadata": {
    "colab": {
      "provenance": [],
      "authorship_tag": "ABX9TyMwwFKK7xoU0QaEBgT9B74I",
      "include_colab_link": true
    },
    "kernelspec": {
      "name": "python3",
      "display_name": "Python 3"
    },
    "language_info": {
      "name": "python"
    }
  },
  "cells": [
    {
      "cell_type": "markdown",
      "metadata": {
        "id": "view-in-github",
        "colab_type": "text"
      },
      "source": [
        "<a href=\"https://colab.research.google.com/github/nisha1365/Udemy_Course_1-python-100-days-/blob/main/Section_86.ipynb\" target=\"_parent\"><img src=\"https://colab.research.google.com/assets/colab-badge.svg\" alt=\"Open In Colab\"/></a>"
      ]
    },
    {
      "cell_type": "markdown",
      "source": [
        "Using Python Turtle, build a clone of the 80s hit game Breakout."
      ],
      "metadata": {
        "id": "-KwXIRkloz1A"
      }
    },
    {
      "cell_type": "code",
      "source": [
        "from turtle import Turtle,mainloop,listen,onkeypress,tracer,Vec2D,bgcolor\n",
        "from random import choice,randint\n",
        "\n",
        "class Target(Turtle):\n",
        "    colors = ['green','orange','yellow','pink','purple','gold','gray','brown','white']\n",
        "    def __init__(self,x,y):\n",
        "        super().__init__()\n",
        "        self.white = False\n",
        "        self.shapesize(1,2.5)\n",
        "        self.color(choice(self.colors))\n",
        "        self.shape('square')\n",
        "        self.penup()\n",
        "        self.goto(x,y)\n",
        "class Player(Turtle):\n",
        "    def __init__(self):\n",
        "        super().__init__()\n",
        "        self.shapesize(1,5)\n",
        "        self.color('blue')\n",
        "        self.shape('square')\n",
        "        self.penup()\n",
        "        self.goto(0,-300)\n",
        "    def goleft(self):\n",
        "        if self.xcor() >= -240:\n",
        "            self.setx(self.xcor()-10)\n",
        "    def goright(self):\n",
        "        if self.xcor() <= 240:\n",
        "            self.setx(self.xcor()+10)\n",
        "class Ball(Turtle):\n",
        "    def __init__(self):\n",
        "        super().__init__()\n",
        "        self.shapesize(1)\n",
        "        self.color('red')\n",
        "        self.shape('circle')\n",
        "        self.penup()\n",
        "class Game:\n",
        "    tx,ty = -250,300\n",
        "    dy = 1\n",
        "    dx = choice([-.5,.5])\n",
        "    targets = []\n",
        "    def __init__(self):\n",
        "        tracer(0)\n",
        "        self.pl = Player()\n",
        "        self.ball = Ball()\n",
        "        for _ in range(5):\n",
        "            for _ in range(10):\n",
        "                target = Target(self.tx, self.ty)\n",
        "                self.targets.append(target)\n",
        "                self.tx += 55\n",
        "            self.ty -= 25\n",
        "            self.tx = -250\n",
        "        tracer(1)\n",
        "    def update(self):\n",
        "        if self.ball.ycor() < -300:\n",
        "            exit()\n",
        "        if self.ball.ycor() > 300:\n",
        "            self.dy *= -1\n",
        " \n",
        "        if self.ball.ycor() >= 175:\n",
        "            for target in self.targets:\n",
        "                if not target.white:\n",
        "                    if self.ball.ycor() >= target.ycor() - 25:\n",
        "                        if self.ball.xcor() >= target.xcor() - 25:\n",
        "                            if self.ball.xcor() <= target.xcor() + 25:\n",
        "                                self.dy *= -1\n",
        "                                target.color('black')\n",
        "                                target.white = True\n",
        "                                break\n",
        "        \n",
        "        if self.ball.xcor() <= -270 or self.ball.xcor() >= 260:\n",
        "            self.dx *= -1\n",
        "        if self.ball.ycor() <= self.pl.ycor()+25:\n",
        "            if self.ball.xcor() >= self.pl.xcor() - 50:\n",
        "                if self.ball.xcor() <= self.pl.xcor() + 50:\n",
        "                    self.dy *= -1\n",
        "        self.ball.setpos(self.ball.xcor()+self.dx*3,self.ball.ycor()- self.dy*3)\n",
        "        \n",
        "def enable_keys(pl):\n",
        "    onkeypress(pl.goleft, \"Left\")\n",
        "    onkeypress(pl.goright, \"Right\")\n",
        "def start():\n",
        "    bgcolor(0,0,0)\n",
        "    game = Game()\n",
        "    enable_keys(game.pl)\n",
        "    listen()\n",
        "\n",
        "    \n",
        "    while 1:\n",
        "        game.update()\n",
        "if __name__ == '__main__':\n",
        "    start()\n",
        "    mainloop()"
      ],
      "metadata": {
        "id": "IZtT5i1-o0uh"
      },
      "execution_count": null,
      "outputs": []
    }
  ]
}