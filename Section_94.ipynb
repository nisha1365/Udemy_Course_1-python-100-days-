{
  "nbformat": 4,
  "nbformat_minor": 0,
  "metadata": {
    "colab": {
      "provenance": [],
      "authorship_tag": "ABX9TyPw2vNaXCOHiNMd0wyLXts8",
      "include_colab_link": true
    },
    "kernelspec": {
      "name": "python3",
      "display_name": "Python 3"
    },
    "language_info": {
      "name": "python"
    }
  },
  "cells": [
    {
      "cell_type": "markdown",
      "metadata": {
        "id": "view-in-github",
        "colab_type": "text"
      },
      "source": [
        "<a href=\"https://colab.research.google.com/github/nisha1365/Udemy_Course_1-python-100-days-/blob/main/Section_94.ipynb\" target=\"_parent\"><img src=\"https://colab.research.google.com/assets/colab-badge.svg\" alt=\"Open In Colab\"/></a>"
      ]
    },
    {
      "cell_type": "code",
      "execution_count": null,
      "metadata": {
        "id": "lyYgWvt11XGj"
      },
      "outputs": [],
      "source": []
    },
    {
      "cell_type": "markdown",
      "source": [
        "Space Invader"
      ],
      "metadata": {
        "id": "n4gGFPer1azb"
      }
    },
    {
      "cell_type": "code",
      "source": [
        "# Collision\n",
        "collision = isCollision(bullet_X, invader_X[i], bullet_Y, invader_Y[i])\n",
        "if collision:\n",
        "        score_val += 1\n",
        "        bullet_Y = 600\n",
        "        bullet_state = \"rest\"\n",
        "        invader_X[i] = random.randint(64, 736)\n",
        "        invader_Y[i] = random.randint(30, 200)\n",
        "        invader_Xchange[i] *= -1"
      ],
      "metadata": {
        "id": "e0hlv_in1tLa"
      },
      "execution_count": null,
      "outputs": []
    },
    {
      "cell_type": "code",
      "source": [
        "def isCollision(x1, x2, y1, y2):\n",
        "    distance = math.sqrt((math.pow(x1 - x2, 2)) + (math.pow(y1 - y2, 2)))\n",
        "    if distance <= 50:\n",
        "        return True\n",
        "    else:\n",
        "        return False"
      ],
      "metadata": {
        "id": "kQ7GENN61rAd"
      },
      "execution_count": null,
      "outputs": []
    },
    {
      "cell_type": "code",
      "source": [
        "# movement of the invader\n",
        "for i in range(no_of_invaders):\n",
        " \n",
        "        if invader_Y[i] >= 450:\n",
        "            if abs(player_X-invader_X[i]) < 80:\n",
        "                for j in range(no_of_invaders):\n",
        "                    invader_Y[j] = 2000\n",
        "                    explosion_sound = mixer.Sound('data/explosion.wav')\n",
        "                    explosion_sound.play()\n",
        "                game_over()\n",
        "                break"
      ],
      "metadata": {
        "id": "wadJVOwV1oyG"
      },
      "execution_count": null,
      "outputs": []
    },
    {
      "cell_type": "code",
      "source": [
        "# y-coordinate of invader more than 450\n",
        "if invader_Y[i] >= 450:\n",
        "   \n",
        "        # distance between the x-coordinate of invader\n",
        "        # and spaceship\n",
        "        if abs(player_X-invader_X[i]) < 80:\n",
        "            #....... rest code .....#"
      ],
      "metadata": {
        "id": "oAKZmRV51kIB"
      },
      "execution_count": null,
      "outputs": []
    },
    {
      "cell_type": "code",
      "source": [
        "\n",
        "def show_score(x, y):\n",
        "    score = font.render(\"Points: \" + str(score_val),\n",
        "                        True, (255, 255, 255))\n",
        "    screen.blit(score, (x, y))"
      ],
      "metadata": {
        "id": "wvPBRKEw1gGH"
      },
      "execution_count": null,
      "outputs": []
    },
    {
      "cell_type": "code",
      "source": [
        "import pygame\n",
        "import random\n",
        "import math\n",
        "from pygame import mixer\n",
        " \n",
        "# initializing pygame\n",
        "pygame.init()\n",
        " \n",
        "# creating screen\n",
        "screen_width = 800\n",
        "screen_height = 600\n",
        "screen = pygame.display.set_mode((screen_width,\n",
        "                                  screen_height))\n",
        " \n",
        "# caption and icon\n",
        "pygame.display.set_caption(\"Welcome to Space\\\n",
        "Invaders Game by:- styles\")\n",
        " \n",
        " \n",
        "# Score\n",
        "score_val = 0\n",
        "scoreX = 5\n",
        "scoreY = 5\n",
        "font = pygame.font.Font('freesansbold.ttf', 20)\n",
        " \n",
        "# Game Over\n",
        "game_over_font = pygame.font.Font('freesansbold.ttf', 64)\n",
        " \n",
        " \n",
        "def show_score(x, y):\n",
        "    score = font.render(\"Points: \" + str(score_val),\n",
        "                        True, (255,255,255))\n",
        "    screen.blit(score, (x , y ))\n",
        " \n",
        "def game_over():\n",
        "    game_over_text = game_over_font.render(\"GAME OVER\",\n",
        "                                           True, (255,255,255))\n",
        "    screen.blit(game_over_text, (190, 250))\n",
        " \n",
        "# Background Sound\n",
        "mixer.music.load('data/background.wav')\n",
        "mixer.music.play(-1)\n",
        " \n",
        "# player\n",
        "playerImage = pygame.image.load('data/spaceship.png')\n",
        "player_X = 370\n",
        "player_Y = 523\n",
        "player_Xchange = 0\n",
        " \n",
        "# Invader\n",
        "invaderImage = []\n",
        "invader_X = []\n",
        "invader_Y = []\n",
        "invader_Xchange = []\n",
        "invader_Ychange = []\n",
        "no_of_invaders = 8\n",
        " \n",
        "for num in range(no_of_invaders):\n",
        "    invaderImage.append(pygame.image.load('data/alien.png'))\n",
        "    invader_X.append(random.randint(64, 737))\n",
        "    invader_Y.append(random.randint(30, 180))\n",
        "    invader_Xchange.append(1.2)\n",
        "    invader_Ychange.append(50)\n",
        " \n",
        "# Bullet\n",
        "# rest - bullet is not moving\n",
        "# fire - bullet is moving\n",
        "bulletImage = pygame.image.load('data/bullet.png')\n",
        "bullet_X = 0\n",
        "bullet_Y = 500\n",
        "bullet_Xchange = 0\n",
        "bullet_Ychange = 3\n",
        "bullet_state = \"rest\"\n",
        " \n",
        "# Collision Concept\n",
        "def isCollision(x1, x2, y1, y2):\n",
        "    distance = math.sqrt((math.pow(x1 - x2,2)) +\n",
        "                         (math.pow(y1 - y2,2)))\n",
        "    if distance <= 50:\n",
        "        return True\n",
        "    else:\n",
        "        return False\n",
        " \n",
        "def player(x, y):\n",
        "    screen.blit(playerImage, (x - 16, y + 10))\n",
        " \n",
        "def invader(x, y, i):\n",
        "    screen.blit(invaderImage[i], (x, y))\n",
        " \n",
        "def bullet(x, y):\n",
        "    global bullet_state\n",
        "    screen.blit(bulletImage, (x, y))\n",
        "    bullet_state = \"fire\"\n",
        " \n",
        "# game loop\n",
        "running = True\n",
        "while running:\n",
        " \n",
        "    # RGB\n",
        "    screen.fill((0, 0, 0))\n",
        "    for event in pygame.event.get():\n",
        "        if event.type == pygame.QUIT:\n",
        "            running = False\n",
        " \n",
        "        # Controlling the player movement\n",
        "        # from the arrow keys\n",
        "        if event.type == pygame.KEYDOWN:\n",
        "            if event.key == pygame.K_LEFT:\n",
        "                player_Xchange = -1.7\n",
        "            if event.key == pygame.K_RIGHT:\n",
        "                player_Xchange = 1.7\n",
        "            if event.key == pygame.K_SPACE:\n",
        "               \n",
        "                # Fixing the change of direction of bullet\n",
        "                if bullet_state is \"rest\":\n",
        "                    bullet_X = player_X\n",
        "                    bullet(bullet_X, bullet_Y)\n",
        "                    bullet_sound = mixer.Sound('data/bullet.wav')\n",
        "                    bullet_sound.play()\n",
        "        if event.type == pygame.KEYUP:\n",
        "            player_Xchange = 0\n",
        " \n",
        "    # adding the change in the player position\n",
        "    player_X += player_Xchange\n",
        "    for i in range(no_of_invaders):\n",
        "        invader_X[i] += invader_Xchange[i]\n",
        " \n",
        "    # bullet movement\n",
        "    if bullet_Y <= 0:\n",
        "        bullet_Y = 600\n",
        "        bullet_state = \"rest\"\n",
        "    if bullet_state is \"fire\":\n",
        "        bullet(bullet_X, bullet_Y)\n",
        "        bullet_Y -= bullet_Ychange\n",
        " \n",
        "    # movement of the invader\n",
        "    for i in range(no_of_invaders):\n",
        "         \n",
        "        if invader_Y[i] >= 450:\n",
        "            if abs(player_X-invader_X[i]) < 80:\n",
        "                for j in range(no_of_invaders):\n",
        "                    invader_Y[j] = 2000\n",
        "                    explosion_sound = mixer.Sound('data/explosion.wav')\n",
        "                    explosion_sound.play()\n",
        "                game_over()\n",
        "                break\n",
        " \n",
        "        if invader_X[i] >= 735 or invader_X[i] <= 0:\n",
        "            invader_Xchange[i] *= -1\n",
        "            invader_Y[i] += invader_Ychange[i]\n",
        "        # Collision\n",
        "        collision = isCollision(bullet_X, invader_X[i],\n",
        "                                bullet_Y, invader_Y[i])\n",
        "        if collision:\n",
        "            score_val += 1\n",
        "            bullet_Y = 600\n",
        "            bullet_state = \"rest\"\n",
        "            invader_X[i] = random.randint(64, 736)\n",
        "            invader_Y[i] = random.randint(30, 200)\n",
        "            invader_Xchange[i] *= -1\n",
        " \n",
        "        invader(invader_X[i], invader_Y[i], i)\n",
        " \n",
        " \n",
        "    # restricting the spaceship so that\n",
        "    # it doesn't go out of screen\n",
        "    if player_X <= 16:\n",
        "        player_X = 16;\n",
        "    elif player_X >= 750:\n",
        "        player_X = 750\n",
        " \n",
        " \n",
        "    player(player_X, player_Y)\n",
        "    show_score(scoreX, scoreY)\n",
        "    pygame.display.update()"
      ],
      "metadata": {
        "id": "mvsUM-ao1cEE"
      },
      "execution_count": null,
      "outputs": []
    }
  ]
}