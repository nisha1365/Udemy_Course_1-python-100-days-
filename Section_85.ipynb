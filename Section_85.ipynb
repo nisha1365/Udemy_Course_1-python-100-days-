{
  "nbformat": 4,
  "nbformat_minor": 0,
  "metadata": {
    "colab": {
      "provenance": [],
      "authorship_tag": "ABX9TyMCIRtnmeysnNuOqnsy6hrk",
      "include_colab_link": true
    },
    "kernelspec": {
      "name": "python3",
      "display_name": "Python 3"
    },
    "language_info": {
      "name": "python"
    }
  },
  "cells": [
    {
      "cell_type": "markdown",
      "metadata": {
        "id": "view-in-github",
        "colab_type": "text"
      },
      "source": [
        "<a href=\"https://colab.research.google.com/github/nisha1365/Udemy_Course_1-python-100-days-/blob/main/Section_85.ipynb\" target=\"_parent\"><img src=\"https://colab.research.google.com/assets/colab-badge.svg\" alt=\"Open In Colab\"/></a>"
      ]
    },
    {
      "cell_type": "code",
      "source": [
        "from time import time\n",
        "\n",
        "# calculate the accuracy of input prompt\n",
        "def typingErrors(prompt):\n",
        "    global iwords\n",
        "\n",
        "    words = prompt.split()\n",
        "    errors = 0\n",
        "\n",
        "    for i in range(len(iwords)):\n",
        "        if i in (0, len(iwords)-1):\n",
        "            if iwords[i] == words[i]:\n",
        "                continue\n",
        "            else:\n",
        "                errors +=1\n",
        "        else:\n",
        "            if iwords[i] == words[i]:\n",
        "                if (iwords[i+1] == words[i+1]) & (iwords[i-1] == words[i-1]):\n",
        "                    continue\n",
        "                else:\n",
        "                    errors += 1\n",
        "            else:\n",
        "                errors += 1\n",
        "    return errors\n",
        "\n",
        "# calculate the speed in words per minute\n",
        "def typingSpeed(iprompt, stime, etime):\n",
        "    global time\n",
        "    global iwords\n",
        "\n",
        "    iwords = iprompt.split()\n",
        "    twords = len(iwords)\n",
        "    speed = twords / time\n",
        "\n",
        "    return speed\n",
        "\n",
        "# calculate total time elapsed\n",
        "def timeElapsed(stime, etime):\n",
        "    time = etime - stime\n",
        "\n",
        "    return time\n",
        "\n",
        "if __name__ == '__main__':\n",
        "    prompt = \"Hi, my name is Aman Kharwal, I am a coding instructor.\"\n",
        "    print(\"Type this:- '\", prompt, \"'\")\n",
        "\n",
        "    # listening to input ENTER\n",
        "    input(\"press ENTER when you are ready!\")\n",
        "\n",
        "    # recording time for input\n",
        "    stime = time()\n",
        "    iprompt = input()\n",
        "    etime = time()\n",
        "\n",
        "    # gather all the information returned from functions\n",
        "    time = round(timeElapsed(stime, etime), 2)\n",
        "    speed = typingSpeed(iprompt, stime, etime)\n",
        "    errors = typingErrors(prompt)\n",
        "\n",
        "    # printing all the required data\n",
        "    print(\"Total Time elapsed : \", time, \"s\")\n",
        "    print(\"Your Average Typing Speed was : \", speed, \"words / minute\")\n",
        "    print(\"With a total of : \", errors, \"errors\")"
      ],
      "metadata": {
        "id": "65Qy1CFp79_s"
      },
      "execution_count": null,
      "outputs": []
    }
  ]
}