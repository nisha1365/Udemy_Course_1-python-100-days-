{
  "nbformat": 4,
  "nbformat_minor": 0,
  "metadata": {
    "colab": {
      "provenance": [],
      "authorship_tag": "ABX9TyNKmi0i6Et1B/WDUVkXH+k7",
      "include_colab_link": true
    },
    "kernelspec": {
      "name": "python3",
      "display_name": "Python 3"
    },
    "language_info": {
      "name": "python"
    }
  },
  "cells": [
    {
      "cell_type": "markdown",
      "metadata": {
        "id": "view-in-github",
        "colab_type": "text"
      },
      "source": [
        "<a href=\"https://colab.research.google.com/github/nisha1365/Udemy_Course_1-python-100-days-/blob/main/Section_11.ipynb\" target=\"_parent\"><img src=\"https://colab.research.google.com/assets/colab-badge.svg\" alt=\"Open In Colab\"/></a>"
      ]
    },
    {
      "cell_type": "code",
      "source": [
        "import random"
      ],
      "metadata": {
        "id": "lIty3C6cG2qg"
      },
      "execution_count": 4,
      "outputs": []
    },
    {
      "cell_type": "markdown",
      "source": [
        "BLACK-JACK PROJECT"
      ],
      "metadata": {
        "id": "AzXlYQX6Hgco"
      }
    },
    {
      "cell_type": "code",
      "source": [
        "def deal_card():\n",
        "  \"\"\"Returns a random card from the deck.\"\"\"\n",
        "  cards = [11, 2, 3, 4, 5, 6, 7, 8, 9, 10, 10, 10, 10]\n",
        "  card = random.choice(cards)\n",
        "  return card\n",
        "\n",
        "#Hint 6: Create a function called calculate_score() that takes a List of cards as input \n",
        "#and returns the score. \n",
        "#Look up the sum() function to help you do this.\n",
        "def calculate_score(cards):\n",
        "  \"\"\"Take a list of cards and return the score calculated from the cards\"\"\"\n",
        "\n",
        "  #Hint 7: Inside calculate_score() check for a blackjack (a hand with only 2 cards: ace + 10) and return 0 instead of the actual score. 0 will represent a blackjack in our game.\n",
        "  if sum(cards) == 21 and len(cards) == 2:\n",
        "    return 0\n",
        "  #Hint 8: Inside calculate_score() check for an 11 (ace). If the score is already over 21, remove the 11 and replace it with a 1. You might need to look up append() and remove().\n",
        "  if 11 in cards and sum(cards) > 21:\n",
        "    cards.remove(11)\n",
        "    cards.append(1)\n",
        "  return sum(cards)\n",
        "\n",
        "#Hint 13: Create a function called compare() and pass in the user_score and computer_score. If the computer and user both have the same score, then it's a draw. If the computer has a blackjack (0), then the user loses. If the user has a blackjack (0), then the user wins. If the user_score is over 21, then the user loses. If the computer_score is over 21, then the computer loses. If none of the above, then the player with the highest score wins.\n",
        "def compare(user_score, computer_score):\n",
        "  #Bug fix. If you and the computer are both over, you lose.\n",
        "  if user_score > 21 and computer_score > 21:\n",
        "    return \"You went over. You lose 😤\"\n",
        "\n",
        "\n",
        "  if user_score == computer_score:\n",
        "    return \"Draw 🙃\"\n",
        "  elif computer_score == 0:\n",
        "    return \"Lose, opponent has Blackjack 😱\"\n",
        "  elif user_score == 0:\n",
        "    return \"Win with a Blackjack 😎\"\n",
        "  elif user_score > 21:\n",
        "    return \"You went over. You lose 😭\"\n",
        "  elif computer_score > 21:\n",
        "    return \"Opponent went over. You win 😁\"\n",
        "  elif user_score > computer_score:\n",
        "    return \"You win 😃\"\n",
        "  else:\n",
        "    return \"You lose 😤\"\n",
        "\n",
        "def play_game():\n",
        "\n",
        " \n",
        "\n",
        "  #Hint 5: Deal the user and computer 2 cards each using deal_card()\n",
        "  user_cards = []\n",
        "  computer_cards = []\n",
        "  is_game_over = False\n",
        "\n",
        "  for _ in range(2):\n",
        "    user_cards.append(deal_card())\n",
        "    computer_cards.append(deal_card())\n",
        "\n",
        "  #Hint 11: The score will need to be rechecked with every new card drawn and the checks in Hint 9 need to be repeated until the game ends.\n",
        "\n",
        "  while not is_game_over:\n",
        "    #Hint 9: Call calculate_score(). If the computer or the user has a blackjack (0) or if the user's score is over 21, then the game ends.\n",
        "    user_score = calculate_score(user_cards)\n",
        "    computer_score = calculate_score(computer_cards)\n",
        "    print(f\"   Your cards: {user_cards}, current score: {user_score}\")\n",
        "    print(f\"   Computer's first card: {computer_cards[0]}\")\n",
        "\n",
        "    if user_score == 0 or computer_score == 0 or user_score > 21:\n",
        "      is_game_over = True\n",
        "    else:\n",
        "      #Hint 10: If the game has not ended, ask the user if they want to draw another card. If yes, then use the deal_card() function to add another card to the user_cards List. If no, then the game has ended.\n",
        "      user_should_deal = input(\"Type 'y' to get another card, type 'n' to pass: \")\n",
        "      if user_should_deal == \"y\":\n",
        "        user_cards.append(deal_card())\n",
        "      else:\n",
        "        is_game_over = True\n",
        "\n",
        "  #Hint 12: Once the user is done, it's time to let the computer play. The computer should keep drawing cards as long as it has a score less than 17.\n",
        "  while computer_score != 0 and computer_score < 17:\n",
        "    computer_cards.append(deal_card())\n",
        "    computer_score = calculate_score(computer_cards)\n",
        "\n",
        "  print(f\"   Your final hand: {user_cards}, final score: {user_score}\")\n",
        "  print(f\"   Computer's final hand: {computer_cards}, final score: {computer_score}\")\n",
        "  print(compare(user_score, computer_score))\n",
        "\n",
        "#Hint 14: Ask the user if they want to restart the game. If they answer yes, clear the console and start a new game of blackjack and show the logo from art.py.\n",
        "while input(\"Do you want to play a game of Blackjack? Type 'y' or 'n': \") == \"y\":\n",
        " \n",
        "  play_game()\n"
      ],
      "metadata": {
        "colab": {
          "base_uri": "https://localhost:8080/"
        },
        "id": "N6XZqNIfG4Dl",
        "outputId": "c0dfb850-8188-4449-d07e-c3efe5d56f40"
      },
      "execution_count": 6,
      "outputs": [
        {
          "name": "stdout",
          "output_type": "stream",
          "text": [
            "Do you want to play a game of Blackjack? Type 'y' or 'n': y\n",
            "   Your cards: [10, 8], current score: 18\n",
            "   Computer's first card: 8\n",
            "Type 'y' to get another card, type 'n' to pass: y\n",
            "   Your cards: [10, 8, 10], current score: 28\n",
            "   Computer's first card: 8\n",
            "   Your final hand: [10, 8, 10], final score: 28\n",
            "   Computer's final hand: [8, 5, 2, 10], final score: 25\n",
            "You went over. You lose 😤\n",
            "Do you want to play a game of Blackjack? Type 'y' or 'n': y\n",
            "   Your cards: [11, 5], current score: 16\n",
            "   Computer's first card: 9\n",
            "Type 'y' to get another card, type 'n' to pass: n\n",
            "   Your final hand: [11, 5], final score: 16\n",
            "   Computer's final hand: [9, 10], final score: 19\n",
            "You lose 😤\n",
            "Do you want to play a game of Blackjack? Type 'y' or 'n': n\n"
          ]
        }
      ]
    }
  ]
}